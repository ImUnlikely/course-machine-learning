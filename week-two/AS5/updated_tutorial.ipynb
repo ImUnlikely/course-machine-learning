{
 "metadata": {
  "language_info": {
   "codemirror_mode": {
    "name": "ipython",
    "version": 3
   },
   "file_extension": ".py",
   "mimetype": "text/x-python",
   "name": "python",
   "nbconvert_exporter": "python",
   "pygments_lexer": "ipython3",
   "version": "3.8.2-final"
  },
  "orig_nbformat": 2,
  "kernelspec": {
   "name": "python38264bitc4b27e4dae3c4699860ff02916ead089",
   "display_name": "Python 3.8.2 64-bit"
  }
 },
 "nbformat": 4,
 "nbformat_minor": 2,
 "cells": [
  {
   "cell_type": "code",
   "execution_count": 1,
   "metadata": {},
   "outputs": [],
   "source": [
    "import pandas as pd\n",
    "random_state = 44233\n",
    "\n",
    "df = pd.read_csv(\"drug200.csv\")"
   ]
  },
  {
   "cell_type": "code",
   "execution_count": 2,
   "metadata": {},
   "outputs": [],
   "source": [
    "X = df[[\"Age\", \"Sex\", \"BP\", \"Cholesterol\", \"Na_to_K\"]]\n",
    "y = df[\"Drug\"]"
   ]
  },
  {
   "cell_type": "code",
   "execution_count": 3,
   "metadata": {},
   "outputs": [],
   "source": [
    "sex = pd.get_dummies(X[\"Sex\"], drop_first=False)\n",
    "X = X.drop(\"Sex\", axis=1)\n",
    "X = pd.concat([X, sex], axis=1)"
   ]
  },
  {
   "cell_type": "code",
   "execution_count": 4,
   "metadata": {
    "tags": []
   },
   "outputs": [
    {
     "output_type": "stream",
     "name": "stdout",
     "text": "['HIGH' 'LOW' 'NORMAL']\n['HIGH' 'NORMAL']\n"
    }
   ],
   "source": [
    "print(X.BP.unique())\n",
    "print(X.Cholesterol.unique())"
   ]
  },
  {
   "cell_type": "code",
   "execution_count": 5,
   "metadata": {},
   "outputs": [],
   "source": [
    "dic_to_replace = {\n",
    "    \"BP\": \n",
    "        {\"LOW\": 0, \"NORMAL\": 1, \"HIGH\": 2},\n",
    "    \"Cholesterol\": \n",
    "        {\"HIGH\": 1, \"NORMAL\": 0}\n",
    "}\n",
    "\n",
    "X.replace(dic_to_replace, inplace=True)"
   ]
  },
  {
   "cell_type": "code",
   "execution_count": 6,
   "metadata": {
    "tags": []
   },
   "outputs": [
    {
     "output_type": "stream",
     "name": "stdout",
     "text": "[2 0 1]\n[1 0]\n"
    }
   ],
   "source": [
    "print(X.BP.unique())\n",
    "print(X.Cholesterol.unique())\n",
    "XCOLS = X.columns"
   ]
  },
  {
   "cell_type": "code",
   "execution_count": 7,
   "metadata": {},
   "outputs": [],
   "source": [
    "# By running the standard scaler the accuracy will go from 45% to 50%\n",
    "# By running the min max scaler the accuracy will go from 45% to 42.5%\n",
    "\n",
    "def scale_standard(X):\n",
    "    from sklearn.preprocessing import StandardScaler\n",
    "    scaler = StandardScaler() \n",
    "    X = scaler.fit_transform(X)\n",
    "    return X\n",
    "\n",
    "def scale_min_max(X):\n",
    "    from sklearn.preprocessing import MinMaxScaler\n",
    "    scaler = MinMaxScaler() \n",
    "    X = scaler.fit_transform(X)\n",
    "    return X\n",
    "\n",
    "# X = scale_standard(X)\n",
    "# X = scale_min_max(X)"
   ]
  },
  {
   "cell_type": "code",
   "execution_count": 8,
   "metadata": {},
   "outputs": [
    {
     "output_type": "execute_result",
     "data": {
      "text/plain": "   Age  BP  Cholesterol  Na_to_K  F  M\n0   23   2            1   25.355  1  0\n1   47   0            1   13.093  0  1\n2   47   0            1   10.114  0  1\n3   28   1            1    7.798  1  0\n4   61   0            1   18.043  1  0",
      "text/html": "<div>\n<style scoped>\n    .dataframe tbody tr th:only-of-type {\n        vertical-align: middle;\n    }\n\n    .dataframe tbody tr th {\n        vertical-align: top;\n    }\n\n    .dataframe thead th {\n        text-align: right;\n    }\n</style>\n<table border=\"1\" class=\"dataframe\">\n  <thead>\n    <tr style=\"text-align: right;\">\n      <th></th>\n      <th>Age</th>\n      <th>BP</th>\n      <th>Cholesterol</th>\n      <th>Na_to_K</th>\n      <th>F</th>\n      <th>M</th>\n    </tr>\n  </thead>\n  <tbody>\n    <tr>\n      <th>0</th>\n      <td>23</td>\n      <td>2</td>\n      <td>1</td>\n      <td>25.355</td>\n      <td>1</td>\n      <td>0</td>\n    </tr>\n    <tr>\n      <th>1</th>\n      <td>47</td>\n      <td>0</td>\n      <td>1</td>\n      <td>13.093</td>\n      <td>0</td>\n      <td>1</td>\n    </tr>\n    <tr>\n      <th>2</th>\n      <td>47</td>\n      <td>0</td>\n      <td>1</td>\n      <td>10.114</td>\n      <td>0</td>\n      <td>1</td>\n    </tr>\n    <tr>\n      <th>3</th>\n      <td>28</td>\n      <td>1</td>\n      <td>1</td>\n      <td>7.798</td>\n      <td>1</td>\n      <td>0</td>\n    </tr>\n    <tr>\n      <th>4</th>\n      <td>61</td>\n      <td>0</td>\n      <td>1</td>\n      <td>18.043</td>\n      <td>1</td>\n      <td>0</td>\n    </tr>\n  </tbody>\n</table>\n</div>"
     },
     "metadata": {},
     "execution_count": 8
    }
   ],
   "source": [
    "X = pd.DataFrame(data=X, columns=XCOLS)\n",
    "X.head()"
   ]
  },
  {
   "cell_type": "code",
   "execution_count": 9,
   "metadata": {},
   "outputs": [],
   "source": [
    "drug = pd.get_dummies(y, drop_first=False)\n",
    "y = pd.concat([y, drug], axis=1)\n",
    "y = y.drop(\"Drug\", axis=1)"
   ]
  },
  {
   "cell_type": "code",
   "execution_count": 10,
   "metadata": {},
   "outputs": [
    {
     "output_type": "execute_result",
     "data": {
      "text/plain": "   drugA  drugB  drugC  drugX  drugY\n0      0      0      0      0      1\n1      0      0      1      0      0\n2      0      0      1      0      0\n3      0      0      0      1      0\n4      0      0      0      0      1",
      "text/html": "<div>\n<style scoped>\n    .dataframe tbody tr th:only-of-type {\n        vertical-align: middle;\n    }\n\n    .dataframe tbody tr th {\n        vertical-align: top;\n    }\n\n    .dataframe thead th {\n        text-align: right;\n    }\n</style>\n<table border=\"1\" class=\"dataframe\">\n  <thead>\n    <tr style=\"text-align: right;\">\n      <th></th>\n      <th>drugA</th>\n      <th>drugB</th>\n      <th>drugC</th>\n      <th>drugX</th>\n      <th>drugY</th>\n    </tr>\n  </thead>\n  <tbody>\n    <tr>\n      <th>0</th>\n      <td>0</td>\n      <td>0</td>\n      <td>0</td>\n      <td>0</td>\n      <td>1</td>\n    </tr>\n    <tr>\n      <th>1</th>\n      <td>0</td>\n      <td>0</td>\n      <td>1</td>\n      <td>0</td>\n      <td>0</td>\n    </tr>\n    <tr>\n      <th>2</th>\n      <td>0</td>\n      <td>0</td>\n      <td>1</td>\n      <td>0</td>\n      <td>0</td>\n    </tr>\n    <tr>\n      <th>3</th>\n      <td>0</td>\n      <td>0</td>\n      <td>0</td>\n      <td>1</td>\n      <td>0</td>\n    </tr>\n    <tr>\n      <th>4</th>\n      <td>0</td>\n      <td>0</td>\n      <td>0</td>\n      <td>0</td>\n      <td>1</td>\n    </tr>\n  </tbody>\n</table>\n</div>"
     },
     "metadata": {},
     "execution_count": 10
    }
   ],
   "source": [
    "y.head()"
   ]
  },
  {
   "cell_type": "code",
   "execution_count": 11,
   "metadata": {
    "tags": []
   },
   "outputs": [
    {
     "output_type": "stream",
     "name": "stdout",
     "text": "(160, 6)\n(40, 6)\n(160, 5)\n(40, 5)\n"
    }
   ],
   "source": [
    "from sklearn.model_selection import train_test_split\n",
    "\n",
    "X_train, X_test, y_train, y_test = train_test_split(X, y, train_size=0.8, random_state=random_state)\n",
    "\n",
    "print(X_train.shape)\n",
    "print(X_test.shape)\n",
    "print(y_train.shape)\n",
    "print(y_test.shape)"
   ]
  },
  {
   "cell_type": "code",
   "execution_count": 12,
   "metadata": {},
   "outputs": [
    {
     "output_type": "execute_result",
     "data": {
      "text/plain": "DecisionTreeClassifier(criterion='entropy')"
     },
     "metadata": {},
     "execution_count": 12
    }
   ],
   "source": [
    "from sklearn.tree import DecisionTreeClassifier\n",
    "\n",
    "drugTree = DecisionTreeClassifier(criterion=\"entropy\")\n",
    "\n",
    "drugTree.fit(X_train, y_train)"
   ]
  },
  {
   "cell_type": "code",
   "execution_count": 13,
   "metadata": {},
   "outputs": [],
   "source": [
    "y_pred = drugTree.predict(X_test) # Predict y values\n",
    "y_test = y_test.to_numpy()        # Convert real y values to array"
   ]
  },
  {
   "cell_type": "code",
   "execution_count": 14,
   "metadata": {
    "tags": []
   },
   "outputs": [
    {
     "output_type": "stream",
     "name": "stdout",
     "text": "[0 0 0 0 1] [0 0 0 0 1] Correct!\n[1 0 0 0 0] [1 0 0 0 0] Correct!\n[0 0 0 0 1] [0 0 0 0 1] Correct!\n[0 0 1 0 0] [0 0 1 0 0] Correct!\n[0 0 1 0 0] [0 0 1 0 0] Correct!\n[0 0 0 0 1] [0 0 0 0 1] Correct!\n[0 1 0 0 0] [0 1 0 0 0] Correct!\n[0 0 0 0 1] [0 0 0 0 1] Correct!\n[0 0 1 0 0] [0 0 1 0 0] Correct!\n[0 0 0 1 0] [0 0 0 1 0] Correct!\n[0 0 0 0 1] [0 0 0 0 1] Correct!\n[0 0 0 1 0] [0 0 0 0 1] Incorrect!\n[0 0 0 1 0] [0 0 0 1 0] Correct!\n[1 0 0 0 0] [1 0 0 0 0] Correct!\n[0 0 0 0 1] [0 0 0 0 1] Correct!\n[0 0 0 1 0] [0 0 0 1 0] Correct!\n[0 0 0 1 0] [0 0 0 1 0] Correct!\n[0 0 0 1 0] [0 0 0 1 0] Correct!\n[0 1 0 0 0] [0 1 0 0 0] Correct!\n[0 0 0 0 1] [0 0 0 0 1] Correct!\n[0 0 0 0 1] [0 0 0 0 1] Correct!\n[0 0 0 1 0] [0 0 0 1 0] Correct!\n[0 0 0 0 1] [0 0 0 0 1] Correct!\n[0 0 0 1 0] [0 0 0 1 0] Correct!\n[0 0 0 0 1] [0 0 0 0 1] Correct!\n[1 0 0 0 0] [1 0 0 0 0] Correct!\n[0 0 0 1 0] [0 0 0 1 0] Correct!\n[0 0 0 0 1] [0 0 0 0 1] Correct!\n[1 0 0 0 0] [1 0 0 0 0] Correct!\n[0 1 0 0 0] [0 1 0 0 0] Correct!\n[0 0 0 0 1] [0 0 0 0 1] Correct!\n[1 0 0 0 0] [1 0 0 0 0] Correct!\n[0 0 1 0 0] [0 0 1 0 0] Correct!\n[0 0 0 0 1] [0 0 0 0 1] Correct!\n[0 0 0 0 1] [0 0 0 0 1] Correct!\n[0 0 1 0 0] [0 0 1 0 0] Correct!\n[0 0 0 0 1] [0 0 0 0 1] Correct!\n[0 0 0 0 1] [0 0 0 0 1] Correct!\n[0 0 0 0 1] [0 0 0 0 1] Correct!\n[0 0 0 0 1] [0 0 0 0 1] Correct!\n97.5% accuracy\n"
    }
   ],
   "source": [
    "correct = 0\n",
    "incorrect = 0\n",
    "for real, pred in zip(y_test, y_pred):\n",
    "    print(real, pred, end=\"\")\n",
    "    if list(real) == list(pred):\n",
    "        print(\" Correct!\")\n",
    "        correct+=1\n",
    "    elif list(real) != list(pred):\n",
    "        print(\" Incorrect!\")\n",
    "        incorrect+=1\n",
    "\n",
    "print(f\"{correct/len(y_test)*100}% accuracy\")"
   ]
  },
  {
   "cell_type": "code",
   "execution_count": 15,
   "metadata": {
    "tags": []
   },
   "outputs": [
    {
     "output_type": "stream",
     "name": "stdout",
     "text": "97.5% accuracy\n"
    }
   ],
   "source": [
    "from sklearn.metrics import accuracy_score\n",
    "\n",
    "print(f\"{accuracy_score(y_test, y_pred)*100}% accuracy\")"
   ]
  },
  {
   "cell_type": "markdown",
   "metadata": {},
   "source": [
    "# Results without Na_to_K:\n",
    "## Accuracy without scaled data: 45%\n",
    "## Accuracy with standard scaled data: 50%\n",
    "## Accuracy with min max scaled data: 42.5%\n",
    "\n",
    "# Results with Na_to_K:\n",
    "## Accuracy without scaled data: 97.5%\n",
    "## Accuracy with standard scaled data: 97.5%\n",
    "## Accuracy with min max scaled data: 95%\n",
    "\n",
    "Min max scaler is normalization\n",
    "\n",
    "# Conclusions:\n",
    "Use standard scaled data (standardization) when data has varying scales (age 0-100 and BP 0-1)"
   ]
  },
  {
   "cell_type": "code",
   "execution_count": null,
   "metadata": {},
   "outputs": [],
   "source": []
  }
 ]
}