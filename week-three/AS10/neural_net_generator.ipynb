{
 "metadata": {
  "language_info": {
   "codemirror_mode": {
    "name": "ipython",
    "version": 3
   },
   "file_extension": ".py",
   "mimetype": "text/x-python",
   "name": "python",
   "nbconvert_exporter": "python",
   "pygments_lexer": "ipython3",
   "version": "3.8.2-final"
  },
  "orig_nbformat": 2,
  "kernelspec": {
   "name": "python38264bitc4b27e4dae3c4699860ff02916ead089",
   "display_name": "Python 3.8.2 64-bit"
  }
 },
 "nbformat": 4,
 "nbformat_minor": 2,
 "cells": [
  {
   "cell_type": "code",
   "execution_count": 1,
   "metadata": {},
   "outputs": [],
   "source": [
    "from random import random, seed\n",
    "import json\n",
    "\n",
    "def print_json_dump(dump):\n",
    "    print(json.dumps(dump, sort_keys=True, indent=4))\n",
    "\n",
    "def create_network(n_inputs:int, n_hidden_layers:int, n_neurons_for_layer:list, n_outputs:int):\n",
    "    \"\"\"Creates a neural network with layers, neurons with weights and bias, output neurons with weights and bias\n",
    "\n",
    "    Args:\n",
    "        n_inputs (int): The amount of input features\n",
    "        n_hidden_layers (int): The amount of hidden layers desired\n",
    "        n_neurons_for_layer (list): A list containing the number of neurons per hidden layer\n",
    "        n_outputs (int): Amount of output neurons wanted\n",
    "\n",
    "    Returns:\n",
    "        (dict): Your neural network\n",
    "    \"\"\"\n",
    "\n",
    "    assert len(n_neurons_for_layer) == n_hidden_layers, \\\n",
    "        (\"The length of this list needs to be the same as n_hidden_layers\")\n",
    "\n",
    "    network = []\n",
    "    current_layer = -1\n",
    "\n",
    "    for hidden_layer in range(n_hidden_layers):\n",
    "        current_layer += 1\n",
    "        layer = []\n",
    "        for nodes in range(n_neurons_for_layer[current_layer]):\n",
    "            if current_layer == 0:\n",
    "                weights = [random() for i in range(n_inputs)]\n",
    "            elif current_layer > 0:\n",
    "                weights = [random() for i in range(n_neurons_for_layer[current_layer-1])]\n",
    "\n",
    "            bias = random()\n",
    "            node = {\"weights\":weights, \"bias\":bias}\n",
    "            layer.append(node)\n",
    "\n",
    "        network.append(layer)\n",
    "\n",
    "    \n",
    "    n_output_weights = len(network[-1])\n",
    "    layer = []\n",
    "    for i in range(n_outputs):\n",
    "        weights = [random() for k in range(n_output_weights)]\n",
    "        bias = random()\n",
    "        node = {\"weights\":weights, \"bias\":bias}\n",
    "        layer.append(node)\n",
    "\n",
    "    network.append(layer)\n",
    "\n",
    "    return network"
   ]
  },
  {
   "cell_type": "code",
   "execution_count": 14,
   "metadata": {
    "tags": []
   },
   "outputs": [
    {
     "output_type": "stream",
     "name": "stdout",
     "text": "[\n    [\n        {\n            \"bias\": 0.4494910647887381,\n            \"weights\": [\n                0.13436424411240122,\n                0.8474337369372327,\n                0.763774618976614,\n                0.2550690257394217,\n                0.49543508709194095\n            ]\n        },\n        {\n            \"bias\": 0.43276706790505337,\n            \"weights\": [\n                0.651592972722763,\n                0.7887233511355132,\n                0.0938595867742349,\n                0.02834747652200631,\n                0.8357651039198697\n            ]\n        },\n        {\n            \"bias\": 0.9452706955539223,\n            \"weights\": [\n                0.762280082457942,\n                0.0021060533511106927,\n                0.4453871940548014,\n                0.7215400323407826,\n                0.22876222127045265\n            ]\n        }\n    ],\n    [\n        {\n            \"bias\": 0.5414124727934966,\n            \"weights\": [\n                0.9014274576114836,\n                0.030589983033553536,\n                0.0254458609934608\n            ]\n        },\n        {\n            \"bias\": 0.4221165755827173,\n            \"weights\": [\n                0.9391491627785106,\n                0.38120423768821243,\n                0.21659939713061338\n            ]\n        },\n        {\n            \"bias\": 0.49581224138185065,\n            \"weights\": [\n                0.029040787574867943,\n                0.22169166627303505,\n                0.43788759365057206\n            ]\n        },\n        {\n            \"bias\": 0.4596034657377336,\n            \"weights\": [\n                0.23308445025757263,\n                0.2308665415409843,\n                0.2187810373376886\n            ]\n        }\n    ],\n    [\n        {\n            \"bias\": 0.6422943629324456,\n            \"weights\": [\n                0.28978161459048557,\n                0.021489705265908876,\n                0.8375779756625729,\n                0.5564543226524334\n            ]\n        },\n        {\n            \"bias\": 0.3326951853601291,\n            \"weights\": [\n                0.1859062658947177,\n                0.9925434121760651,\n                0.8599465287952899,\n                0.12088995980580641\n            ]\n        },\n        {\n            \"bias\": 0.830035693274327,\n            \"weights\": [\n                0.7214844075832684,\n                0.7111917696952796,\n                0.9364405867994596,\n                0.4221069999614152\n            ]\n        },\n        {\n            \"bias\": 0.8461974184283128,\n            \"weights\": [\n                0.670305566414071,\n                0.3033685109329176,\n                0.5875806061435594,\n                0.8824790008318577\n            ]\n        },\n        {\n            \"bias\": 0.7974042475543028,\n            \"weights\": [\n                0.5052838205796004,\n                0.5890022579825517,\n                0.034525830151341586,\n                0.24273997354306764\n            ]\n        }\n    ],\n    [\n        {\n            \"bias\": 0.3747030205016403,\n            \"weights\": [\n                0.4143139993007743,\n                0.17300740157905092,\n                0.548798761388153,\n                0.7030407620656315,\n                0.6744858305023272\n            ]\n        },\n        {\n            \"bias\": 0.4896935204622582,\n            \"weights\": [\n                0.4389616300445631,\n                0.5084264882499818,\n                0.7784426150001458,\n                0.5209384176131452,\n                0.39325509496422606\n            ]\n        },\n        {\n            \"bias\": 0.393599686377914,\n            \"weights\": [\n                0.029574963966907064,\n                0.04348729035652743,\n                0.703382088603836,\n                0.9831877173096739,\n                0.5931837303800576\n            ]\n        }\n    ]\n]\n"
    }
   ],
   "source": [
    "seed(1)\n",
    "my_net = create_network(5, 3, [3, 4, 5], 3)\n",
    "\n",
    "print_json_dump(my_net)"
   ]
  },
  {
   "cell_type": "code",
   "execution_count": 15,
   "metadata": {
    "tags": []
   },
   "outputs": [
    {
     "output_type": "stream",
     "name": "stdout",
     "text": "[\n    [\n        {\n            \"bias\": 0.7705231398308006,\n            \"weights\": [\n                0.17034919685568128,\n                0.5022385584334831,\n                0.9820766375385342\n            ]\n        },\n        {\n            \"bias\": 0.513771663187637,\n            \"weights\": [\n                0.5396174484497788,\n                0.8602897789205496,\n                0.23217612806301458\n            ]\n        },\n        {\n            \"bias\": 0.2692794774414212,\n            \"weights\": [\n                0.9524673882682695,\n                0.5777948078012031,\n                0.45913173191066836\n            ]\n        },\n        {\n            \"bias\": 0.7836552326153898,\n            \"weights\": [\n                0.5479963094662489,\n                0.9571162814602269,\n                0.005709129450392925\n            ]\n        },\n        {\n            \"bias\": 0.8091399008724796,\n            \"weights\": [\n                0.8204859119254819,\n                0.8861795808260082,\n                0.7405034118331963\n            ]\n        },\n        {\n            \"bias\": 0.05612329752074041,\n            \"weights\": [\n                0.518678283523002,\n                0.561357864778379,\n                0.4260906796881502\n            ]\n        },\n        {\n            \"bias\": 0.5047204674288633,\n            \"weights\": [\n                0.8700101551766398,\n                0.5699993338763802,\n                0.19983942017714307\n            ]\n        },\n        {\n            \"bias\": 0.5384787957378443,\n            \"weights\": [\n                0.48492511222773416,\n                0.3567899645449557,\n                0.3460779190181549\n            ]\n        },\n        {\n            \"bias\": 0.027974984083842358,\n            \"weights\": [\n                0.6234894527975051,\n                0.6124524647827256,\n                0.4581468000997244\n            ]\n        },\n        {\n            \"bias\": 0.8610088608533248,\n            \"weights\": [\n                0.22960503127702392,\n                0.1772112589385827,\n                0.5844608707784413\n            ]\n        }\n    ],\n    [\n        {\n            \"bias\": 0.2495592256534228,\n            \"weights\": [\n                0.798438940577426,\n                0.7970975626354962,\n                0.8164373705606909,\n                0.25529404008730594,\n                0.841744832274096,\n                0.6731135254387071,\n                0.08323413780389788,\n                0.0166906301155596,\n                0.014559974924812313,\n                0.7555867752521982\n            ]\n        },\n        {\n            \"bias\": 0.3220017663873259,\n            \"weights\": [\n                0.10948862729435938,\n                0.6248020841524763,\n                0.3444228640964949,\n                0.06951537853084733,\n                0.1596255246938475,\n                0.5273803990480128,\n                0.16814494622242826,\n                0.2729144368186801,\n                0.7115899271852729,\n                0.4547016300456639\n            ]\n        }\n    ]\n]\n"
    }
   ],
   "source": [
    "my_net = create_network(3, 1, [10], 2)\n",
    "\n",
    "print_json_dump(my_net)"
   ]
  },
  {
   "cell_type": "code",
   "execution_count": null,
   "metadata": {},
   "outputs": [],
   "source": []
  }
 ]
}