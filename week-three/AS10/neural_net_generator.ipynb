{
 "metadata": {
  "language_info": {
   "codemirror_mode": {
    "name": "ipython",
    "version": 3
   },
   "file_extension": ".py",
   "mimetype": "text/x-python",
   "name": "python",
   "nbconvert_exporter": "python",
   "pygments_lexer": "ipython3",
   "version": "3.8.2-final"
  },
  "orig_nbformat": 2,
  "kernelspec": {
   "name": "python38264bitc4b27e4dae3c4699860ff02916ead089",
   "display_name": "Python 3.8.2 64-bit"
  }
 },
 "nbformat": 4,
 "nbformat_minor": 2,
 "cells": [
  {
   "cell_type": "code",
   "execution_count": 20,
   "metadata": {},
   "outputs": [],
   "source": [
    "from random import random, seed\n",
    "import json\n",
    "\n",
    "def print_json_dump(dump):\n",
    "    print(json.dumps(dump, sort_keys=True, indent=4))\n",
    "\n",
    "def create_network(n_inputs:int, n_hidden_layers:int, n_neurons_for_layer:list, n_outputs:int):\n",
    "    \"\"\"Creates a neural network with layers, neurons with weights and bias, output neurons with weights and bias\n",
    "\n",
    "    Args:\n",
    "        n_inputs (int): The amount of input features\n",
    "        n_hidden_layers (int): The amount of hidden layers desired\n",
    "        n_neurons_for_layer (list): A list containing the number of neurons per hidden layer\n",
    "        n_outputs (int): Amount of output neurons wanted\n",
    "\n",
    "    Returns:\n",
    "        (dict): Your neural network\n",
    "    \"\"\"\n",
    "\n",
    "    assert len(n_neurons_for_layer) == n_hidden_layers, \\\n",
    "        (\"The length of this list needs to be the same as n_hidden_layers\")\n",
    "\n",
    "    network = []\n",
    "    current_layer = -1\n",
    "\n",
    "    for hidden_layer in range(n_hidden_layers):\n",
    "        current_layer += 1\n",
    "        layer = []\n",
    "        for nodes in range(n_neurons_for_layer[current_layer]):\n",
    "            if current_layer == 0:\n",
    "                weights = [random() for i in range(n_inputs)]\n",
    "            elif current_layer > 0:\n",
    "                weights = [random() for i in range(n_neurons_for_layer[current_layer-1])]\n",
    "\n",
    "            bias = random()\n",
    "            node = {\"weights\":weights, \"bias\":bias}\n",
    "            layer.append(node)\n",
    "\n",
    "        network.append(layer)\n",
    "\n",
    "    \n",
    "    n_output_weights = len(network[-1])\n",
    "    layer = []\n",
    "    for i in range(n_outputs):\n",
    "        weights = [random() for k in range(n_output_weights)]\n",
    "        bias = random()\n",
    "        node = {\"weights\":weights, \"bias\":bias}\n",
    "        layer.append(node)\n",
    "\n",
    "    network.append(layer)\n",
    "\n",
    "    return network"
   ]
  },
  {
   "cell_type": "code",
   "execution_count": 21,
   "metadata": {
    "tags": []
   },
   "outputs": [
    {
     "output_type": "stream",
     "name": "stdout",
     "text": "[\n    [\n        {\n            \"bias\": 0.4494910647887381,\n            \"weights\": [\n                0.13436424411240122,\n                0.8474337369372327,\n                0.763774618976614,\n                0.2550690257394217,\n                0.49543508709194095\n            ]\n        },\n        {\n            \"bias\": 0.43276706790505337,\n            \"weights\": [\n                0.651592972722763,\n                0.7887233511355132,\n                0.0938595867742349,\n                0.02834747652200631,\n                0.8357651039198697\n            ]\n        }\n    ],\n    [\n        {\n            \"bias\": 0.4453871940548014,\n            \"weights\": [\n                0.762280082457942,\n                0.0021060533511106927\n            ]\n        },\n        {\n            \"bias\": 0.9452706955539223,\n            \"weights\": [\n                0.7215400323407826,\n                0.22876222127045265\n            ]\n        },\n        {\n            \"bias\": 0.0254458609934608,\n            \"weights\": [\n                0.9014274576114836,\n                0.030589983033553536\n            ]\n        }\n    ],\n    [\n        {\n            \"bias\": 0.21659939713061338,\n            \"weights\": [\n                0.5414124727934966,\n                0.9391491627785106,\n                0.38120423768821243\n            ]\n        },\n        {\n            \"bias\": 0.43788759365057206,\n            \"weights\": [\n                0.4221165755827173,\n                0.029040787574867943,\n                0.22169166627303505\n            ]\n        },\n        {\n            \"bias\": 0.2187810373376886,\n            \"weights\": [\n                0.49581224138185065,\n                0.23308445025757263,\n                0.2308665415409843\n            ]\n        }\n    ],\n    [\n        {\n            \"bias\": 0.8375779756625729,\n            \"weights\": [\n                0.4596034657377336,\n                0.28978161459048557,\n                0.021489705265908876\n            ]\n        },\n        {\n            \"bias\": 0.9925434121760651,\n            \"weights\": [\n                0.5564543226524334,\n                0.6422943629324456,\n                0.1859062658947177\n            ]\n        }\n    ]\n]\n"
    }
   ],
   "source": [
    "seed(1)\n",
    "my_net = create_network(5, 3, [2, 3, 3], 2)\n",
    "# Neural net with 5 input features and 3 hidden layers\n",
    "# Hidden layer 1: 2 neurons\n",
    "# Hidden layer 2: 3 neurons\n",
    "# Hidden layer 3: 3 neurons\n",
    "# Output layer 3: 2 neurons\n",
    "print_json_dump(my_net)"
   ]
  },
  {
   "cell_type": "code",
   "execution_count": 22,
   "metadata": {
    "tags": []
   },
   "outputs": [
    {
     "output_type": "stream",
     "name": "stdout",
     "text": "[\n    [\n        {\n            \"bias\": 0.7214844075832684,\n            \"weights\": [\n                0.8599465287952899,\n                0.12088995980580641,\n                0.3326951853601291\n            ]\n        },\n        {\n            \"bias\": 0.830035693274327,\n            \"weights\": [\n                0.7111917696952796,\n                0.9364405867994596,\n                0.4221069999614152\n            ]\n        },\n        {\n            \"bias\": 0.8824790008318577,\n            \"weights\": [\n                0.670305566414071,\n                0.3033685109329176,\n                0.5875806061435594\n            ]\n        },\n        {\n            \"bias\": 0.034525830151341586,\n            \"weights\": [\n                0.8461974184283128,\n                0.5052838205796004,\n                0.5890022579825517\n            ]\n        },\n        {\n            \"bias\": 0.17300740157905092,\n            \"weights\": [\n                0.24273997354306764,\n                0.7974042475543028,\n                0.4143139993007743\n            ]\n        }\n    ],\n    [\n        {\n            \"bias\": 0.5084264882499818,\n            \"weights\": [\n                0.548798761388153,\n                0.7030407620656315,\n                0.6744858305023272,\n                0.3747030205016403,\n                0.4389616300445631\n            ]\n        },\n        {\n            \"bias\": 0.04348729035652743,\n            \"weights\": [\n                0.7784426150001458,\n                0.5209384176131452,\n                0.39325509496422606,\n                0.4896935204622582,\n                0.029574963966907064\n            ]\n        }\n    ]\n]\n"
    }
   ],
   "source": [
    "my_net = create_network(3, 1, [5], 2)\n",
    "# Neural net with 3 input features and 1 hidden layer\n",
    "# Hidden Layer 1: 5 Neurons\n",
    "# Output Layer: 2 Neurons\n",
    "print_json_dump(my_net)"
   ]
  },
  {
   "cell_type": "code",
   "execution_count": null,
   "metadata": {},
   "outputs": [],
   "source": []
  }
 ]
}