{
 "metadata": {
  "language_info": {
   "codemirror_mode": {
    "name": "ipython",
    "version": 3
   },
   "file_extension": ".py",
   "mimetype": "text/x-python",
   "name": "python",
   "nbconvert_exporter": "python",
   "pygments_lexer": "ipython3",
   "version": "3.7.9-final"
  },
  "orig_nbformat": 2,
  "kernelspec": {
   "name": "tf-gpu",
   "display_name": "TensorFlow-GPU-2.1.0"
  }
 },
 "nbformat": 4,
 "nbformat_minor": 2,
 "cells": [
  {
   "cell_type": "code",
   "execution_count": 1,
   "metadata": {
    "tags": []
   },
   "outputs": [
    {
     "output_type": "stream",
     "name": "stdout",
     "text": "D:\\Anaconda_Server\n"
    }
   ],
   "source": [
    "import os\n",
    "print(os.getcwd())"
   ]
  },
  {
   "cell_type": "code",
   "execution_count": 2,
   "metadata": {
    "tags": []
   },
   "outputs": [
    {
     "output_type": "stream",
     "name": "stdout",
     "text": "tf.Tensor(b'Hello from TensorFlow 2.1.0', shape=(), dtype=string)\n"
    }
   ],
   "source": [
    "import tensorflow as tf\n",
    "print( tf.constant( 'Hello from TensorFlow ' + tf.__version__ ) )"
   ]
  },
  {
   "cell_type": "code",
   "execution_count": 3,
   "metadata": {},
   "outputs": [],
   "source": [
    "import pandas as pd\n",
    "\n",
    "train = pd.read_csv(r\"D:\\GitRepos\\course-machine-learning\\week-three\\AS11\\mnist_train.csv\", header=None)\n",
    "test = pd.read_csv(r\"D:\\GitRepos\\course-machine-learning\\week-three\\AS11\\mnist_test.csv\", header=None)"
   ]
  },
  {
   "cell_type": "code",
   "execution_count": 4,
   "metadata": {
    "tags": []
   },
   "outputs": [
    {
     "output_type": "execute_result",
     "data": {
      "text/plain": "   0    1    2    3    4    5    6    7    8    9    ...  775  776  777  778  \\\n0    5    0    0    0    0    0    0    0    0    0  ...    0    0    0    0   \n1    0    0    0    0    0    0    0    0    0    0  ...    0    0    0    0   \n2    4    0    0    0    0    0    0    0    0    0  ...    0    0    0    0   \n3    1    0    0    0    0    0    0    0    0    0  ...    0    0    0    0   \n4    9    0    0    0    0    0    0    0    0    0  ...    0    0    0    0   \n\n   779  780  781  782  783  784  \n0    0    0    0    0    0    0  \n1    0    0    0    0    0    0  \n2    0    0    0    0    0    0  \n3    0    0    0    0    0    0  \n4    0    0    0    0    0    0  \n\n[5 rows x 785 columns]",
      "text/html": "<div>\n<style scoped>\n    .dataframe tbody tr th:only-of-type {\n        vertical-align: middle;\n    }\n\n    .dataframe tbody tr th {\n        vertical-align: top;\n    }\n\n    .dataframe thead th {\n        text-align: right;\n    }\n</style>\n<table border=\"1\" class=\"dataframe\">\n  <thead>\n    <tr style=\"text-align: right;\">\n      <th></th>\n      <th>0</th>\n      <th>1</th>\n      <th>2</th>\n      <th>3</th>\n      <th>4</th>\n      <th>5</th>\n      <th>6</th>\n      <th>7</th>\n      <th>8</th>\n      <th>9</th>\n      <th>...</th>\n      <th>775</th>\n      <th>776</th>\n      <th>777</th>\n      <th>778</th>\n      <th>779</th>\n      <th>780</th>\n      <th>781</th>\n      <th>782</th>\n      <th>783</th>\n      <th>784</th>\n    </tr>\n  </thead>\n  <tbody>\n    <tr>\n      <th>0</th>\n      <td>5</td>\n      <td>0</td>\n      <td>0</td>\n      <td>0</td>\n      <td>0</td>\n      <td>0</td>\n      <td>0</td>\n      <td>0</td>\n      <td>0</td>\n      <td>0</td>\n      <td>...</td>\n      <td>0</td>\n      <td>0</td>\n      <td>0</td>\n      <td>0</td>\n      <td>0</td>\n      <td>0</td>\n      <td>0</td>\n      <td>0</td>\n      <td>0</td>\n      <td>0</td>\n    </tr>\n    <tr>\n      <th>1</th>\n      <td>0</td>\n      <td>0</td>\n      <td>0</td>\n      <td>0</td>\n      <td>0</td>\n      <td>0</td>\n      <td>0</td>\n      <td>0</td>\n      <td>0</td>\n      <td>0</td>\n      <td>...</td>\n      <td>0</td>\n      <td>0</td>\n      <td>0</td>\n      <td>0</td>\n      <td>0</td>\n      <td>0</td>\n      <td>0</td>\n      <td>0</td>\n      <td>0</td>\n      <td>0</td>\n    </tr>\n    <tr>\n      <th>2</th>\n      <td>4</td>\n      <td>0</td>\n      <td>0</td>\n      <td>0</td>\n      <td>0</td>\n      <td>0</td>\n      <td>0</td>\n      <td>0</td>\n      <td>0</td>\n      <td>0</td>\n      <td>...</td>\n      <td>0</td>\n      <td>0</td>\n      <td>0</td>\n      <td>0</td>\n      <td>0</td>\n      <td>0</td>\n      <td>0</td>\n      <td>0</td>\n      <td>0</td>\n      <td>0</td>\n    </tr>\n    <tr>\n      <th>3</th>\n      <td>1</td>\n      <td>0</td>\n      <td>0</td>\n      <td>0</td>\n      <td>0</td>\n      <td>0</td>\n      <td>0</td>\n      <td>0</td>\n      <td>0</td>\n      <td>0</td>\n      <td>...</td>\n      <td>0</td>\n      <td>0</td>\n      <td>0</td>\n      <td>0</td>\n      <td>0</td>\n      <td>0</td>\n      <td>0</td>\n      <td>0</td>\n      <td>0</td>\n      <td>0</td>\n    </tr>\n    <tr>\n      <th>4</th>\n      <td>9</td>\n      <td>0</td>\n      <td>0</td>\n      <td>0</td>\n      <td>0</td>\n      <td>0</td>\n      <td>0</td>\n      <td>0</td>\n      <td>0</td>\n      <td>0</td>\n      <td>...</td>\n      <td>0</td>\n      <td>0</td>\n      <td>0</td>\n      <td>0</td>\n      <td>0</td>\n      <td>0</td>\n      <td>0</td>\n      <td>0</td>\n      <td>0</td>\n      <td>0</td>\n    </tr>\n  </tbody>\n</table>\n<p>5 rows × 785 columns</p>\n</div>"
     },
     "metadata": {},
     "execution_count": 4
    }
   ],
   "source": [
    "train.head()"
   ]
  },
  {
   "cell_type": "code",
   "execution_count": 5,
   "metadata": {},
   "outputs": [
    {
     "output_type": "execute_result",
     "data": {
      "text/plain": "   0    1    2    3    4    5    6    7    8    9    ...  775  776  777  778  \\\n0    7    0    0    0    0    0    0    0    0    0  ...    0    0    0    0   \n1    2    0    0    0    0    0    0    0    0    0  ...    0    0    0    0   \n2    1    0    0    0    0    0    0    0    0    0  ...    0    0    0    0   \n3    0    0    0    0    0    0    0    0    0    0  ...    0    0    0    0   \n4    4    0    0    0    0    0    0    0    0    0  ...    0    0    0    0   \n\n   779  780  781  782  783  784  \n0    0    0    0    0    0    0  \n1    0    0    0    0    0    0  \n2    0    0    0    0    0    0  \n3    0    0    0    0    0    0  \n4    0    0    0    0    0    0  \n\n[5 rows x 785 columns]",
      "text/html": "<div>\n<style scoped>\n    .dataframe tbody tr th:only-of-type {\n        vertical-align: middle;\n    }\n\n    .dataframe tbody tr th {\n        vertical-align: top;\n    }\n\n    .dataframe thead th {\n        text-align: right;\n    }\n</style>\n<table border=\"1\" class=\"dataframe\">\n  <thead>\n    <tr style=\"text-align: right;\">\n      <th></th>\n      <th>0</th>\n      <th>1</th>\n      <th>2</th>\n      <th>3</th>\n      <th>4</th>\n      <th>5</th>\n      <th>6</th>\n      <th>7</th>\n      <th>8</th>\n      <th>9</th>\n      <th>...</th>\n      <th>775</th>\n      <th>776</th>\n      <th>777</th>\n      <th>778</th>\n      <th>779</th>\n      <th>780</th>\n      <th>781</th>\n      <th>782</th>\n      <th>783</th>\n      <th>784</th>\n    </tr>\n  </thead>\n  <tbody>\n    <tr>\n      <th>0</th>\n      <td>7</td>\n      <td>0</td>\n      <td>0</td>\n      <td>0</td>\n      <td>0</td>\n      <td>0</td>\n      <td>0</td>\n      <td>0</td>\n      <td>0</td>\n      <td>0</td>\n      <td>...</td>\n      <td>0</td>\n      <td>0</td>\n      <td>0</td>\n      <td>0</td>\n      <td>0</td>\n      <td>0</td>\n      <td>0</td>\n      <td>0</td>\n      <td>0</td>\n      <td>0</td>\n    </tr>\n    <tr>\n      <th>1</th>\n      <td>2</td>\n      <td>0</td>\n      <td>0</td>\n      <td>0</td>\n      <td>0</td>\n      <td>0</td>\n      <td>0</td>\n      <td>0</td>\n      <td>0</td>\n      <td>0</td>\n      <td>...</td>\n      <td>0</td>\n      <td>0</td>\n      <td>0</td>\n      <td>0</td>\n      <td>0</td>\n      <td>0</td>\n      <td>0</td>\n      <td>0</td>\n      <td>0</td>\n      <td>0</td>\n    </tr>\n    <tr>\n      <th>2</th>\n      <td>1</td>\n      <td>0</td>\n      <td>0</td>\n      <td>0</td>\n      <td>0</td>\n      <td>0</td>\n      <td>0</td>\n      <td>0</td>\n      <td>0</td>\n      <td>0</td>\n      <td>...</td>\n      <td>0</td>\n      <td>0</td>\n      <td>0</td>\n      <td>0</td>\n      <td>0</td>\n      <td>0</td>\n      <td>0</td>\n      <td>0</td>\n      <td>0</td>\n      <td>0</td>\n    </tr>\n    <tr>\n      <th>3</th>\n      <td>0</td>\n      <td>0</td>\n      <td>0</td>\n      <td>0</td>\n      <td>0</td>\n      <td>0</td>\n      <td>0</td>\n      <td>0</td>\n      <td>0</td>\n      <td>0</td>\n      <td>...</td>\n      <td>0</td>\n      <td>0</td>\n      <td>0</td>\n      <td>0</td>\n      <td>0</td>\n      <td>0</td>\n      <td>0</td>\n      <td>0</td>\n      <td>0</td>\n      <td>0</td>\n    </tr>\n    <tr>\n      <th>4</th>\n      <td>4</td>\n      <td>0</td>\n      <td>0</td>\n      <td>0</td>\n      <td>0</td>\n      <td>0</td>\n      <td>0</td>\n      <td>0</td>\n      <td>0</td>\n      <td>0</td>\n      <td>...</td>\n      <td>0</td>\n      <td>0</td>\n      <td>0</td>\n      <td>0</td>\n      <td>0</td>\n      <td>0</td>\n      <td>0</td>\n      <td>0</td>\n      <td>0</td>\n      <td>0</td>\n    </tr>\n  </tbody>\n</table>\n<p>5 rows × 785 columns</p>\n</div>"
     },
     "metadata": {},
     "execution_count": 5
    }
   ],
   "source": [
    "test.head()"
   ]
  },
  {
   "cell_type": "code",
   "execution_count": 6,
   "metadata": {},
   "outputs": [
    {
     "output_type": "execute_result",
     "data": {
      "text/plain": "                0        1        2        3        4        5        6    \\\ncount  60000.000000  60000.0  60000.0  60000.0  60000.0  60000.0  60000.0   \nmean       4.453933      0.0      0.0      0.0      0.0      0.0      0.0   \nstd        2.889270      0.0      0.0      0.0      0.0      0.0      0.0   \nmin        0.000000      0.0      0.0      0.0      0.0      0.0      0.0   \n25%        2.000000      0.0      0.0      0.0      0.0      0.0      0.0   \n50%        4.000000      0.0      0.0      0.0      0.0      0.0      0.0   \n75%        7.000000      0.0      0.0      0.0      0.0      0.0      0.0   \nmax        9.000000      0.0      0.0      0.0      0.0      0.0      0.0   \n\n           7        8        9    ...           775           776  \\\ncount  60000.0  60000.0  60000.0  ...  60000.000000  60000.000000   \nmean       0.0      0.0      0.0  ...      0.200433      0.088867   \nstd        0.0      0.0      0.0  ...      6.042472      3.956189   \nmin        0.0      0.0      0.0  ...      0.000000      0.000000   \n25%        0.0      0.0      0.0  ...      0.000000      0.000000   \n50%        0.0      0.0      0.0  ...      0.000000      0.000000   \n75%        0.0      0.0      0.0  ...      0.000000      0.000000   \nmax        0.0      0.0      0.0  ...    254.000000    254.000000   \n\n                777           778           779         780      781      782  \\\ncount  60000.000000  60000.000000  60000.000000  60000.0000  60000.0  60000.0   \nmean       0.045633      0.019283      0.015117      0.0020      0.0      0.0   \nstd        2.839845      1.686770      1.678283      0.3466      0.0      0.0   \nmin        0.000000      0.000000      0.000000      0.0000      0.0      0.0   \n25%        0.000000      0.000000      0.000000      0.0000      0.0      0.0   \n50%        0.000000      0.000000      0.000000      0.0000      0.0      0.0   \n75%        0.000000      0.000000      0.000000      0.0000      0.0      0.0   \nmax      253.000000    253.000000    254.000000     62.0000      0.0      0.0   \n\n           783      784  \ncount  60000.0  60000.0  \nmean       0.0      0.0  \nstd        0.0      0.0  \nmin        0.0      0.0  \n25%        0.0      0.0  \n50%        0.0      0.0  \n75%        0.0      0.0  \nmax        0.0      0.0  \n\n[8 rows x 785 columns]",
      "text/html": "<div>\n<style scoped>\n    .dataframe tbody tr th:only-of-type {\n        vertical-align: middle;\n    }\n\n    .dataframe tbody tr th {\n        vertical-align: top;\n    }\n\n    .dataframe thead th {\n        text-align: right;\n    }\n</style>\n<table border=\"1\" class=\"dataframe\">\n  <thead>\n    <tr style=\"text-align: right;\">\n      <th></th>\n      <th>0</th>\n      <th>1</th>\n      <th>2</th>\n      <th>3</th>\n      <th>4</th>\n      <th>5</th>\n      <th>6</th>\n      <th>7</th>\n      <th>8</th>\n      <th>9</th>\n      <th>...</th>\n      <th>775</th>\n      <th>776</th>\n      <th>777</th>\n      <th>778</th>\n      <th>779</th>\n      <th>780</th>\n      <th>781</th>\n      <th>782</th>\n      <th>783</th>\n      <th>784</th>\n    </tr>\n  </thead>\n  <tbody>\n    <tr>\n      <th>count</th>\n      <td>60000.000000</td>\n      <td>60000.0</td>\n      <td>60000.0</td>\n      <td>60000.0</td>\n      <td>60000.0</td>\n      <td>60000.0</td>\n      <td>60000.0</td>\n      <td>60000.0</td>\n      <td>60000.0</td>\n      <td>60000.0</td>\n      <td>...</td>\n      <td>60000.000000</td>\n      <td>60000.000000</td>\n      <td>60000.000000</td>\n      <td>60000.000000</td>\n      <td>60000.000000</td>\n      <td>60000.0000</td>\n      <td>60000.0</td>\n      <td>60000.0</td>\n      <td>60000.0</td>\n      <td>60000.0</td>\n    </tr>\n    <tr>\n      <th>mean</th>\n      <td>4.453933</td>\n      <td>0.0</td>\n      <td>0.0</td>\n      <td>0.0</td>\n      <td>0.0</td>\n      <td>0.0</td>\n      <td>0.0</td>\n      <td>0.0</td>\n      <td>0.0</td>\n      <td>0.0</td>\n      <td>...</td>\n      <td>0.200433</td>\n      <td>0.088867</td>\n      <td>0.045633</td>\n      <td>0.019283</td>\n      <td>0.015117</td>\n      <td>0.0020</td>\n      <td>0.0</td>\n      <td>0.0</td>\n      <td>0.0</td>\n      <td>0.0</td>\n    </tr>\n    <tr>\n      <th>std</th>\n      <td>2.889270</td>\n      <td>0.0</td>\n      <td>0.0</td>\n      <td>0.0</td>\n      <td>0.0</td>\n      <td>0.0</td>\n      <td>0.0</td>\n      <td>0.0</td>\n      <td>0.0</td>\n      <td>0.0</td>\n      <td>...</td>\n      <td>6.042472</td>\n      <td>3.956189</td>\n      <td>2.839845</td>\n      <td>1.686770</td>\n      <td>1.678283</td>\n      <td>0.3466</td>\n      <td>0.0</td>\n      <td>0.0</td>\n      <td>0.0</td>\n      <td>0.0</td>\n    </tr>\n    <tr>\n      <th>min</th>\n      <td>0.000000</td>\n      <td>0.0</td>\n      <td>0.0</td>\n      <td>0.0</td>\n      <td>0.0</td>\n      <td>0.0</td>\n      <td>0.0</td>\n      <td>0.0</td>\n      <td>0.0</td>\n      <td>0.0</td>\n      <td>...</td>\n      <td>0.000000</td>\n      <td>0.000000</td>\n      <td>0.000000</td>\n      <td>0.000000</td>\n      <td>0.000000</td>\n      <td>0.0000</td>\n      <td>0.0</td>\n      <td>0.0</td>\n      <td>0.0</td>\n      <td>0.0</td>\n    </tr>\n    <tr>\n      <th>25%</th>\n      <td>2.000000</td>\n      <td>0.0</td>\n      <td>0.0</td>\n      <td>0.0</td>\n      <td>0.0</td>\n      <td>0.0</td>\n      <td>0.0</td>\n      <td>0.0</td>\n      <td>0.0</td>\n      <td>0.0</td>\n      <td>...</td>\n      <td>0.000000</td>\n      <td>0.000000</td>\n      <td>0.000000</td>\n      <td>0.000000</td>\n      <td>0.000000</td>\n      <td>0.0000</td>\n      <td>0.0</td>\n      <td>0.0</td>\n      <td>0.0</td>\n      <td>0.0</td>\n    </tr>\n    <tr>\n      <th>50%</th>\n      <td>4.000000</td>\n      <td>0.0</td>\n      <td>0.0</td>\n      <td>0.0</td>\n      <td>0.0</td>\n      <td>0.0</td>\n      <td>0.0</td>\n      <td>0.0</td>\n      <td>0.0</td>\n      <td>0.0</td>\n      <td>...</td>\n      <td>0.000000</td>\n      <td>0.000000</td>\n      <td>0.000000</td>\n      <td>0.000000</td>\n      <td>0.000000</td>\n      <td>0.0000</td>\n      <td>0.0</td>\n      <td>0.0</td>\n      <td>0.0</td>\n      <td>0.0</td>\n    </tr>\n    <tr>\n      <th>75%</th>\n      <td>7.000000</td>\n      <td>0.0</td>\n      <td>0.0</td>\n      <td>0.0</td>\n      <td>0.0</td>\n      <td>0.0</td>\n      <td>0.0</td>\n      <td>0.0</td>\n      <td>0.0</td>\n      <td>0.0</td>\n      <td>...</td>\n      <td>0.000000</td>\n      <td>0.000000</td>\n      <td>0.000000</td>\n      <td>0.000000</td>\n      <td>0.000000</td>\n      <td>0.0000</td>\n      <td>0.0</td>\n      <td>0.0</td>\n      <td>0.0</td>\n      <td>0.0</td>\n    </tr>\n    <tr>\n      <th>max</th>\n      <td>9.000000</td>\n      <td>0.0</td>\n      <td>0.0</td>\n      <td>0.0</td>\n      <td>0.0</td>\n      <td>0.0</td>\n      <td>0.0</td>\n      <td>0.0</td>\n      <td>0.0</td>\n      <td>0.0</td>\n      <td>...</td>\n      <td>254.000000</td>\n      <td>254.000000</td>\n      <td>253.000000</td>\n      <td>253.000000</td>\n      <td>254.000000</td>\n      <td>62.0000</td>\n      <td>0.0</td>\n      <td>0.0</td>\n      <td>0.0</td>\n      <td>0.0</td>\n    </tr>\n  </tbody>\n</table>\n<p>8 rows × 785 columns</p>\n</div>"
     },
     "metadata": {},
     "execution_count": 6
    }
   ],
   "source": [
    "train.describe()"
   ]
  },
  {
   "cell_type": "code",
   "execution_count": 7,
   "metadata": {},
   "outputs": [
    {
     "output_type": "execute_result",
     "data": {
      "text/plain": "                0        1        2        3        4        5        6    \\\ncount  10000.000000  10000.0  10000.0  10000.0  10000.0  10000.0  10000.0   \nmean       4.443400      0.0      0.0      0.0      0.0      0.0      0.0   \nstd        2.895865      0.0      0.0      0.0      0.0      0.0      0.0   \nmin        0.000000      0.0      0.0      0.0      0.0      0.0      0.0   \n25%        2.000000      0.0      0.0      0.0      0.0      0.0      0.0   \n50%        4.000000      0.0      0.0      0.0      0.0      0.0      0.0   \n75%        7.000000      0.0      0.0      0.0      0.0      0.0      0.0   \nmax        9.000000      0.0      0.0      0.0      0.0      0.0      0.0   \n\n           7        8        9    ...           775           776  \\\ncount  10000.0  10000.0  10000.0  ...  10000.000000  10000.000000   \nmean       0.0      0.0      0.0  ...      0.179300      0.163600   \nstd        0.0      0.0      0.0  ...      5.674149      5.736072   \nmin        0.0      0.0      0.0  ...      0.000000      0.000000   \n25%        0.0      0.0      0.0  ...      0.000000      0.000000   \n50%        0.0      0.0      0.0  ...      0.000000      0.000000   \n75%        0.0      0.0      0.0  ...      0.000000      0.000000   \nmax        0.0      0.0      0.0  ...    253.000000    253.000000   \n\n                777         778      779      780      781      782      783  \\\ncount  10000.000000  10000.0000  10000.0  10000.0  10000.0  10000.0  10000.0   \nmean       0.052600      0.0006      0.0      0.0      0.0      0.0      0.0   \nstd        2.420004      0.0600      0.0      0.0      0.0      0.0      0.0   \nmin        0.000000      0.0000      0.0      0.0      0.0      0.0      0.0   \n25%        0.000000      0.0000      0.0      0.0      0.0      0.0      0.0   \n50%        0.000000      0.0000      0.0      0.0      0.0      0.0      0.0   \n75%        0.000000      0.0000      0.0      0.0      0.0      0.0      0.0   \nmax      156.000000      6.0000      0.0      0.0      0.0      0.0      0.0   \n\n           784  \ncount  10000.0  \nmean       0.0  \nstd        0.0  \nmin        0.0  \n25%        0.0  \n50%        0.0  \n75%        0.0  \nmax        0.0  \n\n[8 rows x 785 columns]",
      "text/html": "<div>\n<style scoped>\n    .dataframe tbody tr th:only-of-type {\n        vertical-align: middle;\n    }\n\n    .dataframe tbody tr th {\n        vertical-align: top;\n    }\n\n    .dataframe thead th {\n        text-align: right;\n    }\n</style>\n<table border=\"1\" class=\"dataframe\">\n  <thead>\n    <tr style=\"text-align: right;\">\n      <th></th>\n      <th>0</th>\n      <th>1</th>\n      <th>2</th>\n      <th>3</th>\n      <th>4</th>\n      <th>5</th>\n      <th>6</th>\n      <th>7</th>\n      <th>8</th>\n      <th>9</th>\n      <th>...</th>\n      <th>775</th>\n      <th>776</th>\n      <th>777</th>\n      <th>778</th>\n      <th>779</th>\n      <th>780</th>\n      <th>781</th>\n      <th>782</th>\n      <th>783</th>\n      <th>784</th>\n    </tr>\n  </thead>\n  <tbody>\n    <tr>\n      <th>count</th>\n      <td>10000.000000</td>\n      <td>10000.0</td>\n      <td>10000.0</td>\n      <td>10000.0</td>\n      <td>10000.0</td>\n      <td>10000.0</td>\n      <td>10000.0</td>\n      <td>10000.0</td>\n      <td>10000.0</td>\n      <td>10000.0</td>\n      <td>...</td>\n      <td>10000.000000</td>\n      <td>10000.000000</td>\n      <td>10000.000000</td>\n      <td>10000.0000</td>\n      <td>10000.0</td>\n      <td>10000.0</td>\n      <td>10000.0</td>\n      <td>10000.0</td>\n      <td>10000.0</td>\n      <td>10000.0</td>\n    </tr>\n    <tr>\n      <th>mean</th>\n      <td>4.443400</td>\n      <td>0.0</td>\n      <td>0.0</td>\n      <td>0.0</td>\n      <td>0.0</td>\n      <td>0.0</td>\n      <td>0.0</td>\n      <td>0.0</td>\n      <td>0.0</td>\n      <td>0.0</td>\n      <td>...</td>\n      <td>0.179300</td>\n      <td>0.163600</td>\n      <td>0.052600</td>\n      <td>0.0006</td>\n      <td>0.0</td>\n      <td>0.0</td>\n      <td>0.0</td>\n      <td>0.0</td>\n      <td>0.0</td>\n      <td>0.0</td>\n    </tr>\n    <tr>\n      <th>std</th>\n      <td>2.895865</td>\n      <td>0.0</td>\n      <td>0.0</td>\n      <td>0.0</td>\n      <td>0.0</td>\n      <td>0.0</td>\n      <td>0.0</td>\n      <td>0.0</td>\n      <td>0.0</td>\n      <td>0.0</td>\n      <td>...</td>\n      <td>5.674149</td>\n      <td>5.736072</td>\n      <td>2.420004</td>\n      <td>0.0600</td>\n      <td>0.0</td>\n      <td>0.0</td>\n      <td>0.0</td>\n      <td>0.0</td>\n      <td>0.0</td>\n      <td>0.0</td>\n    </tr>\n    <tr>\n      <th>min</th>\n      <td>0.000000</td>\n      <td>0.0</td>\n      <td>0.0</td>\n      <td>0.0</td>\n      <td>0.0</td>\n      <td>0.0</td>\n      <td>0.0</td>\n      <td>0.0</td>\n      <td>0.0</td>\n      <td>0.0</td>\n      <td>...</td>\n      <td>0.000000</td>\n      <td>0.000000</td>\n      <td>0.000000</td>\n      <td>0.0000</td>\n      <td>0.0</td>\n      <td>0.0</td>\n      <td>0.0</td>\n      <td>0.0</td>\n      <td>0.0</td>\n      <td>0.0</td>\n    </tr>\n    <tr>\n      <th>25%</th>\n      <td>2.000000</td>\n      <td>0.0</td>\n      <td>0.0</td>\n      <td>0.0</td>\n      <td>0.0</td>\n      <td>0.0</td>\n      <td>0.0</td>\n      <td>0.0</td>\n      <td>0.0</td>\n      <td>0.0</td>\n      <td>...</td>\n      <td>0.000000</td>\n      <td>0.000000</td>\n      <td>0.000000</td>\n      <td>0.0000</td>\n      <td>0.0</td>\n      <td>0.0</td>\n      <td>0.0</td>\n      <td>0.0</td>\n      <td>0.0</td>\n      <td>0.0</td>\n    </tr>\n    <tr>\n      <th>50%</th>\n      <td>4.000000</td>\n      <td>0.0</td>\n      <td>0.0</td>\n      <td>0.0</td>\n      <td>0.0</td>\n      <td>0.0</td>\n      <td>0.0</td>\n      <td>0.0</td>\n      <td>0.0</td>\n      <td>0.0</td>\n      <td>...</td>\n      <td>0.000000</td>\n      <td>0.000000</td>\n      <td>0.000000</td>\n      <td>0.0000</td>\n      <td>0.0</td>\n      <td>0.0</td>\n      <td>0.0</td>\n      <td>0.0</td>\n      <td>0.0</td>\n      <td>0.0</td>\n    </tr>\n    <tr>\n      <th>75%</th>\n      <td>7.000000</td>\n      <td>0.0</td>\n      <td>0.0</td>\n      <td>0.0</td>\n      <td>0.0</td>\n      <td>0.0</td>\n      <td>0.0</td>\n      <td>0.0</td>\n      <td>0.0</td>\n      <td>0.0</td>\n      <td>...</td>\n      <td>0.000000</td>\n      <td>0.000000</td>\n      <td>0.000000</td>\n      <td>0.0000</td>\n      <td>0.0</td>\n      <td>0.0</td>\n      <td>0.0</td>\n      <td>0.0</td>\n      <td>0.0</td>\n      <td>0.0</td>\n    </tr>\n    <tr>\n      <th>max</th>\n      <td>9.000000</td>\n      <td>0.0</td>\n      <td>0.0</td>\n      <td>0.0</td>\n      <td>0.0</td>\n      <td>0.0</td>\n      <td>0.0</td>\n      <td>0.0</td>\n      <td>0.0</td>\n      <td>0.0</td>\n      <td>...</td>\n      <td>253.000000</td>\n      <td>253.000000</td>\n      <td>156.000000</td>\n      <td>6.0000</td>\n      <td>0.0</td>\n      <td>0.0</td>\n      <td>0.0</td>\n      <td>0.0</td>\n      <td>0.0</td>\n      <td>0.0</td>\n    </tr>\n  </tbody>\n</table>\n<p>8 rows × 785 columns</p>\n</div>"
     },
     "metadata": {},
     "execution_count": 7
    }
   ],
   "source": [
    "test.describe()"
   ]
  },
  {
   "cell_type": "code",
   "execution_count": 8,
   "metadata": {
    "tags": []
   },
   "outputs": [
    {
     "output_type": "stream",
     "name": "stdout",
     "text": "<class 'pandas.core.frame.DataFrame'>\nRangeIndex: 60000 entries, 0 to 59999\nColumns: 785 entries, 0 to 784\ndtypes: int64(785)\nmemory usage: 359.3 MB\n"
    }
   ],
   "source": [
    "train.info()"
   ]
  },
  {
   "cell_type": "code",
   "execution_count": 9,
   "metadata": {
    "tags": []
   },
   "outputs": [],
   "source": [
    "for i in range(1, 785):\n",
    "    train[i] = train[i].apply(lambda x: (x * (0.99/255)) + 0.01)\n",
    "    test[i] = test[i].apply(lambda x: (x * (0.99/255)) + 0.01)"
   ]
  },
  {
   "cell_type": "code",
   "execution_count": 10,
   "metadata": {},
   "outputs": [
    {
     "output_type": "execute_result",
     "data": {
      "text/plain": "                0         1         2         3         4         5    \\\ncount  60000.000000  60000.00  60000.00  60000.00  60000.00  60000.00   \nmean       4.453933      0.01      0.01      0.01      0.01      0.01   \nstd        2.889270      0.00      0.00      0.00      0.00      0.00   \nmin        0.000000      0.01      0.01      0.01      0.01      0.01   \n25%        2.000000      0.01      0.01      0.01      0.01      0.01   \n50%        4.000000      0.01      0.01      0.01      0.01      0.01   \n75%        7.000000      0.01      0.01      0.01      0.01      0.01   \nmax        9.000000      0.01      0.01      0.01      0.01      0.01   \n\n            6         7         8         9    ...           775  \\\ncount  60000.00  60000.00  60000.00  60000.00  ...  60000.000000   \nmean       0.01      0.01      0.01      0.01  ...      0.010778   \nstd        0.00      0.00      0.00      0.00  ...      0.023459   \nmin        0.01      0.01      0.01      0.01  ...      0.010000   \n25%        0.01      0.01      0.01      0.01  ...      0.010000   \n50%        0.01      0.01      0.01      0.01  ...      0.010000   \n75%        0.01      0.01      0.01      0.01  ...      0.010000   \nmax        0.01      0.01      0.01      0.01  ...      0.996118   \n\n                776           777           778           779           780  \\\ncount  60000.000000  60000.000000  60000.000000  60000.000000  60000.000000   \nmean       0.010345      0.010177      0.010075      0.010059      0.010008   \nstd        0.015359      0.011025      0.006549      0.006516      0.001346   \nmin        0.010000      0.010000      0.010000      0.010000      0.010000   \n25%        0.010000      0.010000      0.010000      0.010000      0.010000   \n50%        0.010000      0.010000      0.010000      0.010000      0.010000   \n75%        0.010000      0.010000      0.010000      0.010000      0.010000   \nmax        0.996118      0.992235      0.992235      0.996118      0.250706   \n\n            781       782       783       784  \ncount  60000.00  60000.00  60000.00  60000.00  \nmean       0.01      0.01      0.01      0.01  \nstd        0.00      0.00      0.00      0.00  \nmin        0.01      0.01      0.01      0.01  \n25%        0.01      0.01      0.01      0.01  \n50%        0.01      0.01      0.01      0.01  \n75%        0.01      0.01      0.01      0.01  \nmax        0.01      0.01      0.01      0.01  \n\n[8 rows x 785 columns]",
      "text/html": "<div>\n<style scoped>\n    .dataframe tbody tr th:only-of-type {\n        vertical-align: middle;\n    }\n\n    .dataframe tbody tr th {\n        vertical-align: top;\n    }\n\n    .dataframe thead th {\n        text-align: right;\n    }\n</style>\n<table border=\"1\" class=\"dataframe\">\n  <thead>\n    <tr style=\"text-align: right;\">\n      <th></th>\n      <th>0</th>\n      <th>1</th>\n      <th>2</th>\n      <th>3</th>\n      <th>4</th>\n      <th>5</th>\n      <th>6</th>\n      <th>7</th>\n      <th>8</th>\n      <th>9</th>\n      <th>...</th>\n      <th>775</th>\n      <th>776</th>\n      <th>777</th>\n      <th>778</th>\n      <th>779</th>\n      <th>780</th>\n      <th>781</th>\n      <th>782</th>\n      <th>783</th>\n      <th>784</th>\n    </tr>\n  </thead>\n  <tbody>\n    <tr>\n      <th>count</th>\n      <td>60000.000000</td>\n      <td>60000.00</td>\n      <td>60000.00</td>\n      <td>60000.00</td>\n      <td>60000.00</td>\n      <td>60000.00</td>\n      <td>60000.00</td>\n      <td>60000.00</td>\n      <td>60000.00</td>\n      <td>60000.00</td>\n      <td>...</td>\n      <td>60000.000000</td>\n      <td>60000.000000</td>\n      <td>60000.000000</td>\n      <td>60000.000000</td>\n      <td>60000.000000</td>\n      <td>60000.000000</td>\n      <td>60000.00</td>\n      <td>60000.00</td>\n      <td>60000.00</td>\n      <td>60000.00</td>\n    </tr>\n    <tr>\n      <th>mean</th>\n      <td>4.453933</td>\n      <td>0.01</td>\n      <td>0.01</td>\n      <td>0.01</td>\n      <td>0.01</td>\n      <td>0.01</td>\n      <td>0.01</td>\n      <td>0.01</td>\n      <td>0.01</td>\n      <td>0.01</td>\n      <td>...</td>\n      <td>0.010778</td>\n      <td>0.010345</td>\n      <td>0.010177</td>\n      <td>0.010075</td>\n      <td>0.010059</td>\n      <td>0.010008</td>\n      <td>0.01</td>\n      <td>0.01</td>\n      <td>0.01</td>\n      <td>0.01</td>\n    </tr>\n    <tr>\n      <th>std</th>\n      <td>2.889270</td>\n      <td>0.00</td>\n      <td>0.00</td>\n      <td>0.00</td>\n      <td>0.00</td>\n      <td>0.00</td>\n      <td>0.00</td>\n      <td>0.00</td>\n      <td>0.00</td>\n      <td>0.00</td>\n      <td>...</td>\n      <td>0.023459</td>\n      <td>0.015359</td>\n      <td>0.011025</td>\n      <td>0.006549</td>\n      <td>0.006516</td>\n      <td>0.001346</td>\n      <td>0.00</td>\n      <td>0.00</td>\n      <td>0.00</td>\n      <td>0.00</td>\n    </tr>\n    <tr>\n      <th>min</th>\n      <td>0.000000</td>\n      <td>0.01</td>\n      <td>0.01</td>\n      <td>0.01</td>\n      <td>0.01</td>\n      <td>0.01</td>\n      <td>0.01</td>\n      <td>0.01</td>\n      <td>0.01</td>\n      <td>0.01</td>\n      <td>...</td>\n      <td>0.010000</td>\n      <td>0.010000</td>\n      <td>0.010000</td>\n      <td>0.010000</td>\n      <td>0.010000</td>\n      <td>0.010000</td>\n      <td>0.01</td>\n      <td>0.01</td>\n      <td>0.01</td>\n      <td>0.01</td>\n    </tr>\n    <tr>\n      <th>25%</th>\n      <td>2.000000</td>\n      <td>0.01</td>\n      <td>0.01</td>\n      <td>0.01</td>\n      <td>0.01</td>\n      <td>0.01</td>\n      <td>0.01</td>\n      <td>0.01</td>\n      <td>0.01</td>\n      <td>0.01</td>\n      <td>...</td>\n      <td>0.010000</td>\n      <td>0.010000</td>\n      <td>0.010000</td>\n      <td>0.010000</td>\n      <td>0.010000</td>\n      <td>0.010000</td>\n      <td>0.01</td>\n      <td>0.01</td>\n      <td>0.01</td>\n      <td>0.01</td>\n    </tr>\n    <tr>\n      <th>50%</th>\n      <td>4.000000</td>\n      <td>0.01</td>\n      <td>0.01</td>\n      <td>0.01</td>\n      <td>0.01</td>\n      <td>0.01</td>\n      <td>0.01</td>\n      <td>0.01</td>\n      <td>0.01</td>\n      <td>0.01</td>\n      <td>...</td>\n      <td>0.010000</td>\n      <td>0.010000</td>\n      <td>0.010000</td>\n      <td>0.010000</td>\n      <td>0.010000</td>\n      <td>0.010000</td>\n      <td>0.01</td>\n      <td>0.01</td>\n      <td>0.01</td>\n      <td>0.01</td>\n    </tr>\n    <tr>\n      <th>75%</th>\n      <td>7.000000</td>\n      <td>0.01</td>\n      <td>0.01</td>\n      <td>0.01</td>\n      <td>0.01</td>\n      <td>0.01</td>\n      <td>0.01</td>\n      <td>0.01</td>\n      <td>0.01</td>\n      <td>0.01</td>\n      <td>...</td>\n      <td>0.010000</td>\n      <td>0.010000</td>\n      <td>0.010000</td>\n      <td>0.010000</td>\n      <td>0.010000</td>\n      <td>0.010000</td>\n      <td>0.01</td>\n      <td>0.01</td>\n      <td>0.01</td>\n      <td>0.01</td>\n    </tr>\n    <tr>\n      <th>max</th>\n      <td>9.000000</td>\n      <td>0.01</td>\n      <td>0.01</td>\n      <td>0.01</td>\n      <td>0.01</td>\n      <td>0.01</td>\n      <td>0.01</td>\n      <td>0.01</td>\n      <td>0.01</td>\n      <td>0.01</td>\n      <td>...</td>\n      <td>0.996118</td>\n      <td>0.996118</td>\n      <td>0.992235</td>\n      <td>0.992235</td>\n      <td>0.996118</td>\n      <td>0.250706</td>\n      <td>0.01</td>\n      <td>0.01</td>\n      <td>0.01</td>\n      <td>0.01</td>\n    </tr>\n  </tbody>\n</table>\n<p>8 rows × 785 columns</p>\n</div>"
     },
     "metadata": {},
     "execution_count": 10
    }
   ],
   "source": [
    "train.describe()"
   ]
  },
  {
   "cell_type": "code",
   "execution_count": 11,
   "metadata": {},
   "outputs": [
    {
     "output_type": "execute_result",
     "data": {
      "text/plain": "                0         1         2         3         4         5    \\\ncount  10000.000000  10000.00  10000.00  10000.00  10000.00  10000.00   \nmean       4.443400      0.01      0.01      0.01      0.01      0.01   \nstd        2.895865      0.00      0.00      0.00      0.00      0.00   \nmin        0.000000      0.01      0.01      0.01      0.01      0.01   \n25%        2.000000      0.01      0.01      0.01      0.01      0.01   \n50%        4.000000      0.01      0.01      0.01      0.01      0.01   \n75%        7.000000      0.01      0.01      0.01      0.01      0.01   \nmax        9.000000      0.01      0.01      0.01      0.01      0.01   \n\n            6         7         8         9    ...           775  \\\ncount  10000.00  10000.00  10000.00  10000.00  ...  10000.000000   \nmean       0.01      0.01      0.01      0.01  ...      0.010696   \nstd        0.00      0.00      0.00      0.00  ...      0.022029   \nmin        0.01      0.01      0.01      0.01  ...      0.010000   \n25%        0.01      0.01      0.01      0.01  ...      0.010000   \n50%        0.01      0.01      0.01      0.01  ...      0.010000   \n75%        0.01      0.01      0.01      0.01  ...      0.010000   \nmax        0.01      0.01      0.01      0.01  ...      0.992235   \n\n                776           777           778       779       780       781  \\\ncount  10000.000000  10000.000000  10000.000000  10000.00  10000.00  10000.00   \nmean       0.010635      0.010204      0.010002      0.01      0.01      0.01   \nstd        0.022269      0.009395      0.000233      0.00      0.00      0.00   \nmin        0.010000      0.010000      0.010000      0.01      0.01      0.01   \n25%        0.010000      0.010000      0.010000      0.01      0.01      0.01   \n50%        0.010000      0.010000      0.010000      0.01      0.01      0.01   \n75%        0.010000      0.010000      0.010000      0.01      0.01      0.01   \nmax        0.992235      0.615647      0.033294      0.01      0.01      0.01   \n\n            782       783       784  \ncount  10000.00  10000.00  10000.00  \nmean       0.01      0.01      0.01  \nstd        0.00      0.00      0.00  \nmin        0.01      0.01      0.01  \n25%        0.01      0.01      0.01  \n50%        0.01      0.01      0.01  \n75%        0.01      0.01      0.01  \nmax        0.01      0.01      0.01  \n\n[8 rows x 785 columns]",
      "text/html": "<div>\n<style scoped>\n    .dataframe tbody tr th:only-of-type {\n        vertical-align: middle;\n    }\n\n    .dataframe tbody tr th {\n        vertical-align: top;\n    }\n\n    .dataframe thead th {\n        text-align: right;\n    }\n</style>\n<table border=\"1\" class=\"dataframe\">\n  <thead>\n    <tr style=\"text-align: right;\">\n      <th></th>\n      <th>0</th>\n      <th>1</th>\n      <th>2</th>\n      <th>3</th>\n      <th>4</th>\n      <th>5</th>\n      <th>6</th>\n      <th>7</th>\n      <th>8</th>\n      <th>9</th>\n      <th>...</th>\n      <th>775</th>\n      <th>776</th>\n      <th>777</th>\n      <th>778</th>\n      <th>779</th>\n      <th>780</th>\n      <th>781</th>\n      <th>782</th>\n      <th>783</th>\n      <th>784</th>\n    </tr>\n  </thead>\n  <tbody>\n    <tr>\n      <th>count</th>\n      <td>10000.000000</td>\n      <td>10000.00</td>\n      <td>10000.00</td>\n      <td>10000.00</td>\n      <td>10000.00</td>\n      <td>10000.00</td>\n      <td>10000.00</td>\n      <td>10000.00</td>\n      <td>10000.00</td>\n      <td>10000.00</td>\n      <td>...</td>\n      <td>10000.000000</td>\n      <td>10000.000000</td>\n      <td>10000.000000</td>\n      <td>10000.000000</td>\n      <td>10000.00</td>\n      <td>10000.00</td>\n      <td>10000.00</td>\n      <td>10000.00</td>\n      <td>10000.00</td>\n      <td>10000.00</td>\n    </tr>\n    <tr>\n      <th>mean</th>\n      <td>4.443400</td>\n      <td>0.01</td>\n      <td>0.01</td>\n      <td>0.01</td>\n      <td>0.01</td>\n      <td>0.01</td>\n      <td>0.01</td>\n      <td>0.01</td>\n      <td>0.01</td>\n      <td>0.01</td>\n      <td>...</td>\n      <td>0.010696</td>\n      <td>0.010635</td>\n      <td>0.010204</td>\n      <td>0.010002</td>\n      <td>0.01</td>\n      <td>0.01</td>\n      <td>0.01</td>\n      <td>0.01</td>\n      <td>0.01</td>\n      <td>0.01</td>\n    </tr>\n    <tr>\n      <th>std</th>\n      <td>2.895865</td>\n      <td>0.00</td>\n      <td>0.00</td>\n      <td>0.00</td>\n      <td>0.00</td>\n      <td>0.00</td>\n      <td>0.00</td>\n      <td>0.00</td>\n      <td>0.00</td>\n      <td>0.00</td>\n      <td>...</td>\n      <td>0.022029</td>\n      <td>0.022269</td>\n      <td>0.009395</td>\n      <td>0.000233</td>\n      <td>0.00</td>\n      <td>0.00</td>\n      <td>0.00</td>\n      <td>0.00</td>\n      <td>0.00</td>\n      <td>0.00</td>\n    </tr>\n    <tr>\n      <th>min</th>\n      <td>0.000000</td>\n      <td>0.01</td>\n      <td>0.01</td>\n      <td>0.01</td>\n      <td>0.01</td>\n      <td>0.01</td>\n      <td>0.01</td>\n      <td>0.01</td>\n      <td>0.01</td>\n      <td>0.01</td>\n      <td>...</td>\n      <td>0.010000</td>\n      <td>0.010000</td>\n      <td>0.010000</td>\n      <td>0.010000</td>\n      <td>0.01</td>\n      <td>0.01</td>\n      <td>0.01</td>\n      <td>0.01</td>\n      <td>0.01</td>\n      <td>0.01</td>\n    </tr>\n    <tr>\n      <th>25%</th>\n      <td>2.000000</td>\n      <td>0.01</td>\n      <td>0.01</td>\n      <td>0.01</td>\n      <td>0.01</td>\n      <td>0.01</td>\n      <td>0.01</td>\n      <td>0.01</td>\n      <td>0.01</td>\n      <td>0.01</td>\n      <td>...</td>\n      <td>0.010000</td>\n      <td>0.010000</td>\n      <td>0.010000</td>\n      <td>0.010000</td>\n      <td>0.01</td>\n      <td>0.01</td>\n      <td>0.01</td>\n      <td>0.01</td>\n      <td>0.01</td>\n      <td>0.01</td>\n    </tr>\n    <tr>\n      <th>50%</th>\n      <td>4.000000</td>\n      <td>0.01</td>\n      <td>0.01</td>\n      <td>0.01</td>\n      <td>0.01</td>\n      <td>0.01</td>\n      <td>0.01</td>\n      <td>0.01</td>\n      <td>0.01</td>\n      <td>0.01</td>\n      <td>...</td>\n      <td>0.010000</td>\n      <td>0.010000</td>\n      <td>0.010000</td>\n      <td>0.010000</td>\n      <td>0.01</td>\n      <td>0.01</td>\n      <td>0.01</td>\n      <td>0.01</td>\n      <td>0.01</td>\n      <td>0.01</td>\n    </tr>\n    <tr>\n      <th>75%</th>\n      <td>7.000000</td>\n      <td>0.01</td>\n      <td>0.01</td>\n      <td>0.01</td>\n      <td>0.01</td>\n      <td>0.01</td>\n      <td>0.01</td>\n      <td>0.01</td>\n      <td>0.01</td>\n      <td>0.01</td>\n      <td>...</td>\n      <td>0.010000</td>\n      <td>0.010000</td>\n      <td>0.010000</td>\n      <td>0.010000</td>\n      <td>0.01</td>\n      <td>0.01</td>\n      <td>0.01</td>\n      <td>0.01</td>\n      <td>0.01</td>\n      <td>0.01</td>\n    </tr>\n    <tr>\n      <th>max</th>\n      <td>9.000000</td>\n      <td>0.01</td>\n      <td>0.01</td>\n      <td>0.01</td>\n      <td>0.01</td>\n      <td>0.01</td>\n      <td>0.01</td>\n      <td>0.01</td>\n      <td>0.01</td>\n      <td>0.01</td>\n      <td>...</td>\n      <td>0.992235</td>\n      <td>0.992235</td>\n      <td>0.615647</td>\n      <td>0.033294</td>\n      <td>0.01</td>\n      <td>0.01</td>\n      <td>0.01</td>\n      <td>0.01</td>\n      <td>0.01</td>\n      <td>0.01</td>\n    </tr>\n  </tbody>\n</table>\n<p>8 rows × 785 columns</p>\n</div>"
     },
     "metadata": {},
     "execution_count": 11
    }
   ],
   "source": [
    "test.describe()"
   ]
  },
  {
   "cell_type": "code",
   "execution_count": 12,
   "metadata": {},
   "outputs": [],
   "source": [
    "import numpy as np\n",
    "from sklearn.preprocessing import OneHotEncoder\n",
    "\n",
    "cols = [i for i in range(1, 785)]\n",
    "\n",
    "ohe = OneHotEncoder(categories=\"auto\", sparse=False, dtype=np.int16)\n",
    "\n",
    "train_y = ohe.fit_transform(train[0].to_numpy().reshape(-1, 1))\n",
    "# transformed = pd.DataFrame(transformed, columns=ohe.categories_[0]) \n",
    "# df_train = pd.concat([transformed, train[cols]], axis=1)\n",
    "train_X = train.drop([0], axis=1).to_numpy()\n",
    "\n",
    "test_y = ohe.fit_transform(test[0].to_numpy().reshape(-1, 1))\n",
    "# transformed = pd.DataFrame(transformed, columns=ohe.categories_[0]) \n",
    "# df_test = pd.concat([transformed, test[cols]], axis=1)\n",
    "test_X = test.drop([0], axis=1).to_numpy()"
   ]
  },
  {
   "cell_type": "code",
   "execution_count": 13,
   "metadata": {},
   "outputs": [],
   "source": [
    "del train\n",
    "del test"
   ]
  },
  {
   "cell_type": "code",
   "execution_count": 14,
   "metadata": {
    "tags": []
   },
   "outputs": [
    {
     "output_type": "stream",
     "name": "stderr",
     "text": "Using TensorFlow backend.\n"
    }
   ],
   "source": [
    "from keras.models import Sequential\n",
    "from keras.layers import Dense\n",
    "import keras.optimizers\n",
    "import os"
   ]
  },
  {
   "cell_type": "code",
   "execution_count": 15,
   "metadata": {},
   "outputs": [],
   "source": [
    "def model_fit(train_x, train_y, config):\n",
    "    n_input = config[0]\n",
    "    n_output = config[1]\n",
    "    n_nodes = config[2]\n",
    "    epoch = config[3]\n",
    "    batch = config[4]\n",
    "    # Define and Compile\n",
    "    model = Sequential()\n",
    "    model.add(Dense(n_nodes, input_dim=n_input, activation='relu'))\n",
    "    model.add(Dense(n_output, activation='sigmoid'))\n",
    "    model.compile(loss='binary_crossentropy', optimizer='adam', metrics=['accuracy'])\n",
    "    # print(model.summary())\n",
    "    # Fit the model\n",
    "    model.fit(train_x, train_y, epochs=epoch, batch_size=batch)\n",
    "    return model\n",
    "\n",
    "# predict with the fit model\n",
    "def model_predict(model, testdata):\n",
    "    Prediction = model.predict(testdata, verbose=0)\n",
    "    return Prediction\n",
    "\n",
    "# Calculate accuracy percentage\n",
    "def accuracy_metric(actual, predicted):\n",
    "    correct = 0\n",
    "    for i in range(len(actual)):\n",
    "        if actual[i] == predicted[i]:\n",
    "            correct += 1\n",
    "    return correct / float(len(actual)) * 100.0"
   ]
  },
  {
   "cell_type": "code",
   "execution_count": 19,
   "metadata": {
    "tags": []
   },
   "outputs": [
    {
     "output_type": "stream",
     "name": "stdout",
     "text": "[[784, 10, 5, 60, 250], [784, 10, 45, 60, 250], [784, 10, 50, 60, 250]]\n"
    }
   ],
   "source": [
    "inputs = 784 # Input features\n",
    "outputs = 10 # Output features\n",
    "\n",
    "# Find best model:\n",
    "# nodes = [5, 10, 15, 20, 25, 30, 35, 40, 45, 50]\n",
    "nodes = [5, 45, 50]\n",
    "configs = []\n",
    "for n in nodes:\n",
    "    config_ = [inputs, outputs, n, 60, 250]\n",
    "    configs.append(config_)\n",
    "\n",
    "print(configs)"
   ]
  },
  {
   "cell_type": "code",
   "execution_count": 20,
   "metadata": {
    "tags": []
   },
   "outputs": [
    {
     "output_type": "stream",
     "name": "stdout",
     "text": "Epoch 1/60\n60000/60000 [==============================] - 2s 31us/step - loss: 0.4091 - accuracy: 0.8376\nEpoch 2/60\n60000/60000 [==============================] - 2s 30us/step - loss: 0.2199 - accuracy: 0.9187\nEpoch 3/60\n60000/60000 [==============================] - 2s 30us/step - loss: 0.1907 - accuracy: 0.9300\nEpoch 4/60\n60000/60000 [==============================] - 2s 30us/step - loss: 0.1782 - accuracy: 0.9342\nEpoch 5/60\n60000/60000 [==============================] - 2s 30us/step - loss: 0.1686 - accuracy: 0.9384\nEpoch 6/60\n60000/60000 [==============================] - 2s 30us/step - loss: 0.1604 - accuracy: 0.9419\nEpoch 7/60\n60000/60000 [==============================] - 2s 31us/step - loss: 0.1547 - accuracy: 0.9446\nEpoch 8/60\n60000/60000 [==============================] - 2s 30us/step - loss: 0.1510 - accuracy: 0.9461\nEpoch 9/60\n60000/60000 [==============================] - 2s 30us/step - loss: 0.1484 - accuracy: 0.9471\nEpoch 10/60\n60000/60000 [==============================] - 2s 30us/step - loss: 0.1462 - accuracy: 0.9478\nEpoch 11/60\n60000/60000 [==============================] - 2s 31us/step - loss: 0.1444 - accuracy: 0.9483\nEpoch 12/60\n60000/60000 [==============================] - 2s 30us/step - loss: 0.1430 - accuracy: 0.9488\nEpoch 13/60\n60000/60000 [==============================] - 2s 30us/step - loss: 0.1418 - accuracy: 0.9493\nEpoch 14/60\n60000/60000 [==============================] - 2s 30us/step - loss: 0.1409 - accuracy: 0.9495\nEpoch 15/60\n60000/60000 [==============================] - 2s 31us/step - loss: 0.1400 - accuracy: 0.9500\nEpoch 16/60\n60000/60000 [==============================] - 2s 31us/step - loss: 0.1293 - accuracy: 0.9550\nEpoch 17/60\n60000/60000 [==============================] - 2s 31us/step - loss: 0.1151 - accuracy: 0.9611\nEpoch 18/60\n60000/60000 [==============================] - 2s 30us/step - loss: 0.1131 - accuracy: 0.9618\nEpoch 19/60\n60000/60000 [==============================] - 2s 33us/step - loss: 0.1120 - accuracy: 0.9623\nEpoch 20/60\n60000/60000 [==============================] - 2s 32us/step - loss: 0.1113 - accuracy: 0.9626\nEpoch 21/60\n60000/60000 [==============================] - 2s 30us/step - loss: 0.1107 - accuracy: 0.9629\nEpoch 22/60\n60000/60000 [==============================] - 2s 29us/step - loss: 0.1101 - accuracy: 0.9632\nEpoch 23/60\n60000/60000 [==============================] - 2s 29us/step - loss: 0.1096 - accuracy: 0.9634\nEpoch 24/60\n60000/60000 [==============================] - 2s 31us/step - loss: 0.1093 - accuracy: 0.9636\nEpoch 25/60\n60000/60000 [==============================] - 2s 29us/step - loss: 0.1089 - accuracy: 0.9638\nEpoch 26/60\n60000/60000 [==============================] - 2s 29us/step - loss: 0.1086 - accuracy: 0.9639\nEpoch 27/60\n60000/60000 [==============================] - 2s 29us/step - loss: 0.1083 - accuracy: 0.9641\nEpoch 28/60\n60000/60000 [==============================] - 2s 29us/step - loss: 0.1081 - accuracy: 0.9641\nEpoch 29/60\n60000/60000 [==============================] - 2s 29us/step - loss: 0.1078 - accuracy: 0.9642\nEpoch 30/60\n60000/60000 [==============================] - 2s 29us/step - loss: 0.1075 - accuracy: 0.9644\nEpoch 31/60\n60000/60000 [==============================] - 2s 29us/step - loss: 0.1073 - accuracy: 0.9645\nEpoch 32/60\n60000/60000 [==============================] - 2s 30us/step - loss: 0.1071 - accuracy: 0.9644\nEpoch 33/60\n60000/60000 [==============================] - 2s 39us/step - loss: 0.1070 - accuracy: 0.9647\nEpoch 34/60\n60000/60000 [==============================] - 2s 41us/step - loss: 0.1067 - accuracy: 0.9648\nEpoch 35/60\n60000/60000 [==============================] - 2s 38us/step - loss: 0.1066 - accuracy: 0.9647\nEpoch 36/60\n60000/60000 [==============================] - 2s 35us/step - loss: 0.1064 - accuracy: 0.9650\nEpoch 37/60\n60000/60000 [==============================] - 2s 33us/step - loss: 0.1062 - accuracy: 0.9650\nEpoch 38/60\n60000/60000 [==============================] - 2s 31us/step - loss: 0.1060 - accuracy: 0.9652\nEpoch 39/60\n60000/60000 [==============================] - 2s 32us/step - loss: 0.1060 - accuracy: 0.9652\nEpoch 40/60\n60000/60000 [==============================] - 2s 30us/step - loss: 0.1058 - accuracy: 0.9653\nEpoch 41/60\n60000/60000 [==============================] - 2s 33us/step - loss: 0.1057 - accuracy: 0.9653\nEpoch 42/60\n60000/60000 [==============================] - 2s 33us/step - loss: 0.1056 - accuracy: 0.9653\nEpoch 43/60\n60000/60000 [==============================] - 2s 34us/step - loss: 0.1055 - accuracy: 0.9654\nEpoch 44/60\n60000/60000 [==============================] - 2s 34us/step - loss: 0.1053 - accuracy: 0.9655\nEpoch 45/60\n60000/60000 [==============================] - 2s 34us/step - loss: 0.1052 - accuracy: 0.9656\nEpoch 46/60\n60000/60000 [==============================] - 2s 33us/step - loss: 0.1051 - accuracy: 0.9657\nEpoch 47/60\n60000/60000 [==============================] - 2s 32us/step - loss: 0.1050 - accuracy: 0.9657\nEpoch 48/60\n60000/60000 [==============================] - 2s 31us/step - loss: 0.1049 - accuracy: 0.9657\nEpoch 49/60\n60000/60000 [==============================] - 2s 31us/step - loss: 0.1048 - accuracy: 0.9657\nEpoch 50/60\n60000/60000 [==============================] - 2s 31us/step - loss: 0.1046 - accuracy: 0.9659\nEpoch 51/60\n60000/60000 [==============================] - 2s 31us/step - loss: 0.1045 - accuracy: 0.9659\nEpoch 52/60\n60000/60000 [==============================] - 2s 31us/step - loss: 0.1045 - accuracy: 0.9659\nEpoch 53/60\n60000/60000 [==============================] - 2s 31us/step - loss: 0.1043 - accuracy: 0.9659\nEpoch 54/60\n60000/60000 [==============================] - 2s 31us/step - loss: 0.1042 - accuracy: 0.9661\nEpoch 55/60\n60000/60000 [==============================] - 2s 31us/step - loss: 0.1040 - accuracy: 0.9661\nEpoch 56/60\n60000/60000 [==============================] - 2s 31us/step - loss: 0.1039 - accuracy: 0.9660\nEpoch 57/60\n60000/60000 [==============================] - 2s 31us/step - loss: 0.1039 - accuracy: 0.9662\nEpoch 58/60\n60000/60000 [==============================] - 2s 31us/step - loss: 0.1037 - accuracy: 0.9663\nEpoch 59/60\n60000/60000 [==============================] - 2s 31us/step - loss: 0.1036 - accuracy: 0.9664\nEpoch 60/60\n60000/60000 [==============================] - 2s 31us/step - loss: 0.1035 - accuracy: 0.9663\nModel saved\nEpoch 1/60\n60000/60000 [==============================] - 2s 32us/step - loss: 0.1776 - accuracy: 0.9362\nEpoch 2/60\n60000/60000 [==============================] - 2s 31us/step - loss: 0.0727 - accuracy: 0.9777\nEpoch 3/60\n60000/60000 [==============================] - 2s 32us/step - loss: 0.0581 - accuracy: 0.9821\nEpoch 4/60\n60000/60000 [==============================] - 2s 31us/step - loss: 0.0510 - accuracy: 0.9843\nEpoch 5/60\n60000/60000 [==============================] - 2s 31us/step - loss: 0.0463 - accuracy: 0.9856\nEpoch 6/60\n60000/60000 [==============================] - 2s 31us/step - loss: 0.0427 - accuracy: 0.9867\nEpoch 7/60\n60000/60000 [==============================] - 2s 31us/step - loss: 0.0397 - accuracy: 0.9877\nEpoch 8/60\n60000/60000 [==============================] - 2s 31us/step - loss: 0.0370 - accuracy: 0.9885\nEpoch 9/60\n60000/60000 [==============================] - 2s 32us/step - loss: 0.0349 - accuracy: 0.9891\nEpoch 10/60\n60000/60000 [==============================] - 2s 32us/step - loss: 0.0329 - accuracy: 0.9897\nEpoch 11/60\n60000/60000 [==============================] - 2s 32us/step - loss: 0.0312 - accuracy: 0.9902\nEpoch 12/60\n60000/60000 [==============================] - 2s 32us/step - loss: 0.0296 - accuracy: 0.9907\nEpoch 13/60\n60000/60000 [==============================] - 2s 33us/step - loss: 0.0281 - accuracy: 0.9912\nEpoch 14/60\n60000/60000 [==============================] - 2s 32us/step - loss: 0.0269 - accuracy: 0.9915\nEpoch 15/60\n60000/60000 [==============================] - 2s 32us/step - loss: 0.0258 - accuracy: 0.9919\nEpoch 16/60\n60000/60000 [==============================] - 2s 33us/step - loss: 0.0248 - accuracy: 0.9922\nEpoch 17/60\n60000/60000 [==============================] - 2s 32us/step - loss: 0.0239 - accuracy: 0.9925\nEpoch 18/60\n60000/60000 [==============================] - 2s 31us/step - loss: 0.0230 - accuracy: 0.9927\nEpoch 19/60\n60000/60000 [==============================] - 2s 34us/step - loss: 0.0223 - accuracy: 0.9929\nEpoch 20/60\n60000/60000 [==============================] - 2s 33us/step - loss: 0.0215 - accuracy: 0.9932\nEpoch 21/60\n60000/60000 [==============================] - 2s 33us/step - loss: 0.0208 - accuracy: 0.9935\nEpoch 22/60\n60000/60000 [==============================] - 2s 31us/step - loss: 0.0201 - accuracy: 0.9937\nEpoch 23/60\n60000/60000 [==============================] - 2s 31us/step - loss: 0.0196 - accuracy: 0.9938\nEpoch 24/60\n60000/60000 [==============================] - 2s 31us/step - loss: 0.0190 - accuracy: 0.9940\nEpoch 25/60\n60000/60000 [==============================] - 2s 31us/step - loss: 0.0185 - accuracy: 0.9942\nEpoch 26/60\n60000/60000 [==============================] - 2s 33us/step - loss: 0.0179 - accuracy: 0.9943\nEpoch 27/60\n60000/60000 [==============================] - 2s 34us/step - loss: 0.0176 - accuracy: 0.9945\nEpoch 28/60\n60000/60000 [==============================] - 2s 35us/step - loss: 0.0171 - accuracy: 0.9946\nEpoch 29/60\n60000/60000 [==============================] - 2s 33us/step - loss: 0.0167 - accuracy: 0.9948\nEpoch 30/60\n60000/60000 [==============================] - 2s 29us/step - loss: 0.0163 - accuracy: 0.9949\nEpoch 31/60\n60000/60000 [==============================] - 2s 33us/step - loss: 0.0159 - accuracy: 0.9950\nEpoch 32/60\n60000/60000 [==============================] - 2s 30us/step - loss: 0.0154 - accuracy: 0.9952\nEpoch 33/60\n60000/60000 [==============================] - 2s 29us/step - loss: 0.0151 - accuracy: 0.9953\nEpoch 34/60\n60000/60000 [==============================] - 2s 29us/step - loss: 0.0147 - accuracy: 0.9954\nEpoch 35/60\n60000/60000 [==============================] - 2s 30us/step - loss: 0.0144 - accuracy: 0.9955\nEpoch 36/60\n60000/60000 [==============================] - 2s 29us/step - loss: 0.0139 - accuracy: 0.9956\nEpoch 37/60\n60000/60000 [==============================] - 2s 29us/step - loss: 0.0136 - accuracy: 0.9957\nEpoch 38/60\n60000/60000 [==============================] - 2s 29us/step - loss: 0.0133 - accuracy: 0.9959\nEpoch 39/60\n60000/60000 [==============================] - 2s 31us/step - loss: 0.0129 - accuracy: 0.9960\nEpoch 40/60\n60000/60000 [==============================] - 2s 30us/step - loss: 0.0126 - accuracy: 0.9960\nEpoch 41/60\n60000/60000 [==============================] - 2s 34us/step - loss: 0.0123 - accuracy: 0.9962\nEpoch 42/60\n60000/60000 [==============================] - 2s 30us/step - loss: 0.0121 - accuracy: 0.9962\nEpoch 43/60\n60000/60000 [==============================] - 2s 31us/step - loss: 0.0118 - accuracy: 0.9963\nEpoch 44/60\n60000/60000 [==============================] - 2s 30us/step - loss: 0.0116 - accuracy: 0.9964\nEpoch 45/60\n60000/60000 [==============================] - 2s 29us/step - loss: 0.0113 - accuracy: 0.9965\nEpoch 46/60\n60000/60000 [==============================] - 2s 30us/step - loss: 0.0111 - accuracy: 0.9966\nEpoch 47/60\n60000/60000 [==============================] - 2s 30us/step - loss: 0.0109 - accuracy: 0.9967\nEpoch 48/60\n60000/60000 [==============================] - 2s 29us/step - loss: 0.0107 - accuracy: 0.9967\nEpoch 49/60\n60000/60000 [==============================] - 2s 29us/step - loss: 0.0104 - accuracy: 0.9968\nEpoch 50/60\n60000/60000 [==============================] - 2s 29us/step - loss: 0.0103 - accuracy: 0.9968\nEpoch 51/60\n60000/60000 [==============================] - 2s 29us/step - loss: 0.0101 - accuracy: 0.9969\nEpoch 52/60\n60000/60000 [==============================] - 2s 30us/step - loss: 0.0098 - accuracy: 0.9970\nEpoch 53/60\n60000/60000 [==============================] - 2s 29us/step - loss: 0.0097 - accuracy: 0.9971\nEpoch 54/60\n60000/60000 [==============================] - 2s 33us/step - loss: 0.0095 - accuracy: 0.9971\nEpoch 55/60\n60000/60000 [==============================] - 2s 37us/step - loss: 0.0093 - accuracy: 0.9971\nEpoch 56/60\n60000/60000 [==============================] - 2s 32us/step - loss: 0.0091 - accuracy: 0.9972\nEpoch 57/60\n60000/60000 [==============================] - 2s 35us/step - loss: 0.0090 - accuracy: 0.9973\nEpoch 58/60\n60000/60000 [==============================] - 2s 37us/step - loss: 0.0088 - accuracy: 0.9973\nEpoch 59/60\n60000/60000 [==============================] - 2s 35us/step - loss: 0.0087 - accuracy: 0.9974\nEpoch 60/60\n60000/60000 [==============================] - 2s 34us/step - loss: 0.0085 - accuracy: 0.9974\nModel saved\nEpoch 1/60\n60000/60000 [==============================] - 2s 35us/step - loss: 0.1722 - accuracy: 0.9393\nEpoch 2/60\n60000/60000 [==============================] - 2s 34us/step - loss: 0.0729 - accuracy: 0.9776\nEpoch 3/60\n60000/60000 [==============================] - 2s 32us/step - loss: 0.0589 - accuracy: 0.9817\nEpoch 4/60\n60000/60000 [==============================] - 2s 31us/step - loss: 0.0514 - accuracy: 0.9840\nEpoch 5/60\n60000/60000 [==============================] - 2s 32us/step - loss: 0.0465 - accuracy: 0.9856\nEpoch 6/60\n60000/60000 [==============================] - 2s 31us/step - loss: 0.0427 - accuracy: 0.9867\nEpoch 7/60\n60000/60000 [==============================] - 2s 31us/step - loss: 0.0395 - accuracy: 0.9877\nEpoch 8/60\n60000/60000 [==============================] - 2s 32us/step - loss: 0.0367 - accuracy: 0.9886\nEpoch 9/60\n60000/60000 [==============================] - 2s 36us/step - loss: 0.0343 - accuracy: 0.9893\nEpoch 10/60\n60000/60000 [==============================] - 2s 34us/step - loss: 0.0323 - accuracy: 0.9899\nEpoch 11/60\n60000/60000 [==============================] - 2s 31us/step - loss: 0.0306 - accuracy: 0.9904\nEpoch 12/60\n60000/60000 [==============================] - 2s 31us/step - loss: 0.0291 - accuracy: 0.9909\nEpoch 13/60\n60000/60000 [==============================] - 2s 30us/step - loss: 0.0278 - accuracy: 0.9913\nEpoch 14/60\n60000/60000 [==============================] - 2s 30us/step - loss: 0.0267 - accuracy: 0.9917\nEpoch 15/60\n60000/60000 [==============================] - 2s 30us/step - loss: 0.0256 - accuracy: 0.9920\nEpoch 16/60\n60000/60000 [==============================] - 2s 30us/step - loss: 0.0245 - accuracy: 0.9924\nEpoch 17/60\n60000/60000 [==============================] - 2s 30us/step - loss: 0.0234 - accuracy: 0.9928\nEpoch 18/60\n60000/60000 [==============================] - 2s 30us/step - loss: 0.0224 - accuracy: 0.9931\nEpoch 19/60\n60000/60000 [==============================] - 2s 30us/step - loss: 0.0214 - accuracy: 0.9933\nEpoch 20/60\n60000/60000 [==============================] - 2s 31us/step - loss: 0.0203 - accuracy: 0.9937\nEpoch 21/60\n60000/60000 [==============================] - 2s 31us/step - loss: 0.0194 - accuracy: 0.9939\nEpoch 22/60\n60000/60000 [==============================] - 2s 31us/step - loss: 0.0186 - accuracy: 0.9943\nEpoch 23/60\n60000/60000 [==============================] - 2s 30us/step - loss: 0.0179 - accuracy: 0.9944\nEpoch 24/60\n60000/60000 [==============================] - 2s 30us/step - loss: 0.0172 - accuracy: 0.9947\nEpoch 25/60\n60000/60000 [==============================] - 2s 31us/step - loss: 0.0167 - accuracy: 0.9948\nEpoch 26/60\n60000/60000 [==============================] - 2s 31us/step - loss: 0.0162 - accuracy: 0.9950\nEpoch 27/60\n60000/60000 [==============================] - 2s 30us/step - loss: 0.0156 - accuracy: 0.9951\nEpoch 28/60\n60000/60000 [==============================] - 2s 30us/step - loss: 0.0151 - accuracy: 0.9954\nEpoch 29/60\n60000/60000 [==============================] - 2s 30us/step - loss: 0.0146 - accuracy: 0.9955\nEpoch 30/60\n60000/60000 [==============================] - 2s 30us/step - loss: 0.0143 - accuracy: 0.9955\nEpoch 31/60\n60000/60000 [==============================] - 2s 30us/step - loss: 0.0137 - accuracy: 0.9957\nEpoch 32/60\n60000/60000 [==============================] - 2s 30us/step - loss: 0.0133 - accuracy: 0.9960\nEpoch 33/60\n60000/60000 [==============================] - 2s 30us/step - loss: 0.0129 - accuracy: 0.9960\nEpoch 34/60\n60000/60000 [==============================] - 2s 31us/step - loss: 0.0126 - accuracy: 0.9961\nEpoch 35/60\n60000/60000 [==============================] - 2s 31us/step - loss: 0.0123 - accuracy: 0.9963\nEpoch 36/60\n60000/60000 [==============================] - 2s 30us/step - loss: 0.0119 - accuracy: 0.9963\nEpoch 37/60\n60000/60000 [==============================] - 2s 31us/step - loss: 0.0116 - accuracy: 0.9965\nEpoch 38/60\n60000/60000 [==============================] - 2s 31us/step - loss: 0.0113 - accuracy: 0.9966\nEpoch 39/60\n60000/60000 [==============================] - 2s 30us/step - loss: 0.0110 - accuracy: 0.9966\nEpoch 40/60\n60000/60000 [==============================] - 2s 30us/step - loss: 0.0108 - accuracy: 0.9967\nEpoch 41/60\n60000/60000 [==============================] - 2s 30us/step - loss: 0.0106 - accuracy: 0.9968\nEpoch 42/60\n60000/60000 [==============================] - 2s 31us/step - loss: 0.0103 - accuracy: 0.9969\nEpoch 43/60\n60000/60000 [==============================] - 2s 31us/step - loss: 0.0101 - accuracy: 0.9970\nEpoch 44/60\n60000/60000 [==============================] - 2s 30us/step - loss: 0.0099 - accuracy: 0.9971\nEpoch 45/60\n60000/60000 [==============================] - 2s 31us/step - loss: 0.0096 - accuracy: 0.9971\nEpoch 46/60\n60000/60000 [==============================] - 2s 30us/step - loss: 0.0095 - accuracy: 0.9971\nEpoch 47/60\n60000/60000 [==============================] - 2s 31us/step - loss: 0.0093 - accuracy: 0.9972\nEpoch 48/60\n60000/60000 [==============================] - 2s 30us/step - loss: 0.0089 - accuracy: 0.9974\nEpoch 49/60\n60000/60000 [==============================] - 2s 30us/step - loss: 0.0088 - accuracy: 0.9974\nEpoch 50/60\n60000/60000 [==============================] - 2s 31us/step - loss: 0.0086 - accuracy: 0.9975\nEpoch 51/60\n60000/60000 [==============================] - 2s 30us/step - loss: 0.0085 - accuracy: 0.9975\nEpoch 52/60\n60000/60000 [==============================] - 2s 30us/step - loss: 0.0083 - accuracy: 0.9975\nEpoch 53/60\n60000/60000 [==============================] - 2s 30us/step - loss: 0.0081 - accuracy: 0.9977\nEpoch 54/60\n60000/60000 [==============================] - 2s 31us/step - loss: 0.0080 - accuracy: 0.9977\nEpoch 55/60\n60000/60000 [==============================] - 2s 30us/step - loss: 0.0078 - accuracy: 0.9978\nEpoch 56/60\n60000/60000 [==============================] - 2s 30us/step - loss: 0.0077 - accuracy: 0.9978\nEpoch 57/60\n60000/60000 [==============================] - 2s 31us/step - loss: 0.0075 - accuracy: 0.9978\nEpoch 58/60\n60000/60000 [==============================] - 2s 30us/step - loss: 0.0074 - accuracy: 0.9978\nEpoch 59/60\n60000/60000 [==============================] - 2s 33us/step - loss: 0.0072 - accuracy: 0.9979\nEpoch 60/60\n60000/60000 [==============================] - 2s 32us/step - loss: 0.0072 - accuracy: 0.9980\nModel saved\n[84.96000000000001, 97.2, 97.35000000000001]\n"
    }
   ],
   "source": [
    "scores = []\n",
    "model_nrs = [1, 9, 10]\n",
    "itera = -1\n",
    "for config in configs:\n",
    "    itera += 1\n",
    "    model_name = \"\\ModelV1_\" + str(model_nrs[itera])\n",
    "    fullpath = r\"D:\\GitRepos\\course-machine-learning\\week-three\\AS11\\saved_models\"\n",
    "    fullpath += model_name\n",
    "\n",
    "    neural_network = model_fit(train_X, train_y, config)\n",
    "\n",
    "    prediction = model_predict(neural_network, test_X)\n",
    "\n",
    "    PredClass = list()\n",
    "    ActualClass = list()\n",
    "    for row in range(len(test_y)):\n",
    "        index_maxscore1 = max(range(len(test_y[row])), key=test_y[row].__getitem__)\n",
    "        ActualClass.append(index_maxscore1)\n",
    "        index_maxscore2 = max(range(len(prediction[row])), key=prediction[row].__getitem__)\n",
    "        PredClass.append(index_maxscore2)\n",
    "        # print('Expected=%d, Got=%d' % (index_maxscore1, index_maxscore2))\n",
    "\n",
    "\n",
    "    accuracy = accuracy_metric(PredClass, ActualClass)\n",
    "    scores.append(accuracy)\n",
    "\n",
    "    model_as_json = neural_network.to_json()\n",
    "    with open(fullpath+\".json\", \"w\") as json_file:\n",
    "        json_file.write(model_as_json)\n",
    "    neural_network.save_weights(fullpath+\".h5\")\n",
    "    print(\"Model saved\")\n",
    "\n",
    "print(scores)"
   ]
  },
  {
   "cell_type": "code",
   "execution_count": 21,
   "metadata": {
    "tags": []
   },
   "outputs": [
    {
     "output_type": "stream",
     "name": "stdout",
     "text": "Model: \"sequential_7\"\n_________________________________________________________________\nLayer (type)                 Output Shape              Param #   \n=================================================================\ndense_13 (Dense)             (None, 50)                39250     \n_________________________________________________________________\ndense_14 (Dense)             (None, 10)                510       \n=================================================================\nTotal params: 39,760\nTrainable params: 39,760\nNon-trainable params: 0\n_________________________________________________________________\n"
    }
   ],
   "source": [
    "neural_network.summary()"
   ]
  },
  {
   "cell_type": "code",
   "execution_count": 22,
   "metadata": {},
   "outputs": [],
   "source": [
    "del neural_network"
   ]
  },
  {
   "cell_type": "code",
   "execution_count": 41,
   "metadata": {
    "tags": [
     "outputPrepend"
    ]
   },
   "outputs": [
    {
     "output_type": "stream",
     "name": "stdout",
     "text": "6\nExpected=2, Got=2\nExpected=6, Got=6\nExpected=7, Got=7\nExpected=1, Got=1\nExpected=9, Got=9\nExpected=8, Got=8\nExpected=0, Got=0\nExpected=6, Got=6\nExpected=9, Got=9\nExpected=4, Got=4\nExpected=9, Got=9\nExpected=9, Got=9\nExpected=6, Got=6\nExpected=2, Got=2\nExpected=3, Got=3\nExpected=7, Got=7\nExpected=1, Got=1\nExpected=9, Got=9\nExpected=2, Got=2\nExpected=2, Got=2\nExpected=5, Got=5\nExpected=3, Got=3\nExpected=7, Got=7\nExpected=8, Got=8\nExpected=0, Got=0\nExpected=1, Got=1\nExpected=2, Got=2\nExpected=3, Got=3\nExpected=4, Got=4\nExpected=7, Got=7\nExpected=8, Got=8\nExpected=9, Got=9\nExpected=0, Got=0\nExpected=1, Got=1\nExpected=2, Got=2\nExpected=3, Got=3\nExpected=4, Got=4\nExpected=7, Got=7\nExpected=8, Got=8\nExpected=9, Got=9\nExpected=0, Got=0\nExpected=1, Got=1\nExpected=7, Got=7\nExpected=8, Got=8\nExpected=9, Got=9\nExpected=8, Got=8\nExpected=9, Got=9\nExpected=2, Got=2\nExpected=6, Got=6\nExpected=1, Got=1\nExpected=3, Got=3\nExpected=5, Got=5\nExpected=4, Got=4\nExpected=8, Got=8\nExpected=2, Got=2\nExpected=6, Got=6\nExpected=4, Got=4\nExpected=3, Got=3\nExpected=4, Got=4\nExpected=5, Got=5\nExpected=9, Got=9\nExpected=2, Got=2\nExpected=0, Got=0\nExpected=3, Got=3\nExpected=9, Got=9\nExpected=4, Got=4\nExpected=9, Got=9\nExpected=7, Got=7\nExpected=3, Got=3\nExpected=8, Got=8\nExpected=7, Got=7\nExpected=4, Got=4\nExpected=4, Got=4\nExpected=9, Got=9\nExpected=8, Got=8\nExpected=5, Got=5\nExpected=8, Got=8\nExpected=2, Got=2\nExpected=6, Got=6\nExpected=6, Got=6\nExpected=2, Got=2\nExpected=3, Got=3\nExpected=1, Got=1\nExpected=3, Got=3\nExpected=2, Got=2\nExpected=7, Got=7\nExpected=3, Got=3\nExpected=1, Got=1\nExpected=9, Got=9\nExpected=0, Got=0\nExpected=1, Got=1\nExpected=1, Got=1\nExpected=3, Got=3\nExpected=5, Got=5\nExpected=0, Got=0\nExpected=7, Got=7\nExpected=8, Got=8\nExpected=1, Got=1\nExpected=5, Got=5\nExpected=1, Got=1\nExpected=4, Got=4\nExpected=6, Got=6\nExpected=0, Got=0\nExpected=0, Got=0\nExpected=4, Got=4\nExpected=9, Got=9\nExpected=1, Got=1\nExpected=6, Got=6\nExpected=6, Got=6\nExpected=9, Got=9\nExpected=0, Got=0\nExpected=7, Got=7\nExpected=6, Got=6\nExpected=1, Got=1\nExpected=1, Got=1\nExpected=0, Got=0\nExpected=1, Got=1\nExpected=2, Got=2\nExpected=3, Got=3\nExpected=4, Got=4\nExpected=7, Got=2\nExpected=2, Got=2\nExpected=3, Got=3\nExpected=4, Got=4\nExpected=5, Got=5\nExpected=6, Got=6\nExpected=7, Got=2\nExpected=0, Got=5\nExpected=1, Got=1\nExpected=2, Got=2\nExpected=7, Got=2\nExpected=8, Got=8\nExpected=6, Got=6\nExpected=3, Got=3\nExpected=9, Got=9\nExpected=7, Got=2\nExpected=1, Got=1\nExpected=9, Got=9\nExpected=3, Got=3\nExpected=9, Got=9\nExpected=6, Got=6\nExpected=1, Got=1\nExpected=7, Got=7\nExpected=2, Got=2\nExpected=4, Got=4\nExpected=4, Got=4\nExpected=5, Got=5\nExpected=7, Got=7\nExpected=0, Got=0\nExpected=0, Got=0\nExpected=1, Got=1\nExpected=6, Got=6\nExpected=6, Got=6\nExpected=8, Got=8\nExpected=2, Got=2\nExpected=7, Got=7\nExpected=7, Got=2\nExpected=2, Got=2\nExpected=4, Got=4\nExpected=2, Got=2\nExpected=1, Got=1\nExpected=6, Got=6\nExpected=1, Got=1\nExpected=0, Got=0\nExpected=6, Got=6\nExpected=9, Got=9\nExpected=8, Got=8\nExpected=3, Got=3\nExpected=9, Got=9\nExpected=6, Got=6\nExpected=3, Got=3\nExpected=0, Got=0\nExpected=1, Got=1\nExpected=2, Got=2\nExpected=3, Got=3\nExpected=4, Got=4\nExpected=5, Got=5\nExpected=6, Got=6\nExpected=7, Got=7\nExpected=8, Got=8\nExpected=9, Got=9\nExpected=0, Got=0\nExpected=1, Got=8\nExpected=2, Got=2\nExpected=3, Got=3\nExpected=4, Got=4\nExpected=5, Got=5\nExpected=6, Got=6\nExpected=7, Got=7\nExpected=8, Got=8\nExpected=9, Got=9\nExpected=0, Got=0\nExpected=1, Got=1\nExpected=2, Got=2\nExpected=3, Got=3\nExpected=4, Got=4\nExpected=5, Got=5\nExpected=6, Got=6\nExpected=7, Got=7\nExpected=8, Got=8\nExpected=9, Got=9\nExpected=1, Got=1\nExpected=6, Got=6\nExpected=8, Got=8\nExpected=9, Got=9\nExpected=9, Got=9\nExpected=0, Got=0\nExpected=1, Got=1\nExpected=2, Got=2\nExpected=4, Got=4\nExpected=4, Got=4\nExpected=3, Got=3\nExpected=7, Got=7\nExpected=4, Got=4\nExpected=4, Got=4\nExpected=4, Got=4\nExpected=0, Got=0\nExpected=3, Got=3\nExpected=8, Got=8\nExpected=7, Got=7\nExpected=5, Got=5\nExpected=8, Got=8\nExpected=2, Got=2\nExpected=1, Got=1\nExpected=7, Got=7\nExpected=5, Got=5\nExpected=3, Got=3\nExpected=8, Got=8\nExpected=5, Got=5\nExpected=2, Got=2\nExpected=5, Got=5\nExpected=1, Got=1\nExpected=1, Got=1\nExpected=6, Got=6\nExpected=2, Got=2\nExpected=1, Got=1\nExpected=3, Got=3\nExpected=8, Got=8\nExpected=6, Got=6\nExpected=4, Got=4\nExpected=2, Got=2\nExpected=6, Got=6\nExpected=2, Got=2\nExpected=5, Got=5\nExpected=5, Got=5\nExpected=0, Got=0\nExpected=2, Got=2\nExpected=8, Got=8\nExpected=0, Got=0\nExpected=6, Got=6\nExpected=8, Got=8\nExpected=1, Got=1\nExpected=7, Got=7\nExpected=9, Got=9\nExpected=1, Got=1\nExpected=9, Got=9\nExpected=2, Got=2\nExpected=6, Got=6\nExpected=7, Got=7\nExpected=6, Got=6\nExpected=6, Got=6\nExpected=8, Got=8\nExpected=7, Got=7\nExpected=4, Got=4\nExpected=9, Got=9\nExpected=2, Got=2\nExpected=1, Got=1\nExpected=3, Got=3\nExpected=3, Got=3\nExpected=0, Got=0\nExpected=5, Got=5\nExpected=5, Got=5\nExpected=8, Got=8\nExpected=0, Got=0\nExpected=3, Got=3\nExpected=7, Got=7\nExpected=9, Got=9\nExpected=7, Got=7\nExpected=0, Got=0\nExpected=2, Got=2\nExpected=7, Got=7\nExpected=9, Got=9\nExpected=1, Got=1\nExpected=7, Got=7\nExpected=8, Got=8\nExpected=0, Got=0\nExpected=3, Got=3\nExpected=5, Got=5\nExpected=3, Got=3\nExpected=6, Got=6\nExpected=0, Got=0\nExpected=1, Got=1\nExpected=2, Got=2\nExpected=3, Got=3\nExpected=4, Got=4\nExpected=5, Got=5\nExpected=6, Got=6\nExpected=7, Got=7\nExpected=8, Got=8\nExpected=9, Got=9\nExpected=0, Got=0\nExpected=1, Got=1\nExpected=2, Got=2\nExpected=3, Got=3\nExpected=4, Got=4\nExpected=5, Got=5\nExpected=6, Got=6\nExpected=7, Got=7\nExpected=8, Got=8\nExpected=9, Got=9\nExpected=0, Got=0\nExpected=1, Got=1\nExpected=2, Got=2\nExpected=3, Got=3\nExpected=4, Got=4\nExpected=7, Got=7\nExpected=8, Got=8\nExpected=9, Got=9\nExpected=6, Got=6\nExpected=4, Got=4\nExpected=2, Got=2\nExpected=6, Got=6\nExpected=4, Got=4\nExpected=7, Got=7\nExpected=8, Got=8\nExpected=9, Got=9\nExpected=2, Got=2\nExpected=9, Got=9\nExpected=3, Got=3\nExpected=9, Got=9\nExpected=3, Got=3\nExpected=0, Got=0\nExpected=0, Got=0\nExpected=1, Got=1\nExpected=0, Got=0\nExpected=4, Got=4\nExpected=2, Got=2\nExpected=6, Got=6\nExpected=3, Got=3\nExpected=5, Got=5\nExpected=3, Got=3\nExpected=0, Got=0\nExpected=3, Got=3\nExpected=4, Got=4\nExpected=1, Got=1\nExpected=5, Got=5\nExpected=3, Got=3\nExpected=0, Got=0\nExpected=8, Got=8\nExpected=3, Got=3\nExpected=0, Got=0\nExpected=6, Got=6\nExpected=1, Got=1\nExpected=7, Got=7\nExpected=8, Got=8\nExpected=0, Got=0\nExpected=9, Got=9\nExpected=2, Got=2\nExpected=6, Got=6\nExpected=7, Got=7\nExpected=1, Got=1\nExpected=9, Got=9\nExpected=6, Got=6\nExpected=9, Got=9\nExpected=4, Got=4\nExpected=9, Got=9\nExpected=9, Got=9\nExpected=6, Got=6\nExpected=7, Got=7\nExpected=1, Got=1\nExpected=2, Got=2\nExpected=5, Got=5\nExpected=3, Got=3\nExpected=7, Got=7\nExpected=8, Got=8\nExpected=0, Got=0\nExpected=1, Got=1\nExpected=2, Got=2\nExpected=4, Got=4\nExpected=5, Got=5\nExpected=6, Got=6\nExpected=7, Got=7\nExpected=8, Got=8\nExpected=9, Got=9\nExpected=0, Got=0\nExpected=1, Got=1\nExpected=3, Got=3\nExpected=4, Got=4\nExpected=5, Got=5\nExpected=6, Got=6\nExpected=7, Got=7\nExpected=8, Got=5\nExpected=0, Got=0\nExpected=1, Got=1\nExpected=3, Got=3\nExpected=4, Got=4\nExpected=7, Got=7\nExpected=8, Got=8\nExpected=9, Got=9\nExpected=7, Got=7\nExpected=5, Got=5\nExpected=5, Got=5\nExpected=1, Got=1\nExpected=9, Got=9\nExpected=9, Got=9\nExpected=7, Got=7\nExpected=1, Got=1\nExpected=0, Got=0\nExpected=0, Got=0\nExpected=5, Got=5\nExpected=9, Got=9\nExpected=7, Got=7\nExpected=1, Got=1\nExpected=7, Got=7\nExpected=2, Got=2\nExpected=2, Got=2\nExpected=3, Got=3\nExpected=6, Got=6\nExpected=8, Got=8\nExpected=3, Got=3\nExpected=2, Got=2\nExpected=0, Got=0\nExpected=0, Got=0\nExpected=6, Got=6\nExpected=1, Got=1\nExpected=7, Got=7\nExpected=5, Got=5\nExpected=8, Got=8\nExpected=6, Got=6\nExpected=2, Got=2\nExpected=9, Got=9\nExpected=4, Got=4\nExpected=8, Got=8\nExpected=8, Got=8\nExpected=7, Got=7\nExpected=1, Got=1\nExpected=0, Got=0\nExpected=8, Got=8\nExpected=7, Got=7\nExpected=7, Got=7\nExpected=5, Got=5\nExpected=8, Got=8\nExpected=5, Got=5\nExpected=3, Got=3\nExpected=4, Got=4\nExpected=6, Got=6\nExpected=1, Got=1\nExpected=1, Got=1\nExpected=5, Got=5\nExpected=5, Got=5\nExpected=0, Got=0\nExpected=7, Got=7\nExpected=2, Got=2\nExpected=3, Got=3\nExpected=6, Got=6\nExpected=4, Got=4\nExpected=1, Got=1\nExpected=2, Got=2\nExpected=4, Got=4\nExpected=1, Got=1\nExpected=5, Got=5\nExpected=4, Got=4\nExpected=2, Got=2\nExpected=0, Got=0\nExpected=4, Got=4\nExpected=8, Got=8\nExpected=6, Got=6\nExpected=1, Got=1\nExpected=9, Got=9\nExpected=0, Got=0\nExpected=2, Got=2\nExpected=5, Got=5\nExpected=6, Got=6\nExpected=9, Got=9\nExpected=3, Got=3\nExpected=6, Got=6\nExpected=3, Got=3\nExpected=6, Got=6\nExpected=0, Got=0\nExpected=1, Got=1\nExpected=2, Got=2\nExpected=3, Got=3\nExpected=4, Got=4\nExpected=5, Got=5\nExpected=6, Got=6\nExpected=7, Got=7\nExpected=8, Got=8\nExpected=9, Got=9\nExpected=0, Got=0\nExpected=1, Got=1\nExpected=2, Got=2\nExpected=3, Got=3\nExpected=4, Got=4\nExpected=5, Got=5\nExpected=6, Got=6\nExpected=7, Got=7\nExpected=8, Got=8\nExpected=9, Got=9\nExpected=0, Got=0\nExpected=1, Got=1\nExpected=2, Got=2\nExpected=3, Got=3\nExpected=5, Got=5\nExpected=6, Got=6\nExpected=7, Got=7\nExpected=8, Got=8\nExpected=1, Got=1\nExpected=0, Got=0\nExpected=9, Got=9\nExpected=5, Got=5\nExpected=7, Got=7\nExpected=5, Got=5\nExpected=1, Got=1\nExpected=8, Got=8\nExpected=6, Got=6\nExpected=9, Got=9\nExpected=0, Got=0\nExpected=4, Got=4\nExpected=1, Got=1\nExpected=9, Got=9\nExpected=3, Got=3\nExpected=8, Got=8\nExpected=4, Got=4\nExpected=4, Got=4\nExpected=7, Got=7\nExpected=0, Got=0\nExpected=1, Got=1\nExpected=9, Got=9\nExpected=2, Got=2\nExpected=8, Got=8\nExpected=7, Got=7\nExpected=8, Got=8\nExpected=2, Got=2\nExpected=5, Got=5\nExpected=9, Got=9\nExpected=6, Got=6\nExpected=0, Got=0\nExpected=6, Got=6\nExpected=5, Got=5\nExpected=5, Got=5\nExpected=3, Got=3\nExpected=3, Got=3\nExpected=3, Got=3\nExpected=9, Got=9\nExpected=8, Got=8\nExpected=1, Got=1\nExpected=1, Got=1\nExpected=0, Got=0\nExpected=6, Got=6\nExpected=1, Got=1\nExpected=0, Got=0\nExpected=0, Got=0\nExpected=6, Got=6\nExpected=2, Got=2\nExpected=1, Got=1\nExpected=1, Got=1\nExpected=3, Got=3\nExpected=2, Got=2\nExpected=7, Got=7\nExpected=7, Got=7\nExpected=8, Got=8\nExpected=8, Got=8\nExpected=7, Got=7\nExpected=8, Got=8\nExpected=4, Got=4\nExpected=6, Got=6\nExpected=0, Got=0\nExpected=2, Got=7\nExpected=0, Got=0\nExpected=7, Got=7\nExpected=0, Got=0\nExpected=3, Got=3\nExpected=6, Got=6\nExpected=8, Got=8\nExpected=7, Got=7\nExpected=1, Got=1\nExpected=5, Got=5\nExpected=9, Got=9\nExpected=9, Got=9\nExpected=3, Got=3\nExpected=7, Got=7\nExpected=2, Got=2\nExpected=4, Got=4\nExpected=9, Got=9\nExpected=4, Got=4\nExpected=3, Got=3\nExpected=6, Got=6\nExpected=2, Got=2\nExpected=2, Got=2\nExpected=5, Got=5\nExpected=3, Got=3\nExpected=2, Got=2\nExpected=5, Got=5\nExpected=5, Got=5\nExpected=9, Got=9\nExpected=4, Got=4\nExpected=1, Got=1\nExpected=7, Got=7\nExpected=2, Got=2\nExpected=0, Got=0\nExpected=1, Got=1\nExpected=2, Got=2\nExpected=3, Got=3\nExpected=4, Got=4\nExpected=5, Got=5\nExpected=6, Got=6\nExpected=7, Got=7\nExpected=8, Got=8\nExpected=9, Got=9\nExpected=0, Got=0\nExpected=1, Got=1\nExpected=2, Got=2\nExpected=3, Got=3\nExpected=4, Got=4\nExpected=5, Got=5\nExpected=6, Got=6\nExpected=7, Got=7\nExpected=8, Got=8\nExpected=9, Got=9\nExpected=0, Got=0\nExpected=1, Got=1\nExpected=2, Got=2\nExpected=3, Got=3\nExpected=4, Got=4\nExpected=5, Got=5\nExpected=6, Got=6\nExpected=7, Got=7\nExpected=8, Got=8\nExpected=9, Got=9\nExpected=1, Got=1\nExpected=0, Got=0\nExpected=1, Got=1\nExpected=2, Got=2\nExpected=7, Got=7\nExpected=5, Got=5\nExpected=3, Got=3\nExpected=4, Got=4\nExpected=4, Got=4\nExpected=0, Got=0\nExpected=0, Got=0\nExpected=6, Got=6\nExpected=9, Got=9\nExpected=6, Got=6\nExpected=6, Got=6\nExpected=5, Got=5\nExpected=7, Got=7\nExpected=2, Got=2\nExpected=3, Got=3\nExpected=4, Got=4\nExpected=4, Got=4\nExpected=9, Got=9\nExpected=1, Got=1\nExpected=4, Got=4\nExpected=0, Got=0\nExpected=7, Got=7\nExpected=9, Got=9\nExpected=5, Got=5\nExpected=7, Got=7\nExpected=2, Got=2\nExpected=3, Got=3\nExpected=1, Got=1\nExpected=4, Got=4\nExpected=4, Got=4\nExpected=0, Got=0\nExpected=9, Got=9\nExpected=9, Got=9\nExpected=6, Got=6\nExpected=1, Got=1\nExpected=8, Got=8\nExpected=3, Got=3\nExpected=3, Got=3\nExpected=7, Got=7\nExpected=3, Got=3\nExpected=9, Got=9\nExpected=8, Got=8\nExpected=8, Got=8\nExpected=4, Got=4\nExpected=7, Got=7\nExpected=7, Got=7\nExpected=6, Got=6\nExpected=2, Got=2\nExpected=1, Got=1\nExpected=9, Got=9\nExpected=8, Got=8\nExpected=7, Got=7\nExpected=8, Got=8\nExpected=8, Got=8\nExpected=7, Got=7\nExpected=2, Got=2\nExpected=2, Got=2\nExpected=3, Got=3\nExpected=9, Got=9\nExpected=3, Got=3\nExpected=3, Got=3\nExpected=5, Got=5\nExpected=5, Got=5\nExpected=0, Got=0\nExpected=7, Got=7\nExpected=9, Got=4\nExpected=5, Got=5\nExpected=6, Got=6\nExpected=5, Got=5\nExpected=1, Got=1\nExpected=4, Got=4\nExpected=1, Got=1\nExpected=1, Got=1\nExpected=2, Got=2\nExpected=8, Got=8\nExpected=2, Got=2\nExpected=6, Got=6\nExpected=1, Got=1\nExpected=5, Got=5\nExpected=0, Got=0\nExpected=1, Got=1\nExpected=2, Got=2\nExpected=3, Got=3\nExpected=4, Got=4\nExpected=5, Got=5\nExpected=6, Got=6\nExpected=7, Got=7\nExpected=8, Got=8\nExpected=9, Got=9\nExpected=0, Got=0\nExpected=1, Got=1\nExpected=2, Got=2\nExpected=3, Got=5\nExpected=4, Got=4\nExpected=5, Got=5\nExpected=6, Got=6\nExpected=7, Got=7\nExpected=8, Got=8\nExpected=9, Got=9\nExpected=0, Got=0\nExpected=1, Got=1\nExpected=2, Got=2\nExpected=3, Got=8\nExpected=4, Got=4\nExpected=5, Got=5\nExpected=6, Got=6\nExpected=7, Got=7\nExpected=8, Got=8\nExpected=8, Got=8\nExpected=0, Got=0\nExpected=6, Got=6\nExpected=0, Got=0\nExpected=0, Got=3\nExpected=2, Got=2\nExpected=3, Got=3\nExpected=7, Got=7\nExpected=9, Got=9\nExpected=4, Got=4\nExpected=7, Got=7\nExpected=1, Got=1\nExpected=9, Got=7\nExpected=1, Got=1\nExpected=7, Got=7\nExpected=1, Got=1\nExpected=4, Got=4\nExpected=0, Got=0\nExpected=0, Got=0\nExpected=1, Got=1\nExpected=7, Got=7\nExpected=5, Got=5\nExpected=7, Got=7\nExpected=1, Got=1\nExpected=3, Got=3\nExpected=3, Got=3\nExpected=3, Got=3\nExpected=1, Got=1\nExpected=6, Got=6\nExpected=9, Got=9\nExpected=7, Got=7\nExpected=1, Got=1\nExpected=3, Got=3\nExpected=0, Got=0\nExpected=2, Got=7\nExpected=6, Got=6\nExpected=0, Got=0\nExpected=8, Got=8\nExpected=9, Got=9\nExpected=4, Got=4\nExpected=3, Got=3\nExpected=5, Got=5\nExpected=4, Got=4\nExpected=8, Got=8\nExpected=1, Got=1\nExpected=5, Got=5\nExpected=9, Got=9\nExpected=0, Got=0\nExpected=6, Got=6\nExpected=6, Got=5\nExpected=3, Got=3\nExpected=8, Got=8\nExpected=1, Got=1\nExpected=4, Got=4\nExpected=7, Got=7\nExpected=5, Got=5\nExpected=2, Got=2\nExpected=0, Got=0\nExpected=0, Got=0\nExpected=1, Got=1\nExpected=7, Got=7\nExpected=8, Got=8\nExpected=9, Got=7\nExpected=6, Got=6\nExpected=8, Got=8\nExpected=8, Got=8\nExpected=2, Got=2\nExpected=3, Got=3\nExpected=6, Got=5\nExpected=1, Got=1\nExpected=2, Got=2\nExpected=9, Got=9\nExpected=5, Got=5\nExpected=2, Got=2\nExpected=0, Got=0\nExpected=1, Got=1\nExpected=2, Got=2\nExpected=3, Got=3\nExpected=4, Got=4\nExpected=5, Got=5\nExpected=6, Got=6\nExpected=7, Got=7\nExpected=8, Got=5\nExpected=9, Got=9\nExpected=0, Got=0\nExpected=1, Got=1\nExpected=2, Got=0\nExpected=3, Got=3\nExpected=4, Got=4\nExpected=5, Got=5\nExpected=6, Got=6\nExpected=7, Got=7\nExpected=8, Got=8\nExpected=9, Got=9\nExpected=0, Got=0\nExpected=1, Got=1\nExpected=2, Got=2\nExpected=3, Got=3\nExpected=4, Got=4\nExpected=5, Got=6\nExpected=6, Got=6\nExpected=7, Got=7\nExpected=8, Got=5\nExpected=9, Got=9\nExpected=7, Got=7\nExpected=4, Got=4\nExpected=6, Got=6\nExpected=1, Got=1\nExpected=4, Got=6\nExpected=0, Got=0\nExpected=9, Got=9\nExpected=9, Got=9\nExpected=3, Got=3\nExpected=7, Got=7\nExpected=8, Got=1\nExpected=4, Got=2\nExpected=7, Got=7\nExpected=5, Got=5\nExpected=8, Got=8\nExpected=5, Got=6\nExpected=3, Got=3\nExpected=2, Got=2\nExpected=2, Got=2\nExpected=0, Got=0\nExpected=5, Got=5\nExpected=8, Got=8\nExpected=6, Got=6\nExpected=0, Got=0\nExpected=3, Got=3\nExpected=8, Got=8\nExpected=1, Got=1\nExpected=0, Got=0\nExpected=3, Got=3\nExpected=0, Got=0\nExpected=4, Got=9\nExpected=7, Got=7\nExpected=4, Got=4\nExpected=9, Got=9\nExpected=2, Got=0\nExpected=9, Got=9\nExpected=5, Got=0\nExpected=7, Got=7\nExpected=1, Got=1\nExpected=7, Got=7\nExpected=1, Got=1\nExpected=6, Got=6\nExpected=6, Got=6\nExpected=5, Got=5\nExpected=6, Got=6\nExpected=2, Got=0\nExpected=8, Got=8\nExpected=7, Got=7\nExpected=6, Got=6\nExpected=4, Got=4\nExpected=9, Got=9\nExpected=9, Got=9\nExpected=5, Got=5\nExpected=3, Got=3\nExpected=7, Got=7\nExpected=4, Got=4\nExpected=3, Got=3\nExpected=0, Got=0\nExpected=4, Got=1\nExpected=6, Got=6\nExpected=6, Got=6\nExpected=1, Got=1\nExpected=1, Got=1\nExpected=3, Got=3\nExpected=2, Got=2\nExpected=1, Got=1\nExpected=0, Got=0\nExpected=0, Got=0\nExpected=1, Got=1\nExpected=2, Got=2\nExpected=3, Got=3\nExpected=4, Got=4\nExpected=7, Got=7\nExpected=8, Got=8\nExpected=9, Got=4\nExpected=0, Got=0\nExpected=1, Got=1\nExpected=2, Got=8\nExpected=3, Got=3\nExpected=4, Got=4\nExpected=5, Got=5\nExpected=6, Got=6\nExpected=7, Got=7\nExpected=8, Got=8\nExpected=0, Got=0\nExpected=1, Got=1\nExpected=2, Got=2\nExpected=3, Got=3\nExpected=4, Got=4\nExpected=7, Got=7\nExpected=8, Got=8\nExpected=9, Got=9\nExpected=0, Got=0\nExpected=8, Got=8\nExpected=3, Got=3\nExpected=9, Got=9\nExpected=5, Got=5\nExpected=5, Got=5\nExpected=2, Got=2\nExpected=6, Got=6\nExpected=8, Got=8\nExpected=4, Got=4\nExpected=1, Got=1\nExpected=7, Got=7\nExpected=1, Got=1\nExpected=2, Got=7\nExpected=3, Got=0\nExpected=5, Got=5\nExpected=6, Got=6\nExpected=9, Got=9\nExpected=1, Got=1\nExpected=1, Got=1\nExpected=1, Got=1\nExpected=2, Got=2\nExpected=1, Got=1\nExpected=2, Got=2\nExpected=0, Got=0\nExpected=7, Got=7\nExpected=7, Got=7\nExpected=5, Got=5\nExpected=8, Got=8\nExpected=2, Got=2\nExpected=9, Got=9\nExpected=8, Got=8\nExpected=6, Got=6\nExpected=7, Got=7\nExpected=3, Got=3\nExpected=4, Got=4\nExpected=6, Got=6\nExpected=8, Got=8\nExpected=7, Got=7\nExpected=0, Got=0\nExpected=4, Got=4\nExpected=2, Got=2\nExpected=7, Got=7\nExpected=7, Got=7\nExpected=5, Got=5\nExpected=4, Got=4\nExpected=3, Got=3\nExpected=4, Got=4\nExpected=2, Got=2\nExpected=8, Got=8\nExpected=1, Got=1\nExpected=5, Got=5\nExpected=1, Got=1\nExpected=0, Got=0\nExpected=2, Got=2\nExpected=3, Got=3\nExpected=3, Got=3\nExpected=5, Got=5\nExpected=7, Got=7\nExpected=0, Got=0\nExpected=6, Got=6\nExpected=8, Got=8\nExpected=6, Got=0\nExpected=3, Got=3\nExpected=9, Got=9\nExpected=9, Got=9\nExpected=8, Got=6\nExpected=2, Got=2\nExpected=7, Got=7\nExpected=7, Got=7\nExpected=1, Got=1\nExpected=0, Got=0\nExpected=1, Got=1\nExpected=7, Got=7\nExpected=8, Got=8\nExpected=9, Got=9\nExpected=0, Got=0\nExpected=1, Got=1\nExpected=2, Got=2\nExpected=3, Got=7\nExpected=4, Got=4\nExpected=5, Got=5\nExpected=6, Got=6\nExpected=7, Got=7\nExpected=8, Got=8\nExpected=0, Got=0\nExpected=1, Got=1\nExpected=2, Got=2\nExpected=3, Got=3\nExpected=4, Got=4\nExpected=7, Got=7\nExpected=8, Got=8\nExpected=9, Got=9\nExpected=7, Got=7\nExpected=8, Got=8\nExpected=6, Got=6\nExpected=4, Got=4\nExpected=1, Got=1\nExpected=9, Got=9\nExpected=3, Got=2\nExpected=8, Got=8\nExpected=4, Got=4\nExpected=4, Got=4\nExpected=7, Got=7\nExpected=0, Got=0\nExpected=1, Got=1\nExpected=9, Got=9\nExpected=2, Got=2\nExpected=8, Got=8\nExpected=7, Got=7\nExpected=8, Got=8\nExpected=2, Got=2\nExpected=6, Got=6\nExpected=0, Got=0\nExpected=6, Got=6\nExpected=5, Got=3\nExpected=3, Got=3\nExpected=3, Got=5\nExpected=3, Got=5\nExpected=9, Got=9\nExpected=1, Got=1\nExpected=4, Got=4\nExpected=0, Got=0\nExpected=6, Got=6\nExpected=1, Got=1\nExpected=0, Got=0\nExpected=0, Got=0\nExpected=6, Got=6\nExpected=2, Got=2\nExpected=1, Got=1\nExpected=1, Got=1\nExpected=7, Got=7\nExpected=7, Got=7\nExpected=8, Got=8\nExpected=4, Got=4\nExpected=6, Got=6\nExpected=0, Got=0\nExpected=7, Got=7\nExpected=0, Got=0\nExpected=3, Got=3\nExpected=6, Got=6\nExpected=8, Got=8\nExpected=7, Got=7\nExpected=1, Got=1\nExpected=5, Got=5\nExpected=2, Got=2\nExpected=4, Got=4\nExpected=9, Got=9\nExpected=4, Got=4\nExpected=3, Got=3\nExpected=6, Got=6\nExpected=4, Got=4\nExpected=1, Got=1\nExpected=7, Got=7\nExpected=2, Got=2\nExpected=6, Got=6\nExpected=5, Got=5\nExpected=0, Got=0\nExpected=1, Got=1\nExpected=2, Got=2\nExpected=3, Got=3\nExpected=4, Got=4\nExpected=5, Got=5\nExpected=6, Got=6\nExpected=7, Got=7\nExpected=8, Got=8\nExpected=9, Got=9\nExpected=0, Got=0\nExpected=1, Got=1\nExpected=2, Got=2\nExpected=3, Got=3\nExpected=4, Got=4\nExpected=5, Got=5\nExpected=6, Got=6\n"
    },
    {
     "output_type": "execute_result",
     "data": {
      "text/plain": "95.27"
     },
     "metadata": {},
     "execution_count": 41
    }
   ],
   "source": [
    "# Evaluate the model\n",
    "prediction = model_predict(neural_network, test_X)\n",
    "\n",
    "PredClass = list()\n",
    "ActualClass = list()\n",
    "for row in range(len(test_y)):\n",
    "    index_maxscore1 = max(range(len(test_y[row])), key=test_y[row].__getitem__)\n",
    "    ActualClass.append(index_maxscore1)\n",
    "    index_maxscore2 = max(range(len(prediction[row])), key=prediction[row].__getitem__)\n",
    "    PredClass.append(index_maxscore2)\n",
    "    # print('Expected=%d, Got=%d' % (index_maxscore1, index_maxscore2))\n",
    "\n",
    "\n",
    "accuracy = accuracy_metric(PredClass, ActualClass)\n",
    "accuracy"
   ]
  },
  {
   "cell_type": "code",
   "execution_count": null,
   "metadata": {},
   "outputs": [],
   "source": [
    "# LOADING MODELS EXAMPLE\n",
    "\n",
    "json_file = open(PATH, 'r')\n",
    "loaded_model_json = json_file.read()\n",
    "json_file.close()\n",
    "loaded_model = model_from_json(loaded_model_json)\n",
    "# load weights into new model\n",
    "loaded_model.load_weights(WEIGHTS_PATH)\n",
    "print(\"Loaded model from disk\")\n",
    " \n",
    "# evaluate loaded model on test data\n",
    "loaded_model.compile(loss='binary_crossentropy', optimizer='rmsprop', metrics=['accuracy'])\n",
    "score = loaded_model.evaluate(X, Y, verbose=0)"
   ]
  }
 ]
}