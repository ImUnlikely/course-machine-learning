{
 "metadata": {
  "language_info": {
   "codemirror_mode": {
    "name": "ipython",
    "version": 3
   },
   "file_extension": ".py",
   "mimetype": "text/x-python",
   "name": "python",
   "nbconvert_exporter": "python",
   "pygments_lexer": "ipython3",
   "version": "3.7.9-final"
  },
  "orig_nbformat": 2,
  "kernelspec": {
   "name": "tf-gpu",
   "display_name": "TensorFlow-GPU"
  }
 },
 "nbformat": 4,
 "nbformat_minor": 2,
 "cells": [
  {
   "cell_type": "code",
   "execution_count": 210,
   "metadata": {
    "tags": []
   },
   "outputs": [
    {
     "output_type": "stream",
     "name": "stdout",
     "text": "tf.Tensor(b'Hellow from TensorFlow 2.1.0', shape=(), dtype=string)\n"
    }
   ],
   "source": [
    "import tensorflow as tf\n",
    "print(tf.constant('Hellow from TensorFlow ' + tf.__version__ ))"
   ]
  },
  {
   "cell_type": "code",
   "execution_count": 211,
   "metadata": {
    "tags": []
   },
   "outputs": [
    {
     "output_type": "execute_result",
     "data": {
      "text/plain": "   label  pixel1  pixel2  pixel3  pixel4  pixel5  pixel6  pixel7  pixel8  \\\n0      2       0       0       0       0       0       0       0       0   \n1      9       0       0       0       0       0       0       0       0   \n2      6       0       0       0       0       0       0       0       5   \n3      0       0       0       0       1       2       0       0       0   \n4      3       0       0       0       0       0       0       0       0   \n\n   pixel9  ...  pixel775  pixel776  pixel777  pixel778  pixel779  pixel780  \\\n0       0  ...         0         0         0         0         0         0   \n1       0  ...         0         0         0         0         0         0   \n2       0  ...         0         0         0        30        43         0   \n3       0  ...         3         0         0         0         0         1   \n4       0  ...         0         0         0         0         0         0   \n\n   pixel781  pixel782  pixel783  pixel784  \n0         0         0         0         0  \n1         0         0         0         0  \n2         0         0         0         0  \n3         0         0         0         0  \n4         0         0         0         0  \n\n[5 rows x 785 columns]",
      "text/html": "<div>\n<style scoped>\n    .dataframe tbody tr th:only-of-type {\n        vertical-align: middle;\n    }\n\n    .dataframe tbody tr th {\n        vertical-align: top;\n    }\n\n    .dataframe thead th {\n        text-align: right;\n    }\n</style>\n<table border=\"1\" class=\"dataframe\">\n  <thead>\n    <tr style=\"text-align: right;\">\n      <th></th>\n      <th>label</th>\n      <th>pixel1</th>\n      <th>pixel2</th>\n      <th>pixel3</th>\n      <th>pixel4</th>\n      <th>pixel5</th>\n      <th>pixel6</th>\n      <th>pixel7</th>\n      <th>pixel8</th>\n      <th>pixel9</th>\n      <th>...</th>\n      <th>pixel775</th>\n      <th>pixel776</th>\n      <th>pixel777</th>\n      <th>pixel778</th>\n      <th>pixel779</th>\n      <th>pixel780</th>\n      <th>pixel781</th>\n      <th>pixel782</th>\n      <th>pixel783</th>\n      <th>pixel784</th>\n    </tr>\n  </thead>\n  <tbody>\n    <tr>\n      <th>0</th>\n      <td>2</td>\n      <td>0</td>\n      <td>0</td>\n      <td>0</td>\n      <td>0</td>\n      <td>0</td>\n      <td>0</td>\n      <td>0</td>\n      <td>0</td>\n      <td>0</td>\n      <td>...</td>\n      <td>0</td>\n      <td>0</td>\n      <td>0</td>\n      <td>0</td>\n      <td>0</td>\n      <td>0</td>\n      <td>0</td>\n      <td>0</td>\n      <td>0</td>\n      <td>0</td>\n    </tr>\n    <tr>\n      <th>1</th>\n      <td>9</td>\n      <td>0</td>\n      <td>0</td>\n      <td>0</td>\n      <td>0</td>\n      <td>0</td>\n      <td>0</td>\n      <td>0</td>\n      <td>0</td>\n      <td>0</td>\n      <td>...</td>\n      <td>0</td>\n      <td>0</td>\n      <td>0</td>\n      <td>0</td>\n      <td>0</td>\n      <td>0</td>\n      <td>0</td>\n      <td>0</td>\n      <td>0</td>\n      <td>0</td>\n    </tr>\n    <tr>\n      <th>2</th>\n      <td>6</td>\n      <td>0</td>\n      <td>0</td>\n      <td>0</td>\n      <td>0</td>\n      <td>0</td>\n      <td>0</td>\n      <td>0</td>\n      <td>5</td>\n      <td>0</td>\n      <td>...</td>\n      <td>0</td>\n      <td>0</td>\n      <td>0</td>\n      <td>30</td>\n      <td>43</td>\n      <td>0</td>\n      <td>0</td>\n      <td>0</td>\n      <td>0</td>\n      <td>0</td>\n    </tr>\n    <tr>\n      <th>3</th>\n      <td>0</td>\n      <td>0</td>\n      <td>0</td>\n      <td>0</td>\n      <td>1</td>\n      <td>2</td>\n      <td>0</td>\n      <td>0</td>\n      <td>0</td>\n      <td>0</td>\n      <td>...</td>\n      <td>3</td>\n      <td>0</td>\n      <td>0</td>\n      <td>0</td>\n      <td>0</td>\n      <td>1</td>\n      <td>0</td>\n      <td>0</td>\n      <td>0</td>\n      <td>0</td>\n    </tr>\n    <tr>\n      <th>4</th>\n      <td>3</td>\n      <td>0</td>\n      <td>0</td>\n      <td>0</td>\n      <td>0</td>\n      <td>0</td>\n      <td>0</td>\n      <td>0</td>\n      <td>0</td>\n      <td>0</td>\n      <td>...</td>\n      <td>0</td>\n      <td>0</td>\n      <td>0</td>\n      <td>0</td>\n      <td>0</td>\n      <td>0</td>\n      <td>0</td>\n      <td>0</td>\n      <td>0</td>\n      <td>0</td>\n    </tr>\n  </tbody>\n</table>\n<p>5 rows × 785 columns</p>\n</div>"
     },
     "metadata": {},
     "execution_count": 211
    }
   ],
   "source": [
    "import pandas as pd\n",
    "\n",
    "# Load data\n",
    "df = pd.read_csv(\"fashion-mnist_train.csv\")\n",
    "df.head()"
   ]
  },
  {
   "cell_type": "code",
   "execution_count": 212,
   "metadata": {
    "tags": []
   },
   "outputs": [
    {
     "output_type": "stream",
     "name": "stdout",
     "text": "[array([0, 1, 2, 3, 4, 5, 6, 7, 8, 9], dtype=int64)]\n(60000, 10)\n(60000, 784)\n"
    }
   ],
   "source": [
    "from sklearn.preprocessing import OneHotEncoder\n",
    "import numpy as np\n",
    "\n",
    "# Transform label categories\n",
    "ohe = OneHotEncoder(categories=\"auto\", sparse=False, dtype=np.int16)\n",
    "ohe.fit(df[\"label\"].to_numpy().reshape(-1,1))\n",
    "print(ohe.categories_)\n",
    "transformed = ohe.transform(df[\"label\"].to_numpy().reshape(-1,1))\n",
    "\n",
    "# Define X and y\n",
    "X = df.drop(\"label\", axis=1)\n",
    "y = pd.DataFrame(data=transformed, columns=ohe.categories_[0])\n",
    "\n",
    "# Delete variables that are no longer needed\n",
    "# Nice to free up memory considering bigger datasets can take up quite a bit of memory\n",
    "# and de-clutter the variable explorerer\n",
    "del transformed\n",
    "del df\n",
    "del ohe\n",
    "\n",
    "# Print shapes to validate\n",
    "print(y.shape)\n",
    "print(X.shape)"
   ]
  },
  {
   "cell_type": "code",
   "execution_count": 213,
   "metadata": {},
   "outputs": [
    {
     "output_type": "execute_result",
     "data": {
      "text/plain": "   0  1  2  3  4  5  6  7  8  9\n0  0  0  1  0  0  0  0  0  0  0\n1  0  0  0  0  0  0  0  0  0  1\n2  0  0  0  0  0  0  1  0  0  0\n3  1  0  0  0  0  0  0  0  0  0\n4  0  0  0  1  0  0  0  0  0  0",
      "text/html": "<div>\n<style scoped>\n    .dataframe tbody tr th:only-of-type {\n        vertical-align: middle;\n    }\n\n    .dataframe tbody tr th {\n        vertical-align: top;\n    }\n\n    .dataframe thead th {\n        text-align: right;\n    }\n</style>\n<table border=\"1\" class=\"dataframe\">\n  <thead>\n    <tr style=\"text-align: right;\">\n      <th></th>\n      <th>0</th>\n      <th>1</th>\n      <th>2</th>\n      <th>3</th>\n      <th>4</th>\n      <th>5</th>\n      <th>6</th>\n      <th>7</th>\n      <th>8</th>\n      <th>9</th>\n    </tr>\n  </thead>\n  <tbody>\n    <tr>\n      <th>0</th>\n      <td>0</td>\n      <td>0</td>\n      <td>1</td>\n      <td>0</td>\n      <td>0</td>\n      <td>0</td>\n      <td>0</td>\n      <td>0</td>\n      <td>0</td>\n      <td>0</td>\n    </tr>\n    <tr>\n      <th>1</th>\n      <td>0</td>\n      <td>0</td>\n      <td>0</td>\n      <td>0</td>\n      <td>0</td>\n      <td>0</td>\n      <td>0</td>\n      <td>0</td>\n      <td>0</td>\n      <td>1</td>\n    </tr>\n    <tr>\n      <th>2</th>\n      <td>0</td>\n      <td>0</td>\n      <td>0</td>\n      <td>0</td>\n      <td>0</td>\n      <td>0</td>\n      <td>1</td>\n      <td>0</td>\n      <td>0</td>\n      <td>0</td>\n    </tr>\n    <tr>\n      <th>3</th>\n      <td>1</td>\n      <td>0</td>\n      <td>0</td>\n      <td>0</td>\n      <td>0</td>\n      <td>0</td>\n      <td>0</td>\n      <td>0</td>\n      <td>0</td>\n      <td>0</td>\n    </tr>\n    <tr>\n      <th>4</th>\n      <td>0</td>\n      <td>0</td>\n      <td>0</td>\n      <td>1</td>\n      <td>0</td>\n      <td>0</td>\n      <td>0</td>\n      <td>0</td>\n      <td>0</td>\n      <td>0</td>\n    </tr>\n  </tbody>\n</table>\n</div>"
     },
     "metadata": {},
     "execution_count": 213
    }
   ],
   "source": [
    "y.head()"
   ]
  },
  {
   "cell_type": "code",
   "execution_count": 214,
   "metadata": {},
   "outputs": [
    {
     "output_type": "execute_result",
     "data": {
      "text/plain": "   pixel1  pixel2  pixel3  pixel4  pixel5  pixel6  pixel7  pixel8  pixel9  \\\n0       0       0       0       0       0       0       0       0       0   \n1       0       0       0       0       0       0       0       0       0   \n2       0       0       0       0       0       0       0       5       0   \n3       0       0       0       1       2       0       0       0       0   \n4       0       0       0       0       0       0       0       0       0   \n\n   pixel10  ...  pixel775  pixel776  pixel777  pixel778  pixel779  pixel780  \\\n0        0  ...         0         0         0         0         0         0   \n1        0  ...         0         0         0         0         0         0   \n2        0  ...         0         0         0        30        43         0   \n3        0  ...         3         0         0         0         0         1   \n4        0  ...         0         0         0         0         0         0   \n\n   pixel781  pixel782  pixel783  pixel784  \n0         0         0         0         0  \n1         0         0         0         0  \n2         0         0         0         0  \n3         0         0         0         0  \n4         0         0         0         0  \n\n[5 rows x 784 columns]",
      "text/html": "<div>\n<style scoped>\n    .dataframe tbody tr th:only-of-type {\n        vertical-align: middle;\n    }\n\n    .dataframe tbody tr th {\n        vertical-align: top;\n    }\n\n    .dataframe thead th {\n        text-align: right;\n    }\n</style>\n<table border=\"1\" class=\"dataframe\">\n  <thead>\n    <tr style=\"text-align: right;\">\n      <th></th>\n      <th>pixel1</th>\n      <th>pixel2</th>\n      <th>pixel3</th>\n      <th>pixel4</th>\n      <th>pixel5</th>\n      <th>pixel6</th>\n      <th>pixel7</th>\n      <th>pixel8</th>\n      <th>pixel9</th>\n      <th>pixel10</th>\n      <th>...</th>\n      <th>pixel775</th>\n      <th>pixel776</th>\n      <th>pixel777</th>\n      <th>pixel778</th>\n      <th>pixel779</th>\n      <th>pixel780</th>\n      <th>pixel781</th>\n      <th>pixel782</th>\n      <th>pixel783</th>\n      <th>pixel784</th>\n    </tr>\n  </thead>\n  <tbody>\n    <tr>\n      <th>0</th>\n      <td>0</td>\n      <td>0</td>\n      <td>0</td>\n      <td>0</td>\n      <td>0</td>\n      <td>0</td>\n      <td>0</td>\n      <td>0</td>\n      <td>0</td>\n      <td>0</td>\n      <td>...</td>\n      <td>0</td>\n      <td>0</td>\n      <td>0</td>\n      <td>0</td>\n      <td>0</td>\n      <td>0</td>\n      <td>0</td>\n      <td>0</td>\n      <td>0</td>\n      <td>0</td>\n    </tr>\n    <tr>\n      <th>1</th>\n      <td>0</td>\n      <td>0</td>\n      <td>0</td>\n      <td>0</td>\n      <td>0</td>\n      <td>0</td>\n      <td>0</td>\n      <td>0</td>\n      <td>0</td>\n      <td>0</td>\n      <td>...</td>\n      <td>0</td>\n      <td>0</td>\n      <td>0</td>\n      <td>0</td>\n      <td>0</td>\n      <td>0</td>\n      <td>0</td>\n      <td>0</td>\n      <td>0</td>\n      <td>0</td>\n    </tr>\n    <tr>\n      <th>2</th>\n      <td>0</td>\n      <td>0</td>\n      <td>0</td>\n      <td>0</td>\n      <td>0</td>\n      <td>0</td>\n      <td>0</td>\n      <td>5</td>\n      <td>0</td>\n      <td>0</td>\n      <td>...</td>\n      <td>0</td>\n      <td>0</td>\n      <td>0</td>\n      <td>30</td>\n      <td>43</td>\n      <td>0</td>\n      <td>0</td>\n      <td>0</td>\n      <td>0</td>\n      <td>0</td>\n    </tr>\n    <tr>\n      <th>3</th>\n      <td>0</td>\n      <td>0</td>\n      <td>0</td>\n      <td>1</td>\n      <td>2</td>\n      <td>0</td>\n      <td>0</td>\n      <td>0</td>\n      <td>0</td>\n      <td>0</td>\n      <td>...</td>\n      <td>3</td>\n      <td>0</td>\n      <td>0</td>\n      <td>0</td>\n      <td>0</td>\n      <td>1</td>\n      <td>0</td>\n      <td>0</td>\n      <td>0</td>\n      <td>0</td>\n    </tr>\n    <tr>\n      <th>4</th>\n      <td>0</td>\n      <td>0</td>\n      <td>0</td>\n      <td>0</td>\n      <td>0</td>\n      <td>0</td>\n      <td>0</td>\n      <td>0</td>\n      <td>0</td>\n      <td>0</td>\n      <td>...</td>\n      <td>0</td>\n      <td>0</td>\n      <td>0</td>\n      <td>0</td>\n      <td>0</td>\n      <td>0</td>\n      <td>0</td>\n      <td>0</td>\n      <td>0</td>\n      <td>0</td>\n    </tr>\n  </tbody>\n</table>\n<p>5 rows × 784 columns</p>\n</div>"
     },
     "metadata": {},
     "execution_count": 214
    }
   ],
   "source": [
    "X.head()"
   ]
  },
  {
   "cell_type": "code",
   "execution_count": 215,
   "metadata": {},
   "outputs": [
    {
     "output_type": "execute_result",
     "data": {
      "text/plain": "   pixel1  pixel2  pixel3    pixel4    pixel5  pixel6  pixel7    pixel8  \\\n0    0.01    0.01    0.01  0.010000  0.010000    0.01    0.01  0.010000   \n1    0.01    0.01    0.01  0.010000  0.010000    0.01    0.01  0.010000   \n2    0.01    0.01    0.01  0.010000  0.010000    0.01    0.01  0.029412   \n3    0.01    0.01    0.01  0.013882  0.017765    0.01    0.01  0.010000   \n4    0.01    0.01    0.01  0.010000  0.010000    0.01    0.01  0.010000   \n\n   pixel9  pixel10  ...  pixel775  pixel776  pixel777  pixel778  pixel779  \\\n0    0.01     0.01  ...  0.010000      0.01      0.01  0.010000  0.010000   \n1    0.01     0.01  ...  0.010000      0.01      0.01  0.010000  0.010000   \n2    0.01     0.01  ...  0.010000      0.01      0.01  0.126471  0.176941   \n3    0.01     0.01  ...  0.021647      0.01      0.01  0.010000  0.010000   \n4    0.01     0.01  ...  0.010000      0.01      0.01  0.010000  0.010000   \n\n   pixel780  pixel781  pixel782  pixel783  pixel784  \n0  0.010000      0.01      0.01      0.01      0.01  \n1  0.010000      0.01      0.01      0.01      0.01  \n2  0.010000      0.01      0.01      0.01      0.01  \n3  0.013882      0.01      0.01      0.01      0.01  \n4  0.010000      0.01      0.01      0.01      0.01  \n\n[5 rows x 784 columns]",
      "text/html": "<div>\n<style scoped>\n    .dataframe tbody tr th:only-of-type {\n        vertical-align: middle;\n    }\n\n    .dataframe tbody tr th {\n        vertical-align: top;\n    }\n\n    .dataframe thead th {\n        text-align: right;\n    }\n</style>\n<table border=\"1\" class=\"dataframe\">\n  <thead>\n    <tr style=\"text-align: right;\">\n      <th></th>\n      <th>pixel1</th>\n      <th>pixel2</th>\n      <th>pixel3</th>\n      <th>pixel4</th>\n      <th>pixel5</th>\n      <th>pixel6</th>\n      <th>pixel7</th>\n      <th>pixel8</th>\n      <th>pixel9</th>\n      <th>pixel10</th>\n      <th>...</th>\n      <th>pixel775</th>\n      <th>pixel776</th>\n      <th>pixel777</th>\n      <th>pixel778</th>\n      <th>pixel779</th>\n      <th>pixel780</th>\n      <th>pixel781</th>\n      <th>pixel782</th>\n      <th>pixel783</th>\n      <th>pixel784</th>\n    </tr>\n  </thead>\n  <tbody>\n    <tr>\n      <th>0</th>\n      <td>0.01</td>\n      <td>0.01</td>\n      <td>0.01</td>\n      <td>0.010000</td>\n      <td>0.010000</td>\n      <td>0.01</td>\n      <td>0.01</td>\n      <td>0.010000</td>\n      <td>0.01</td>\n      <td>0.01</td>\n      <td>...</td>\n      <td>0.010000</td>\n      <td>0.01</td>\n      <td>0.01</td>\n      <td>0.010000</td>\n      <td>0.010000</td>\n      <td>0.010000</td>\n      <td>0.01</td>\n      <td>0.01</td>\n      <td>0.01</td>\n      <td>0.01</td>\n    </tr>\n    <tr>\n      <th>1</th>\n      <td>0.01</td>\n      <td>0.01</td>\n      <td>0.01</td>\n      <td>0.010000</td>\n      <td>0.010000</td>\n      <td>0.01</td>\n      <td>0.01</td>\n      <td>0.010000</td>\n      <td>0.01</td>\n      <td>0.01</td>\n      <td>...</td>\n      <td>0.010000</td>\n      <td>0.01</td>\n      <td>0.01</td>\n      <td>0.010000</td>\n      <td>0.010000</td>\n      <td>0.010000</td>\n      <td>0.01</td>\n      <td>0.01</td>\n      <td>0.01</td>\n      <td>0.01</td>\n    </tr>\n    <tr>\n      <th>2</th>\n      <td>0.01</td>\n      <td>0.01</td>\n      <td>0.01</td>\n      <td>0.010000</td>\n      <td>0.010000</td>\n      <td>0.01</td>\n      <td>0.01</td>\n      <td>0.029412</td>\n      <td>0.01</td>\n      <td>0.01</td>\n      <td>...</td>\n      <td>0.010000</td>\n      <td>0.01</td>\n      <td>0.01</td>\n      <td>0.126471</td>\n      <td>0.176941</td>\n      <td>0.010000</td>\n      <td>0.01</td>\n      <td>0.01</td>\n      <td>0.01</td>\n      <td>0.01</td>\n    </tr>\n    <tr>\n      <th>3</th>\n      <td>0.01</td>\n      <td>0.01</td>\n      <td>0.01</td>\n      <td>0.013882</td>\n      <td>0.017765</td>\n      <td>0.01</td>\n      <td>0.01</td>\n      <td>0.010000</td>\n      <td>0.01</td>\n      <td>0.01</td>\n      <td>...</td>\n      <td>0.021647</td>\n      <td>0.01</td>\n      <td>0.01</td>\n      <td>0.010000</td>\n      <td>0.010000</td>\n      <td>0.013882</td>\n      <td>0.01</td>\n      <td>0.01</td>\n      <td>0.01</td>\n      <td>0.01</td>\n    </tr>\n    <tr>\n      <th>4</th>\n      <td>0.01</td>\n      <td>0.01</td>\n      <td>0.01</td>\n      <td>0.010000</td>\n      <td>0.010000</td>\n      <td>0.01</td>\n      <td>0.01</td>\n      <td>0.010000</td>\n      <td>0.01</td>\n      <td>0.01</td>\n      <td>...</td>\n      <td>0.010000</td>\n      <td>0.01</td>\n      <td>0.01</td>\n      <td>0.010000</td>\n      <td>0.010000</td>\n      <td>0.010000</td>\n      <td>0.01</td>\n      <td>0.01</td>\n      <td>0.01</td>\n      <td>0.01</td>\n    </tr>\n  </tbody>\n</table>\n<p>5 rows × 784 columns</p>\n</div>"
     },
     "metadata": {},
     "execution_count": 215
    }
   ],
   "source": [
    "# Since the dataset contains greyscale pixel values in the range 0-255\n",
    "# Rescale data to values between 0.01 and 1\n",
    "# Avoid having 0 as input\n",
    "X = X.apply(lambda x: (x * (0.99/255)) + 0.01, axis=1)\n",
    "X.head()"
   ]
  },
  {
   "cell_type": "code",
   "execution_count": 216,
   "metadata": {},
   "outputs": [],
   "source": [
    "from keras.models import Sequential\n",
    "from keras.layers import Conv2D, MaxPooling2D, Activation, Flatten, Dense, Dropout, AveragePooling2D, Dropout, BatchNormalization, Reshape\n",
    "from keras.optimizers import Adam"
   ]
  },
  {
   "cell_type": "code",
   "execution_count": 224,
   "metadata": {},
   "outputs": [],
   "source": [
    "def fit_model(train_x, train_y, nodes, lrate, epochs, batch_size):\n",
    "\n",
    "    # input_shape = (28, 28, 1)\n",
    "\n",
    "    model = Sequential()\n",
    "\n",
    "    # model.add(Reshape(input_shape, input_shape=input_shape))\n",
    "    model.add(Conv2D(25, (5, 5), strides=1, input_shape=(28, 28, 1), activation=\"relu\", name=\"Conv2d_1\"))\n",
    "    model.add(BatchNormalization(axis=3, name=\"Normalize_1\"))\n",
    "    model.add(Activation(\"relu\"))\n",
    "\n",
    "    model.add(MaxPooling2D((2, 2), name=\"Pooling2d_1\"))\n",
    "    model.add(Conv2D(50, (3, 3), strides=1, activation=\"relu\", name=\"Conv2d_2\"))\n",
    "    model.add(AveragePooling2D((3, 3), name=\"AveragePooling\"))\n",
    "    model.add(Flatten())\n",
    "\n",
    "    model.add(Dense(nodes, activation=\"relu\"))\n",
    "    model.add(Dropout(0.3))\n",
    "    model.add(Dense(10, activation=\"softmax\"))\n",
    "\n",
    "    print(model.summary())\n",
    "\n",
    "\n",
    "    model.compile(\n",
    "        loss=\"categorical_crossentropy\",\n",
    "        #loss=\"sparse_categorical_crossentropy\", # THIS DOES THE ONEHOTNENCODING INTERNALLY\n",
    "        optimizer=\"adam\",\n",
    "        #optimizer=Adam(learning_rate=lrate),\n",
    "        metrics=[\"accuracy\"])\n",
    "\n",
    "    model.fit(train_x, train_y, epochs=epochs, batch_size=batch_size)\n",
    "    return model"
   ]
  },
  {
   "cell_type": "code",
   "execution_count": 218,
   "metadata": {
    "tags": []
   },
   "outputs": [],
   "source": [
    "from sklearn.model_selection import KFold"
   ]
  },
  {
   "cell_type": "code",
   "execution_count": 219,
   "metadata": {
    "tags": []
   },
   "outputs": [],
   "source": [
    "X = X.to_numpy().reshape(-1, 28, 28, 1)"
   ]
  },
  {
   "cell_type": "code",
   "execution_count": 252,
   "metadata": {
    "tags": []
   },
   "outputs": [
    {
     "output_type": "stream",
     "name": "stdout",
     "text": "Model: \"sequential_44\"\n_________________________________________________________________\nLayer (type)                 Output Shape              Param #   \n=================================================================\nConv2d_1 (Conv2D)            (None, 24, 24, 25)        650       \n_________________________________________________________________\nNormalize_1 (BatchNormalizat (None, 24, 24, 25)        100       \n_________________________________________________________________\nactivation_33 (Activation)   (None, 24, 24, 25)        0         \n_________________________________________________________________\nPooling2d_1 (MaxPooling2D)   (None, 12, 12, 25)        0         \n_________________________________________________________________\nConv2d_2 (Conv2D)            (None, 10, 10, 50)        11300     \n_________________________________________________________________\nAveragePooling (AveragePooli (None, 3, 3, 50)          0         \n_________________________________________________________________\nflatten_33 (Flatten)         (None, 450)               0         \n_________________________________________________________________\ndense_61 (Dense)             (None, 200)               90200     \n_________________________________________________________________\ndropout_30 (Dropout)         (None, 200)               0         \n_________________________________________________________________\ndense_62 (Dense)             (None, 10)                2010      \n=================================================================\nTotal params: 104,260\nTrainable params: 104,210\nNon-trainable params: 50\n_________________________________________________________________\nNone\nEpoch 1/100\n60000/60000 [==============================] - 4s 65us/step - loss: 0.6285 - accuracy: 0.7773\nEpoch 2/100\n60000/60000 [==============================] - 4s 60us/step - loss: 0.3910 - accuracy: 0.8585\nEpoch 3/100\n60000/60000 [==============================] - 4s 60us/step - loss: 0.3348 - accuracy: 0.8785\nEpoch 4/100\n60000/60000 [==============================] - 4s 60us/step - loss: 0.3105 - accuracy: 0.8880\nEpoch 5/100\n60000/60000 [==============================] - 4s 60us/step - loss: 0.2864 - accuracy: 0.8956\nEpoch 6/100\n60000/60000 [==============================] - 4s 60us/step - loss: 0.2712 - accuracy: 0.9014\nEpoch 7/100\n60000/60000 [==============================] - 4s 60us/step - loss: 0.2603 - accuracy: 0.9048\nEpoch 8/100\n60000/60000 [==============================] - 4s 60us/step - loss: 0.2474 - accuracy: 0.9087\nEpoch 9/100\n60000/60000 [==============================] - 4s 60us/step - loss: 0.2363 - accuracy: 0.9129\nEpoch 10/100\n60000/60000 [==============================] - 4s 60us/step - loss: 0.2271 - accuracy: 0.9167\nEpoch 11/100\n60000/60000 [==============================] - 4s 60us/step - loss: 0.2205 - accuracy: 0.9180\nEpoch 12/100\n60000/60000 [==============================] - 4s 60us/step - loss: 0.2153 - accuracy: 0.9201\nEpoch 13/100\n60000/60000 [==============================] - 4s 60us/step - loss: 0.2063 - accuracy: 0.9227\nEpoch 14/100\n60000/60000 [==============================] - 4s 60us/step - loss: 0.2020 - accuracy: 0.9242\nEpoch 15/100\n60000/60000 [==============================] - 4s 60us/step - loss: 0.1938 - accuracy: 0.9267\nEpoch 16/100\n60000/60000 [==============================] - 4s 60us/step - loss: 0.1902 - accuracy: 0.9282\nEpoch 17/100\n60000/60000 [==============================] - 4s 60us/step - loss: 0.1823 - accuracy: 0.9325\nEpoch 18/100\n60000/60000 [==============================] - 4s 62us/step - loss: 0.1785 - accuracy: 0.9328\nEpoch 19/100\n60000/60000 [==============================] - 4s 61us/step - loss: 0.1720 - accuracy: 0.9365\nEpoch 20/100\n60000/60000 [==============================] - 4s 61us/step - loss: 0.1661 - accuracy: 0.9380\nEpoch 21/100\n60000/60000 [==============================] - 4s 61us/step - loss: 0.1616 - accuracy: 0.9382\nEpoch 22/100\n60000/60000 [==============================] - 4s 62us/step - loss: 0.1570 - accuracy: 0.9410\nEpoch 23/100\n60000/60000 [==============================] - 4s 61us/step - loss: 0.1537 - accuracy: 0.9419\nEpoch 24/100\n60000/60000 [==============================] - 4s 61us/step - loss: 0.1511 - accuracy: 0.9425\nEpoch 25/100\n60000/60000 [==============================] - 4s 60us/step - loss: 0.1455 - accuracy: 0.9449\nEpoch 26/100\n60000/60000 [==============================] - 4s 60us/step - loss: 0.1412 - accuracy: 0.9462\nEpoch 27/100\n60000/60000 [==============================] - 4s 61us/step - loss: 0.1381 - accuracy: 0.9483\nEpoch 28/100\n60000/60000 [==============================] - 4s 61us/step - loss: 0.1334 - accuracy: 0.9499\nEpoch 29/100\n60000/60000 [==============================] - 4s 61us/step - loss: 0.1300 - accuracy: 0.9502\nEpoch 30/100\n60000/60000 [==============================] - 4s 59us/step - loss: 0.1260 - accuracy: 0.9522\nEpoch 31/100\n60000/60000 [==============================] - 3s 58us/step - loss: 0.1230 - accuracy: 0.9529\nEpoch 32/100\n60000/60000 [==============================] - 3s 57us/step - loss: 0.1196 - accuracy: 0.9542\nEpoch 33/100\n60000/60000 [==============================] - 3s 57us/step - loss: 0.1182 - accuracy: 0.9551\nEpoch 34/100\n60000/60000 [==============================] - 3s 58us/step - loss: 0.1139 - accuracy: 0.9562\nEpoch 35/100\n60000/60000 [==============================] - 3s 58us/step - loss: 0.1090 - accuracy: 0.9589\nEpoch 36/100\n60000/60000 [==============================] - 3s 57us/step - loss: 0.1094 - accuracy: 0.9576\nEpoch 37/100\n60000/60000 [==============================] - 3s 57us/step - loss: 0.1073 - accuracy: 0.9590\nEpoch 38/100\n60000/60000 [==============================] - 3s 57us/step - loss: 0.1042 - accuracy: 0.9603\nEpoch 39/100\n60000/60000 [==============================] - 3s 57us/step - loss: 0.0994 - accuracy: 0.9618\nEpoch 40/100\n60000/60000 [==============================] - 3s 57us/step - loss: 0.0974 - accuracy: 0.9630\nEpoch 41/100\n60000/60000 [==============================] - 3s 57us/step - loss: 0.0940 - accuracy: 0.9634\nEpoch 42/100\n60000/60000 [==============================] - 3s 57us/step - loss: 0.0937 - accuracy: 0.9645\nEpoch 43/100\n60000/60000 [==============================] - 3s 57us/step - loss: 0.0846 - accuracy: 0.9672\nEpoch 44/100\n60000/60000 [==============================] - 3s 57us/step - loss: 0.0878 - accuracy: 0.9668\nEpoch 45/100\n60000/60000 [==============================] - 3s 57us/step - loss: 0.0869 - accuracy: 0.9661\nEpoch 46/100\n60000/60000 [==============================] - 4s 59us/step - loss: 0.0833 - accuracy: 0.9675\nEpoch 47/100\n60000/60000 [==============================] - 4s 59us/step - loss: 0.0840 - accuracy: 0.9677\nEpoch 48/100\n60000/60000 [==============================] - 4s 58us/step - loss: 0.0768 - accuracy: 0.9701\nEpoch 49/100\n60000/60000 [==============================] - 3s 58us/step - loss: 0.0769 - accuracy: 0.9701\nEpoch 50/100\n60000/60000 [==============================] - 3s 58us/step - loss: 0.0788 - accuracy: 0.9692\nEpoch 51/100\n60000/60000 [==============================] - 3s 58us/step - loss: 0.0752 - accuracy: 0.9702\nEpoch 52/100\n60000/60000 [==============================] - 3s 58us/step - loss: 0.0771 - accuracy: 0.9699\nEpoch 53/100\n60000/60000 [==============================] - 3s 58us/step - loss: 0.0715 - accuracy: 0.9730\nEpoch 54/100\n60000/60000 [==============================] - 3s 58us/step - loss: 0.0696 - accuracy: 0.9728\nEpoch 55/100\n60000/60000 [==============================] - 3s 58us/step - loss: 0.0676 - accuracy: 0.9744\nEpoch 56/100\n60000/60000 [==============================] - 3s 58us/step - loss: 0.0672 - accuracy: 0.9746\nEpoch 57/100\n60000/60000 [==============================] - 4s 60us/step - loss: 0.0682 - accuracy: 0.9737\nEpoch 58/100\n60000/60000 [==============================] - 4s 60us/step - loss: 0.0667 - accuracy: 0.9747\nEpoch 59/100\n60000/60000 [==============================] - 4s 60us/step - loss: 0.0635 - accuracy: 0.9755\nEpoch 60/100\n60000/60000 [==============================] - 4s 59us/step - loss: 0.0660 - accuracy: 0.9744\nEpoch 61/100\n60000/60000 [==============================] - 4s 59us/step - loss: 0.0609 - accuracy: 0.9761\nEpoch 62/100\n60000/60000 [==============================] - 4s 59us/step - loss: 0.0622 - accuracy: 0.9755\nEpoch 63/100\n60000/60000 [==============================] - 4s 59us/step - loss: 0.0587 - accuracy: 0.9771\nEpoch 64/100\n60000/60000 [==============================] - 4s 59us/step - loss: 0.0594 - accuracy: 0.9763\nEpoch 65/100\n60000/60000 [==============================] - 4s 59us/step - loss: 0.0564 - accuracy: 0.9778\nEpoch 66/100\n60000/60000 [==============================] - 4s 58us/step - loss: 0.0520 - accuracy: 0.9798\nEpoch 67/100\n60000/60000 [==============================] - 4s 58us/step - loss: 0.0553 - accuracy: 0.9790\nEpoch 68/100\n60000/60000 [==============================] - 4s 58us/step - loss: 0.0546 - accuracy: 0.9789\nEpoch 69/100\n60000/60000 [==============================] - 4s 58us/step - loss: 0.0550 - accuracy: 0.9787\nEpoch 70/100\n60000/60000 [==============================] - 3s 58us/step - loss: 0.0527 - accuracy: 0.9794\nEpoch 71/100\n60000/60000 [==============================] - 4s 58us/step - loss: 0.0555 - accuracy: 0.9787\nEpoch 72/100\n60000/60000 [==============================] - 4s 59us/step - loss: 0.0496 - accuracy: 0.9811\nEpoch 73/100\n60000/60000 [==============================] - 3s 58us/step - loss: 0.0515 - accuracy: 0.9799\nEpoch 74/100\n60000/60000 [==============================] - 4s 59us/step - loss: 0.0487 - accuracy: 0.9804\nEpoch 75/100\n60000/60000 [==============================] - 4s 59us/step - loss: 0.0481 - accuracy: 0.9820\nEpoch 76/100\n60000/60000 [==============================] - 4s 60us/step - loss: 0.0471 - accuracy: 0.9818\nEpoch 77/100\n60000/60000 [==============================] - 4s 58us/step - loss: 0.0474 - accuracy: 0.9820\nEpoch 78/100\n60000/60000 [==============================] - 4s 59us/step - loss: 0.0460 - accuracy: 0.9822\nEpoch 79/100\n60000/60000 [==============================] - 4s 59us/step - loss: 0.0493 - accuracy: 0.9810\nEpoch 80/100\n60000/60000 [==============================] - 4s 59us/step - loss: 0.0472 - accuracy: 0.9822\nEpoch 81/100\n60000/60000 [==============================] - 4s 60us/step - loss: 0.0472 - accuracy: 0.9819\nEpoch 82/100\n60000/60000 [==============================] - 4s 59us/step - loss: 0.0472 - accuracy: 0.9820\nEpoch 83/100\n60000/60000 [==============================] - 4s 59us/step - loss: 0.0437 - accuracy: 0.9828\nEpoch 84/100\n60000/60000 [==============================] - 4s 59us/step - loss: 0.0434 - accuracy: 0.9835\nEpoch 85/100\n60000/60000 [==============================] - 4s 59us/step - loss: 0.0426 - accuracy: 0.9836\nEpoch 86/100\n60000/60000 [==============================] - 4s 58us/step - loss: 0.0494 - accuracy: 0.9816\nEpoch 87/100\n60000/60000 [==============================] - 4s 58us/step - loss: 0.0425 - accuracy: 0.9836\nEpoch 88/100\n60000/60000 [==============================] - 4s 59us/step - loss: 0.0431 - accuracy: 0.9833\nEpoch 89/100\n60000/60000 [==============================] - 4s 60us/step - loss: 0.0439 - accuracy: 0.9828\nEpoch 90/100\n60000/60000 [==============================] - 4s 60us/step - loss: 0.0394 - accuracy: 0.9847\nEpoch 91/100\n60000/60000 [==============================] - 4s 60us/step - loss: 0.0417 - accuracy: 0.9845\nEpoch 92/100\n60000/60000 [==============================] - 4s 60us/step - loss: 0.0426 - accuracy: 0.9838\nEpoch 93/100\n60000/60000 [==============================] - 4s 59us/step - loss: 0.0390 - accuracy: 0.9849\nEpoch 94/100\n60000/60000 [==============================] - 4s 59us/step - loss: 0.0372 - accuracy: 0.9860\nEpoch 95/100\n60000/60000 [==============================] - 4s 59us/step - loss: 0.0393 - accuracy: 0.9853\nEpoch 96/100\n60000/60000 [==============================] - 4s 59us/step - loss: 0.0409 - accuracy: 0.9844\nEpoch 97/100\n60000/60000 [==============================] - 4s 59us/step - loss: 0.0388 - accuracy: 0.9851\nEpoch 98/100\n60000/60000 [==============================] - 4s 58us/step - loss: 0.0360 - accuracy: 0.9865\nEpoch 99/100\n60000/60000 [==============================] - 4s 59us/step - loss: 0.0388 - accuracy: 0.9853\nEpoch 100/100\n60000/60000 [==============================] - 4s 60us/step - loss: 0.0349 - accuracy: 0.9866\nWall time: 5min 55s\n"
    }
   ],
   "source": [
    "%%time\n",
    "\n",
    "nodes = 200\n",
    "learning_rate = 0.05\n",
    "epochs = 100\n",
    "batch_size=250\n",
    "\n",
    "network = fit_model(X, y, nodes, learning_rate, epochs, batch_size)"
   ]
  },
  {
   "cell_type": "code",
   "execution_count": 228,
   "metadata": {},
   "outputs": [],
   "source": [
    "# predict with the fit model\n",
    "def model_predict(model, testdata):\n",
    "    Prediction = model.predict(testdata, verbose=0)\n",
    "    return Prediction\n",
    "\n",
    "# Calculate accuracy percentage\n",
    "def accuracy_metric(actual, predicted):\n",
    "    correct = 0\n",
    "    for i in range(len(actual)):\n",
    "        if actual[i] == predicted[i]:\n",
    "            correct += 1\n",
    "    return correct / float(len(actual)) * 100.0"
   ]
  },
  {
   "cell_type": "code",
   "execution_count": 247,
   "metadata": {
    "tags": []
   },
   "outputs": [
    {
     "output_type": "stream",
     "name": "stdout",
     "text": "[array([0, 1, 2, 3, 4, 5, 6, 7, 8, 9], dtype=int64)]\n"
    }
   ],
   "source": [
    "test = pd.read_csv(\"fashion-mnist_test.csv\")\n",
    "test_y = test[\"label\"].to_numpy().reshape(-1,1)\n",
    "\n",
    "ohe = OneHotEncoder(categories=\"auto\", sparse=False, dtype=np.int16)\n",
    "ohe.fit(test_y)\n",
    "print(ohe.categories_)\n",
    "test_y = ohe.transform(test_y)\n",
    "\n",
    "test_X = test.drop(\"label\", axis=1)\n",
    "test_X = test_X.to_numpy().reshape(-1, 28, 28, 1)\n",
    "del test"
   ]
  },
  {
   "cell_type": "code",
   "execution_count": 253,
   "metadata": {
    "tags": []
   },
   "outputs": [
    {
     "output_type": "stream",
     "name": "stdout",
     "text": "Accuracy: 64.07000000000001%\nWall time: 557 ms\n"
    }
   ],
   "source": [
    "%%time\n",
    "\n",
    "prediction = model_predict(network, test_X)\n",
    "\n",
    "PredClass = list()\n",
    "ActualClass = list()\n",
    "for row in range(len(test_y)):\n",
    "    index_maxscore1 = max(range(len(test_y[row])), key=test_y[row].__getitem__)\n",
    "    ActualClass.append(index_maxscore1)\n",
    "    index_maxscore2 = max(range(len(prediction[row])), key=prediction[row].__getitem__)\n",
    "    PredClass.append(index_maxscore2)\n",
    "    # print('Expected=%d, Got=%d' % (index_maxscore1, index_maxscore2))\n",
    "\n",
    "\n",
    "accuracy = accuracy_metric(PredClass, ActualClass)\n",
    "print(\"Accuracy: \" + str(accuracy) + \"%\")"
   ]
  },
  {
   "cell_type": "markdown",
   "metadata": {},
   "source": [
    "100 Nodes network accuracy: 60.540000000000006%\n",
    "\n",
    "200 Nodes network accuracy: 64.07000000000001%"
   ]
  }
 ]
}