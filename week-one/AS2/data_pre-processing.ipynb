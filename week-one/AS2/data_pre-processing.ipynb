{
 "metadata": {
  "language_info": {
   "codemirror_mode": {
    "name": "ipython",
    "version": 3
   },
   "file_extension": ".py",
   "mimetype": "text/x-python",
   "name": "python",
   "nbconvert_exporter": "python",
   "pygments_lexer": "ipython3",
   "version": "3.8.5-final"
  },
  "orig_nbformat": 2,
  "kernelspec": {
   "name": "python_defaultSpec_1598343903934",
   "display_name": "Python 3.8.5 32-bit"
  }
 },
 "nbformat": 4,
 "nbformat_minor": 2,
 "cells": [
  {
   "cell_type": "code",
   "execution_count": 14,
   "metadata": {
    "tags": []
   },
   "outputs": [
    {
     "output_type": "stream",
     "name": "stdout",
     "text": "Creating directory\nDownloading file\nSaving to given destination\n"
    }
   ],
   "source": [
    "## Task 1\n",
    "# Fetching data\n",
    "# Write a function that \n",
    "# a: creates a directory in my workspace\n",
    "# b: downloads the housing dataset from https://github.com/ageron/handson-ml/tree/master/\n",
    "import pandas as pd\n",
    "import os\n",
    "import requests\n",
    "\n",
    "file_url = \"https://raw.githubusercontent.com/ageron/handson-ml/master/datasets/housing/housing.csv\"\n",
    "file_destination = \"data\"\n",
    "file_name = \"housing.csv\"\n",
    "\n",
    "\n",
    "\n",
    "def get_dataset_from_online(url, destination, file_name):\n",
    "    if not os.path.exists(destination):\n",
    "        print(\"Creating directory\")\n",
    "        os.mkdir(destination)\n",
    "    else:\n",
    "        print(\"Directory already exists\")\n",
    "\n",
    "    file_path = os.path.join(destination, file_name)\n",
    "    if not os.path.exists(file_path):\n",
    "        print(\"Downloading file\")\n",
    "\n",
    "        req = requests.get(file_url, stream=True)\n",
    "        if req.ok:\n",
    "            print(\"Saving to given destination\")\n",
    "            with open(file_path, \"wb\") as f:\n",
    "                for chunk in req.iter_content(chunk_size=1024*8):\n",
    "                    if chunk:\n",
    "                        f.write(chunk)\n",
    "                        f.flush()\n",
    "                        os.fsync(f.fileno())\n",
    "        else:\n",
    "            print(f\"Download failed: status code {req.status_code}\\n{req.text}\")\n",
    "    else:\n",
    "        print(\"File already exists, cancelling\")\n",
    "\n",
    "get_dataset_from_online(file_url, file_destination, file_name)"
   ]
  },
  {
   "cell_type": "code",
   "execution_count": null,
   "metadata": {},
   "outputs": [],
   "source": [
    "## Task 2\n",
    "# Fetching data\n"
   ]
  }
 ]
}