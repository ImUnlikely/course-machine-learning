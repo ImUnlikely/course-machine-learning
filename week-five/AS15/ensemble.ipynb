{
 "metadata": {
  "language_info": {
   "codemirror_mode": {
    "name": "ipython",
    "version": 3
   },
   "file_extension": ".py",
   "mimetype": "text/x-python",
   "name": "python",
   "nbconvert_exporter": "python",
   "pygments_lexer": "ipython3",
   "version": "3.8.2-final"
  },
  "orig_nbformat": 2,
  "kernelspec": {
   "name": "python38264bitc4b27e4dae3c4699860ff02916ead089",
   "display_name": "Python 3.8.2 64-bit"
  }
 },
 "nbformat": 4,
 "nbformat_minor": 2,
 "cells": [
  {
   "cell_type": "code",
   "execution_count": 33,
   "metadata": {
    "tags": []
   },
   "outputs": [
    {
     "output_type": "stream",
     "name": "stdout",
     "text": "d:\\GitRepos\\course-machine-learning\\week-five\\AS15\n"
    }
   ],
   "source": [
    "import pandas as pd\n",
    "import os\n",
    "import numpy as np\n",
    "from numpy import array\n",
    "from sklearn.model_selection import train_test_split\n",
    "from sklearn.model_selection import KFold\n",
    "from sklearn.neighbors import KNeighborsClassifier\n",
    "from sklearn.tree import DecisionTreeClassifier\n",
    "from sklearn.svm import SVC\n",
    "from sklearn.linear_model import LogisticRegressionCV\n",
    "\n",
    "\n",
    "print(os.getcwd())\n",
    "\n",
    "random_state = 127653"
   ]
  },
  {
   "cell_type": "code",
   "execution_count": null,
   "metadata": {},
   "outputs": [],
   "source": []
  },
  {
   "cell_type": "code",
   "execution_count": 34,
   "metadata": {},
   "outputs": [],
   "source": [
    "def define_models(models=dict()):\n",
    "    models[\"knn\"] = KNeighborsClassifier(n_neighbors=3)\n",
    "    models[\"tree\"] = DecisionTreeClassifier()\n",
    "    models[\"svm\"] = SVC(C=1, kernel=\"rbf\", gamma=\"scale\")\n",
    "    return models\n",
    "\n",
    "def fit_model(X_train, y_train, model):\n",
    "    model.fit(X_train, y_train)\n",
    "    return model\n",
    "\n",
    "def based_models(X_train, y_train, models):\n",
    "    Based_models = dict()\n",
    "    for name, model in models.items():\n",
    "        Based_models[name] = fit_model(X_train, y_train, model)\n",
    "    return Based_models"
   ]
  },
  {
   "cell_type": "code",
   "execution_count": 35,
   "metadata": {},
   "outputs": [],
   "source": [
    "def stacked_dataset(Based_models, X_input):\n",
    "    X_stack = list()\n",
    "    for _, model in Based_models.items():\n",
    "        # Make predictions\n",
    "        y_pred = model.predict(X_input)\n",
    "        X_stack.append(y_pred)\n",
    "    X_stacked = array(X_stack)\n",
    "    X_stack = X_stacked.T\n",
    "    return X_stack\n",
    "\n",
    "def fit_stacked_model(Based_models, X_input, y_input):\n",
    "    # Create dataset using ensemble\n",
    "    X_stacked = stacked_dataset(Based_models, X_input)\n",
    "    # Fit Meta model\n",
    "    Meta_model = LogisticRegressionCV(C=0.5, solver=\"liblinear\")\n",
    "    Meta_model.fit(X_stacked, y_input)\n",
    "    return Meta_model\n",
    "\n",
    "def stacked_prediction(Based_models, Meta_model, X_input):\n",
    "    X_stacked = stacked_dataset(Based_models, X_input)\n",
    "    y_pred = Meta_model.predict(X_stacked)\n",
    "    return y_pred"
   ]
  },
  {
   "cell_type": "code",
   "execution_count": null,
   "metadata": {},
   "outputs": [],
   "source": []
  },
  {
   "cell_type": "code",
   "execution_count": 36,
   "metadata": {
    "tags": []
   },
   "outputs": [
    {
     "output_type": "stream",
     "name": "stdout",
     "text": "(1372, 4)\n(1372,)\n\n(1097, 4)\n(275, 4)\n(1097,)\n(275,)\n\n(878, 4)\n(219, 4)\n(878,)\n(219,)\n"
    }
   ],
   "source": [
    "# Load data into train, validation and test sets\n",
    "\n",
    "df = pd.read_csv(\"banknote_authentication.csv\", sep=\";\")\n",
    "\n",
    "X, y = df.drop(\"counterfeit\", axis=1), df[\"counterfeit\"]\n",
    "print(X.shape)\n",
    "print(y.shape)\n",
    "\n",
    "X_train, X_test, y_train, y_test = train_test_split(X, y, random_state=random_state, train_size=0.8, shuffle=True)\n",
    "print(\"\")\n",
    "print(X_train.shape)\n",
    "print(X_test.shape)\n",
    "print(y_train.shape)\n",
    "print(y_test.shape)\n",
    "\n",
    "X_train, X_test, y_train, y_test = array(X_train), array(X_test), array(y_train), array(y_test)\n",
    "\n",
    "kf = KFold(n_splits=5, random_state=random_state)\n",
    "\n",
    "for train, test in kf.split(X_train, y_train):\n",
    "    X_train_train, X_train_validate, y_train_train, y_train_validate = X_train[train], X_train[test], y_train[train], y_train[test]\n",
    "\n",
    "print(\"\")\n",
    "print(X_train_train.shape)\n",
    "print(X_train_validate.shape)\n",
    "print(y_train_train.shape)\n",
    "print(y_train_validate.shape)"
   ]
  },
  {
   "cell_type": "code",
   "execution_count": null,
   "metadata": {},
   "outputs": [],
   "source": []
  },
  {
   "cell_type": "code",
   "execution_count": null,
   "metadata": {},
   "outputs": [],
   "source": []
  }
 ]
}