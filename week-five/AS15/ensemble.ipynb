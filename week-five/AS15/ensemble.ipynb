{
 "metadata": {
  "language_info": {
   "codemirror_mode": {
    "name": "ipython",
    "version": 3
   },
   "file_extension": ".py",
   "mimetype": "text/x-python",
   "name": "python",
   "nbconvert_exporter": "python",
   "pygments_lexer": "ipython3",
   "version": "3.7.9-final"
  },
  "orig_nbformat": 2,
  "kernelspec": {
   "name": "tf-gpu",
   "display_name": "TensorFlow-GPU"
  }
 },
 "nbformat": 4,
 "nbformat_minor": 2,
 "cells": [
  {
   "cell_type": "code",
   "execution_count": 33,
   "metadata": {
    "tags": []
   },
   "outputs": [
    {
     "output_type": "stream",
     "name": "stdout",
     "text": "c:\\Users\\thomas.henno\\Desktop\\GitRepos\\course-machine-learning\\week-five\\AS15\n"
    }
   ],
   "source": [
    "import pandas as pd\n",
    "import os\n",
    "import numpy as np\n",
    "from numpy import array\n",
    "from sklearn.metrics import accuracy_score\n",
    "from sklearn.model_selection import train_test_split\n",
    "from sklearn.model_selection import KFold\n",
    "from sklearn.neighbors import KNeighborsClassifier\n",
    "from sklearn.tree import DecisionTreeClassifier\n",
    "from sklearn.svm import SVC\n",
    "from sklearn.linear_model import LogisticRegression\n",
    "\n",
    "\n",
    "print(os.getcwd())\n",
    "\n",
    "random_state = 127653"
   ]
  },
  {
   "cell_type": "code",
   "execution_count": null,
   "metadata": {},
   "outputs": [],
   "source": []
  },
  {
   "cell_type": "code",
   "execution_count": 34,
   "metadata": {},
   "outputs": [],
   "source": [
    "def define_models(models=dict()):\n",
    "    models[\"knn\"] = KNeighborsClassifier(n_neighbors=3)\n",
    "    models[\"tree\"] = DecisionTreeClassifier()\n",
    "    models[\"svm\"] = SVC(C=1, kernel=\"rbf\", gamma=\"scale\")\n",
    "    return models\n",
    "\n",
    "def fit_model(X_train, y_train, model):\n",
    "    model.fit(X_train, y_train)\n",
    "    return model\n",
    "\n",
    "def based_models(X_train, y_train, models):\n",
    "    Based_models = dict()\n",
    "    for name, model in models.items():\n",
    "        Based_models[name] = fit_model(X_train, y_train, model)\n",
    "    return Based_models"
   ]
  },
  {
   "cell_type": "code",
   "execution_count": 35,
   "metadata": {},
   "outputs": [],
   "source": [
    "def stacked_dataset(Based_models, X_input):\n",
    "    X_stack = list()\n",
    "    for _, model in Based_models.items():\n",
    "        # Make predictions\n",
    "        y_pred = model.predict(X_input)\n",
    "        X_stack.append(y_pred)\n",
    "    X_stacked = array(X_stack)\n",
    "    X_stack = X_stacked.T\n",
    "    return X_stack\n",
    "\n",
    "def fit_stacked_model(Based_models, X_input, y_input):\n",
    "    # Create dataset using ensemble\n",
    "    X_stacked = stacked_dataset(Based_models, X_input)\n",
    "    # Fit Meta model\n",
    "    Meta_model = LogisticRegression(C=0.5, solver=\"liblinear\")\n",
    "    Meta_model.fit(X_stacked, y_input)\n",
    "    return Meta_model\n",
    "\n",
    "def stacked_prediction(Based_models, Meta_model, X_input):\n",
    "    X_stacked = stacked_dataset(Based_models, X_input)\n",
    "    y_pred = Meta_model.predict(X_stacked)\n",
    "    return y_pred"
   ]
  },
  {
   "cell_type": "code",
   "execution_count": null,
   "metadata": {},
   "outputs": [],
   "source": []
  },
  {
   "cell_type": "code",
   "execution_count": 36,
   "metadata": {
    "tags": []
   },
   "outputs": [
    {
     "output_type": "stream",
     "name": "stdout",
     "text": "(877, 4)\n(220, 4)\n(877,)\n(220,)\n\n(275, 4)\n(275,)\n"
    }
   ],
   "source": [
    "# Load data into train, validation and test sets\n",
    "\n",
    "df = pd.read_csv(\"banknote_authentication.csv\", sep=\";\")\n",
    "\n",
    "X, y = df.drop(\"counterfeit\", axis=1), df[\"counterfeit\"]\n",
    "\n",
    "X_train, X_test, y_train, y_test = train_test_split(X, y, random_state=random_state, train_size=0.8, shuffle=True)\n",
    "\n",
    "X_train, X_test, y_train, y_test = array(X_train), array(X_test), array(y_train), array(y_test)\n",
    "\n",
    "kf = KFold(n_splits=5, random_state=random_state)\n",
    "\n",
    "for train, test in kf.split(X_train, y_train):\n",
    "    X_train_train, X_train_validate, y_train_train, y_train_validate = X_train[train], X_train[test], y_train[train], y_train[test]\n",
    "    break # We only want one iteration\n",
    "\n",
    "print(X_train_train.shape)\n",
    "print(X_train_validate.shape)\n",
    "print(y_train_train.shape)\n",
    "print(y_train_validate.shape)\n",
    "print(\"\")\n",
    "print(X_test.shape)\n",
    "print(y_test.shape)\n",
    "\n",
    "del X\n",
    "del y\n",
    "del X_train\n",
    "del y_train"
   ]
  },
  {
   "cell_type": "code",
   "execution_count": 38,
   "metadata": {
    "tags": []
   },
   "outputs": [
    {
     "output_type": "stream",
     "name": "stdout",
     "text": "{'knn': KNeighborsClassifier(n_neighbors=3), 'tree': DecisionTreeClassifier(), 'svm': SVC(C=1)}\n{'knn': KNeighborsClassifier(n_neighbors=3), 'tree': DecisionTreeClassifier(), 'svm': SVC(C=1)}\n>knn: 100.000\n>tree: 97.727\n>svm: 99.545\nStacked Test accuracy: 1.000\n"
    }
   ],
   "source": [
    "models = define_models(models=dict())\n",
    "print(models)\n",
    "Based_model = based_models(X_train_train, y_train_train, models)\n",
    "print(Based_model)\n",
    "\n",
    "results = dict()\n",
    "for name, model in Based_model.items():\n",
    "    y_pred = model.predict(X_train_validate)\n",
    "    # Evaluate predictions on validation set\n",
    "    accuracy = accuracy_score(y_train_validate, y_pred)\n",
    "    results[name] = accuracy * 100\n",
    "    print(\">%s: %.3f\" % (name, results[name]))\n",
    "\n",
    "# Fit stacked model using the ensemble\n",
    "Meta_model = fit_stacked_model(Based_model, X_train_train, y_train_train)\n",
    "\n",
    "# Evaluate model on test set\n",
    "y_pred = stacked_prediction(Based_model, Meta_model, X_test)\n",
    "acc = accuracy_score(y_test, y_pred)\n",
    "print(\"Stacked Test accuracy: %.3f\" % acc)"
   ]
  },
  {
   "cell_type": "code",
   "execution_count": 30,
   "metadata": {},
   "outputs": [],
   "source": []
  }
 ]
}