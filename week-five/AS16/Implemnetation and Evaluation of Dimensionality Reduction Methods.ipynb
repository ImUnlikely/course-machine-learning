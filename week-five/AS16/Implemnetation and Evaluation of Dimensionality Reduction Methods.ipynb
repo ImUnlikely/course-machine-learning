{
 "cells": [
  {
   "cell_type": "markdown",
   "metadata": {},
   "source": [
    "**Evaluation of different Dimensionality Reduction Methods"
   ]
  },
  {
   "cell_type": "code",
   "execution_count": null,
   "metadata": {},
   "outputs": [],
   "source": [
    "# example of pca for dimensionality reduction\n",
    "from sklearn.datasets import make_classification\n",
    "from sklearn.decomposition import PCA\n",
    "from sklearn.decomposition import TruncatedSVD\n",
    "from sklearn.manifold import Isomap\n",
    "from sklearn.linear_model import LogisticRegression\n",
    "from sklearn.metrics import accuracy_score\n",
    "from sklearn.model_selection import train_test_split\n",
    "import time"
   ]
  },
  {
   "cell_type": "code",
   "execution_count": null,
   "metadata": {},
   "outputs": [],
   "source": [
    "# define dataset\n",
    "X, y = make_classification(n_samples=1000, n_features=500, n_informative=20, n_redundant=480, random_state=7)\n",
    "\n",
    "X_train, X_test, y_train, y_test = train_test_split(X, y, test_size=0.2, shuffle=False)"
   ]
  },
  {
   "cell_type": "code",
   "execution_count": null,
   "metadata": {},
   "outputs": [],
   "source": [
    "# define the transform\n",
    "trans = PCA(n_components=20)\n",
    "# transform the data\n",
    "X_PCA = trans.fit_transform(X)\n",
    "# summarize data after the transform\n",
    "#print(X_PCA[:3, :])\n",
    "X_trainPCA, X_testPCA, y_train, y_test = train_test_split(X_PCA, y, test_size=0.2, shuffle=False)"
   ]
  },
  {
   "cell_type": "code",
   "execution_count": null,
   "metadata": {},
   "outputs": [],
   "source": [
    "# define the transform\n",
    "trans = TruncatedSVD(n_components=20)\n",
    "# transform the data\n",
    "X_SVD = trans.fit_transform(X)\n",
    "# summarize data after the transform\n",
    "#print(X_SVD[:3, :])\n",
    "X_trainSVD, X_testSVD, y_train, y_test = train_test_split(X_SVD, y, test_size=0.2, shuffle=False)"
   ]
  },
  {
   "cell_type": "code",
   "execution_count": null,
   "metadata": {},
   "outputs": [],
   "source": [
    "# define the transform\n",
    "trans = Isomap(n_components=20)\n",
    "# transform the data\n",
    "X_Iso = trans.fit_transform(X)\n",
    "# summarize data after the transform\n",
    "#print(X_Iso[:3, :])\n",
    "X_trainIso, X_testIso, y_train, y_test = train_test_split(X_Iso, y, test_size=0.2, shuffle=False)"
   ]
  },
  {
   "cell_type": "code",
   "execution_count": null,
   "metadata": {},
   "outputs": [],
   "source": [
    "start_time = time.time()\n",
    "model = LogisticRegression(solver='liblinear', multi_class='auto')\n",
    "NoRedu_Model = model.fit(X_train, y_train)\n",
    "print(\"--- %s seconds ---\" % (time.time() - start_time))"
   ]
  },
  {
   "cell_type": "code",
   "execution_count": null,
   "metadata": {},
   "outputs": [],
   "source": [
    "start_time = time.time()\n",
    "model = LogisticRegression(solver='liblinear', multi_class='auto')\n",
    "PCA_Model = model.fit(X_trainPCA, y_train)\n",
    "print(\"--- %s seconds ---\" % (time.time() - start_time))"
   ]
  },
  {
   "cell_type": "code",
   "execution_count": null,
   "metadata": {},
   "outputs": [],
   "source": [
    "start_time = time.time()\n",
    "model = LogisticRegression(solver='liblinear', multi_class='auto')\n",
    "SVD_Model = model.fit(X_trainSVD, y_train)\n",
    "print(\"--- %s seconds ---\" % (time.time() - start_time))"
   ]
  },
  {
   "cell_type": "code",
   "execution_count": null,
   "metadata": {},
   "outputs": [],
   "source": [
    "start_time = time.time()\n",
    "model = LogisticRegression(solver='liblinear', multi_class='auto')\n",
    "Iso_Model = model.fit(X_trainIso, y_train)\n",
    "print(\"--- %s seconds ---\" % (time.time() - start_time))"
   ]
  },
  {
   "cell_type": "code",
   "execution_count": null,
   "metadata": {},
   "outputs": [],
   "source": [
    "yhat = NoRedu_Model.predict(X_test)\n",
    "accuracy = accuracy_score(y_test, yhat)\n",
    "NoRedu_Acc = accuracy * 100.0\n",
    "print('>%s: %.3f' % (\"NoRedu\", NoRedu_Acc))\n",
    "\n",
    "\n",
    "yhat = PCA_Model.predict(X_testPCA)\n",
    "accuracy = accuracy_score(y_test, yhat)\n",
    "PCA_Acc = accuracy * 100.0\n",
    "print('>%s: %.3f' % (\"PCA\", PCA_Acc))\n",
    "\n",
    "\n",
    "yhat = SVD_Model.predict(X_testSVD)\n",
    "accuracy = accuracy_score(y_test, yhat)\n",
    "SVD_Acc = accuracy * 100.0\n",
    "print('>%s: %.3f' % (\"SVD\", SVD_Acc))\n",
    "\n",
    "\n",
    "yhat = Iso_Model.predict(X_testIso)\n",
    "accuracy = accuracy_score(y_test, yhat)\n",
    "Iso_Acc = accuracy * 100.0\n",
    "print('>%s: %.3f' % (\"Isomap\", Iso_Acc))"
   ]
  },
  {
   "cell_type": "code",
   "execution_count": null,
   "metadata": {},
   "outputs": [],
   "source": []
  }
 ],
 "metadata": {
  "kernelspec": {
   "display_name": "TensorFlow-GPU",
   "language": "python",
   "name": "tensorflow-gpu-keras"
  },
  "language_info": {
   "codemirror_mode": {
    "name": "ipython",
    "version": 3
   },
   "file_extension": ".py",
   "mimetype": "text/x-python",
   "name": "python",
   "nbconvert_exporter": "python",
   "pygments_lexer": "ipython3",
   "version": "3.6.7"
  }
 },
 "nbformat": 4,
 "nbformat_minor": 2
}
